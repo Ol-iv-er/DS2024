{
 "cells": [
  {
   "cell_type": "markdown",
   "id": "ec4eeb1b",
   "metadata": {},
   "source": [
    "## Beginner Projects"
   ]
  },
  {
   "cell_type": "code",
   "execution_count": 4,
   "id": "608be7f1",
   "metadata": {},
   "outputs": [
    {
     "name": "stdout",
     "output_type": "stream",
     "text": [
      "Enter a Phrase: The cat in the hat\n",
      " TCITH\n"
     ]
    }
   ],
   "source": [
    "## Acronym Generator\n",
    "user_input = str(input(\"Enter a Phrase: \"))\n",
    "text = user_input.split()\n",
    "a = \" \"\n",
    "for i in text:\n",
    "    a = a+str(i[0]).upper()\n",
    "print(a)"
   ]
  },
  {
   "cell_type": "code",
   "execution_count": null,
   "id": "8502934b",
   "metadata": {},
   "outputs": [],
   "source": [
    "## Alarm Clock\n",
    "from datetime import datetime\n",
    "#from playsound import playsound\n",
    "\n",
    "not_vaild_input = True\n",
    "while not_vaild_input:\n",
    "    try:\n",
    "        alarm_time = str(input(\"Enter the time of alarm to be set: HH MM (AM/PM)\"))\n",
    "        alarm = alarm_time.split(\" \")\n",
    "        alarm_hour = int(alarm[0])\n",
    "        alarm_minute = int(alarm[1])\n",
    "        alarm_period = alarm[2].upper()\n",
    "        # not_vaild_input = False\n",
    "    except ValueError:\n",
    "        print(\"\\n\")\n",
    "        print(\"Please use numeric values!\")\n",
    "        not_vaild_input = True\n",
    "    except IndexError:\n",
    "        print(\"\\n\")\n",
    "        print(\"Please use the format provided!\")\n",
    "        not_vaild_input = True\n",
    "    else:\n",
    "        break\n",
    "        \n",
    "if alarm == PM:\n",
    "    alarm_hour += 12\n",
    "\n",
    "while True:\n",
    "    current_time = datetime.now()\n",
    "    current_hour = current_time.hour\n",
    "    current_minute = current_time.minute\n",
    "    \n",
    "    if (current_hour, current_minute) == (alarm_hour, alarm_minute):\n",
    "        print(\"Wake up!\".upper())\n",
    "        print(\"Wake up!\".upper())\n",
    "        print(\"Wake up!\".upper())\n",
    "        break\n",
    "\n"
   ]
  },
  {
   "cell_type": "code",
   "execution_count": 13,
   "id": "f273761f",
   "metadata": {},
   "outputs": [
    {
     "data": {
      "text/plain": [
       "True"
      ]
     },
     "execution_count": 13,
     "metadata": {},
     "output_type": "execute_result"
    }
   ],
   "source": [
    "(11,30) == (11,30)"
   ]
  },
  {
   "cell_type": "code",
   "execution_count": null,
   "id": "ffcd1a9e",
   "metadata": {},
   "outputs": [],
   "source": []
  }
 ],
 "metadata": {
  "kernelspec": {
   "display_name": "Python 3 (ipykernel)",
   "language": "python",
   "name": "python3"
  },
  "language_info": {
   "codemirror_mode": {
    "name": "ipython",
    "version": 3
   },
   "file_extension": ".py",
   "mimetype": "text/x-python",
   "name": "python",
   "nbconvert_exporter": "python",
   "pygments_lexer": "ipython3",
   "version": "3.11.5"
  }
 },
 "nbformat": 4,
 "nbformat_minor": 5
}
