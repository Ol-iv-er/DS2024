{
 "cells": [
  {
   "cell_type": "markdown",
   "id": "b021a362",
   "metadata": {},
   "source": [
    "# Filter Function in Python\n",
    "\n",
    "The filter() method filters the given sequence with the help of a function that tests each element in the sequence to be true or not. "
   ]
  },
  {
   "cell_type": "code",
   "execution_count": 11,
   "id": "033eeef8",
   "metadata": {},
   "outputs": [],
   "source": [
    "def even(num):\n",
    "    if num % 2 == 0:\n",
    "        return True"
   ]
  },
  {
   "cell_type": "code",
   "execution_count": 12,
   "id": "60396aa5",
   "metadata": {},
   "outputs": [],
   "source": [
    "lst = [x for x in range(0,11)]"
   ]
  },
  {
   "cell_type": "code",
   "execution_count": 13,
   "id": "9d385a79",
   "metadata": {},
   "outputs": [
    {
     "data": {
      "text/plain": [
       "[0, 2, 4, 6, 8, 10]"
      ]
     },
     "execution_count": 13,
     "metadata": {},
     "output_type": "execute_result"
    }
   ],
   "source": [
    "list(filter(even, lst)) # must be wrapped in a list function since the filter is not in initialized"
   ]
  },
  {
   "cell_type": "code",
   "execution_count": 14,
   "id": "7149146c",
   "metadata": {},
   "outputs": [
    {
     "data": {
      "text/plain": [
       "[0, 2, 4, 6, 8, 10]"
      ]
     },
     "execution_count": 14,
     "metadata": {},
     "output_type": "execute_result"
    }
   ],
   "source": [
    "list(filter(lambda num: num % 2 == 0, lst))"
   ]
  },
  {
   "cell_type": "code",
   "execution_count": 15,
   "id": "d7c59a9e",
   "metadata": {},
   "outputs": [
    {
     "data": {
      "text/plain": [
       "[True, False, True, False, True, False, True, False, True, False, True]"
      ]
     },
     "execution_count": 15,
     "metadata": {},
     "output_type": "execute_result"
    }
   ],
   "source": [
    "## compated to map function\n",
    "\n",
    "list(map(lambda num: num % 2 == 0, lst))"
   ]
  },
  {
   "cell_type": "markdown",
   "id": "393ca8c5",
   "metadata": {},
   "source": [
    "The map function is like apply in R and the filter is filtering."
   ]
  },
  {
   "cell_type": "code",
   "execution_count": null,
   "id": "0c626a5d",
   "metadata": {},
   "outputs": [],
   "source": []
  }
 ],
 "metadata": {
  "kernelspec": {
   "display_name": "Python 3 (ipykernel)",
   "language": "python",
   "name": "python3"
  },
  "language_info": {
   "codemirror_mode": {
    "name": "ipython",
    "version": 3
   },
   "file_extension": ".py",
   "mimetype": "text/x-python",
   "name": "python",
   "nbconvert_exporter": "python",
   "pygments_lexer": "ipython3",
   "version": "3.11.5"
  }
 },
 "nbformat": 4,
 "nbformat_minor": 5
}
