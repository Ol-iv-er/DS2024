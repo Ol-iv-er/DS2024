{
 "cells": [
  {
   "cell_type": "markdown",
   "id": "e4308480",
   "metadata": {},
   "source": [
    "## Building Machine Learning Pipeline: Data Analysis Phase\n",
    "\n",
    "We will focus on creating Machine Learning Pipelines considering all the lige cycle of a Data Science Project. This will be important for professtionals who have not worked with huge datasets."
   ]
  },
  {
   "cell_type": "markdown",
   "id": "f1603932",
   "metadata": {},
   "source": [
    "## Project name: House Prices- Advanced Regression Techniques\n",
    "\n",
    "The main ami of this project is to predict house price based on various features which we will dicuss as we go on."
   ]
  },
  {
   "cell_type": "markdown",
   "id": "85f44e8e",
   "metadata": {},
   "source": [
    "### Dataset to download\n",
    "\n",
    "[House Prices Dataset]()"
   ]
  }
 ],
 "metadata": {
  "kernelspec": {
   "display_name": "Python 3 (ipykernel)",
   "language": "python",
   "name": "python3"
  },
  "language_info": {
   "codemirror_mode": {
    "name": "ipython",
    "version": 3
   },
   "file_extension": ".py",
   "mimetype": "text/x-python",
   "name": "python",
   "nbconvert_exporter": "python",
   "pygments_lexer": "ipython3",
   "version": "3.11.5"
  }
 },
 "nbformat": 4,
 "nbformat_minor": 5
}
