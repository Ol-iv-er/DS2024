{
 "cells": [
  {
   "cell_type": "markdown",
   "id": "f8dc7784",
   "metadata": {},
   "source": [
    "# Python Exception Handling"
   ]
  },
  {
   "cell_type": "markdown",
   "id": "f5edc06d",
   "metadata": {},
   "source": [
    "The difference between errors and exceptions:\n",
    "- Errors are problems in the program due to which the program will stop the execution.\n",
    "    1. Syntax Errors, i.e. using inbuilt functions incorrecly\n",
    "- Exceptions are raised when some type of internal event occurs which changes the normal flow of the program.\n",
    "    1. Logical erros, i.e dividing by 0\n"
   ]
  },
  {
   "cell_type": "code",
   "execution_count": 2,
   "id": "8978550c",
   "metadata": {},
   "outputs": [
    {
     "ename": "NameError",
     "evalue": "name 'b' is not defined",
     "output_type": "error",
     "traceback": [
      "\u001b[0;31m---------------------------------------------------------------------------\u001b[0m",
      "\u001b[0;31mNameError\u001b[0m                                 Traceback (most recent call last)",
      "Cell \u001b[0;32mIn[2], line 1\u001b[0m\n\u001b[0;32m----> 1\u001b[0m a \u001b[38;5;241m=\u001b[39m b\n",
      "\u001b[0;31mNameError\u001b[0m: name 'b' is not defined"
     ]
    }
   ],
   "source": [
    "a = b # error"
   ]
  },
  {
   "cell_type": "code",
   "execution_count": 4,
   "id": "07843fd0",
   "metadata": {},
   "outputs": [
    {
     "name": "stdout",
     "output_type": "stream",
     "text": [
      "Some problem may have occured.\n"
     ]
    }
   ],
   "source": [
    "# Exception Handling \n",
    "\n",
    "try: \n",
    "    ## code block where exception can occur\n",
    "    a=b\n",
    "except:\n",
    "    print(\"Some problem may have occured.\")"
   ]
  },
  {
   "cell_type": "code",
   "execution_count": 5,
   "id": "58096eea",
   "metadata": {},
   "outputs": [],
   "source": [
    "# Exception can be made from the Exception class"
   ]
  },
  {
   "cell_type": "code",
   "execution_count": 9,
   "id": "b4329e6a",
   "metadata": {},
   "outputs": [
    {
     "name": "stdout",
     "output_type": "stream",
     "text": [
      "name 'b' is not defined\n"
     ]
    }
   ],
   "source": [
    "try: \n",
    "    ## code block where exception can occur\n",
    "    a=b\n",
    "except Exception as ex:\n",
    "    print(ex)"
   ]
  },
  {
   "cell_type": "markdown",
   "id": "17488547",
   "metadata": {},
   "source": [
    "We get the response from eariler using the Exception class"
   ]
  },
  {
   "cell_type": "code",
   "execution_count": 10,
   "id": "c82713be",
   "metadata": {},
   "outputs": [
    {
     "name": "stdout",
     "output_type": "stream",
     "text": [
      "The user have not defined the variable\n"
     ]
    }
   ],
   "source": [
    "try: \n",
    "    ## code block where exception can occur\n",
    "    a=b\n",
    "except NameError as ex1: # since we caught it here it prints our message\n",
    "    print(\"The user have not defined the variable\")\n",
    "except Exception as ex: # Use the parent class Exception at last to catch any unforseen error\n",
    "    print(ex)"
   ]
  },
  {
   "cell_type": "code",
   "execution_count": 13,
   "id": "33f7ac76",
   "metadata": {},
   "outputs": [
    {
     "name": "stdout",
     "output_type": "stream",
     "text": [
      "Try to make datatypes similar\n"
     ]
    }
   ],
   "source": [
    "try: \n",
    "    ## code block where exception can occur\n",
    "    a=1\n",
    "    b='s'\n",
    "    c=a+b\n",
    "except NameError as ex1: # since we caught it here it prints our message\n",
    "    print(\"The user have not defined the variable\")\n",
    "except TypeError as ex2:\n",
    "    print(\"Try to make datatypes similar\")\n",
    "except Exception as ex: # Use the parent class Exception at last to catch any unforseen error\n",
    "    print(ex)"
   ]
  },
  {
   "cell_type": "code",
   "execution_count": 17,
   "id": "9f8c7b5c",
   "metadata": {},
   "outputs": [
    {
     "name": "stdout",
     "output_type": "stream",
     "text": [
      "Enter the number 1 9\n",
      "Enter the number 2 0\n",
      "Please provide numbers greater than 0\n"
     ]
    }
   ],
   "source": [
    "try: \n",
    "    ## code block where exception can occur\n",
    "    a= int(input(\"Enter the number 1 \"))\n",
    "    b= int(input(\"Enter the number 2 \"))\n",
    "    c=a/b\n",
    "    d=a*b\n",
    "    e=a+b\n",
    "    print(c)\n",
    "    print(d)\n",
    "    print(e)\n",
    "except NameError as ex1: # since we caught it here it prints our message\n",
    "    print(\"The user have not defined the variable\")\n",
    "except ZeroDivisionError as ex3:\n",
    "    print(\"Please provide numbers greater than 0\")\n",
    "except TypeError as ex2:\n",
    "    print(\"Try to make datatypes similar\")\n",
    "except Exception as ex: # Use the general Exception class at last to catch any unforseen error\n",
    "    print(ex)"
   ]
  },
  {
   "cell_type": "code",
   "execution_count": 18,
   "id": "f8f6a5b9",
   "metadata": {},
   "outputs": [
    {
     "name": "stdout",
     "output_type": "stream",
     "text": [
      "Enter the number 1 12\n",
      "Enter the number 2 4\n",
      "3.0\n",
      "48\n",
      "16\n"
     ]
    }
   ],
   "source": [
    "try: \n",
    "    ## code block where exception can occur\n",
    "    a= int(input(\"Enter the number 1 \"))\n",
    "    b= int(input(\"Enter the number 2 \"))\n",
    "    c=a/b\n",
    "    d=a*b\n",
    "    e=a+b\n",
    "except NameError as ex1: # since we caught it here it prints our message\n",
    "    print(\"The user have not defined the variable\")\n",
    "except ZeroDivisionError as ex3:\n",
    "    print(\"Please provide numbers greater than 0\")\n",
    "except TypeError as ex2:\n",
    "    print(\"Try to make datatypes similar\")\n",
    "except Exception as ex: # Use the general Exception class at last to catch any unforseen error\n",
    "    print(ex)\n",
    "else: # If exception is triggered the else block will not execute\n",
    "    print(c)\n",
    "    print(d)\n",
    "    print(e)"
   ]
  },
  {
   "cell_type": "code",
   "execution_count": 19,
   "id": "c0239381",
   "metadata": {},
   "outputs": [
    {
     "name": "stdout",
     "output_type": "stream",
     "text": [
      "Enter the number 1 3\n",
      "Enter the number 2 0\n",
      "Please provide numbers greater than 0\n",
      "The excecution is done!\n"
     ]
    }
   ],
   "source": [
    "try: \n",
    "    ## code block where exception can occur\n",
    "    a= int(input(\"Enter the number 1 \"))\n",
    "    b= int(input(\"Enter the number 2 \"))\n",
    "    c=a/b\n",
    "    d=a*b\n",
    "    e=a+b\n",
    "except NameError as ex1: # since we caught it here it prints our message\n",
    "    print(\"The user have not defined the variable\")\n",
    "except ZeroDivisionError as ex3:\n",
    "    print(\"Please provide numbers greater than 0\")\n",
    "except TypeError as ex2:\n",
    "    print(\"Try to make datatypes similar\")\n",
    "except Exception as ex: # Use the general Exception class at last to catch any unforseen error\n",
    "    print(ex)\n",
    "else: # If exception is triggered the else block will not execute\n",
    "    print(c)\n",
    "    print(d)\n",
    "    print(e)\n",
    "finally:\n",
    "    print('The excecution is done!')"
   ]
  },
  {
   "cell_type": "markdown",
   "id": "c331749e",
   "metadata": {},
   "source": [
    "The finally clause is triggered at the end of every try and except, this good as for example when connectiong to a database you might run into some problems but at the end with the finally you can close the connection."
   ]
  }
 ],
 "metadata": {
  "kernelspec": {
   "display_name": "Python 3 (ipykernel)",
   "language": "python",
   "name": "python3"
  },
  "language_info": {
   "codemirror_mode": {
    "name": "ipython",
    "version": 3
   },
   "file_extension": ".py",
   "mimetype": "text/x-python",
   "name": "python",
   "nbconvert_exporter": "python",
   "pygments_lexer": "ipython3",
   "version": "3.11.5"
  }
 },
 "nbformat": 4,
 "nbformat_minor": 5
}
