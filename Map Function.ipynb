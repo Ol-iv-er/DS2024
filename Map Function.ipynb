{
 "cells": [
  {
   "cell_type": "markdown",
   "id": "2ed42f0e",
   "metadata": {},
   "source": [
    "# Map Function in Python"
   ]
  },
  {
   "cell_type": "code",
   "execution_count": 1,
   "id": "901b3cd8",
   "metadata": {},
   "outputs": [],
   "source": [
    "def even_odd(num):\n",
    "    if num % 2 == 0:\n",
    "        return '{} is even'.format(num)\n",
    "    else:\n",
    "        return '{} is odd'.format(num)"
   ]
  },
  {
   "cell_type": "code",
   "execution_count": 2,
   "id": "d151c978",
   "metadata": {},
   "outputs": [
    {
     "data": {
      "text/plain": [
       "'22 is even'"
      ]
     },
     "execution_count": 2,
     "metadata": {},
     "output_type": "execute_result"
    }
   ],
   "source": [
    "even_odd(22)"
   ]
  },
  {
   "cell_type": "code",
   "execution_count": 3,
   "id": "ed035528",
   "metadata": {},
   "outputs": [],
   "source": [
    "lst = [1,2,3,4,5,6,7,8,9,34,78,33]"
   ]
  },
  {
   "cell_type": "code",
   "execution_count": 4,
   "id": "202ce51d",
   "metadata": {},
   "outputs": [
    {
     "data": {
      "text/plain": [
       "['1 is odd',\n",
       " '2 is even',\n",
       " '3 is odd',\n",
       " '4 is even',\n",
       " '5 is odd',\n",
       " '6 is even',\n",
       " '7 is odd',\n",
       " '8 is even',\n",
       " '9 is odd',\n",
       " '34 is even',\n",
       " '78 is even',\n",
       " '33 is odd']"
      ]
     },
     "execution_count": 4,
     "metadata": {},
     "output_type": "execute_result"
    }
   ],
   "source": [
    "# we can apply the function on all the numbers in the list.\n",
    "\n",
    "list(map(even_odd, lst))"
   ]
  },
  {
   "cell_type": "code",
   "execution_count": 6,
   "id": "b7e4f9b5",
   "metadata": {},
   "outputs": [
    {
     "data": {
      "text/plain": [
       "['0 is even',\n",
       " '1 is odd',\n",
       " '2 is even',\n",
       " '3 is odd',\n",
       " '4 is even',\n",
       " '5 is odd',\n",
       " '6 is even',\n",
       " '7 is odd',\n",
       " '8 is even',\n",
       " '9 is odd',\n",
       " '10 is even',\n",
       " '11 is odd',\n",
       " '12 is even',\n",
       " '13 is odd',\n",
       " '14 is even',\n",
       " '15 is odd',\n",
       " '16 is even',\n",
       " '17 is odd',\n",
       " '18 is even',\n",
       " '19 is odd',\n",
       " '20 is even',\n",
       " '21 is odd',\n",
       " '22 is even',\n",
       " '23 is odd',\n",
       " '24 is even',\n",
       " '25 is odd',\n",
       " '26 is even',\n",
       " '27 is odd',\n",
       " '28 is even',\n",
       " '29 is odd',\n",
       " '30 is even',\n",
       " '31 is odd',\n",
       " '32 is even',\n",
       " '33 is odd',\n",
       " '34 is even',\n",
       " '35 is odd',\n",
       " '36 is even',\n",
       " '37 is odd',\n",
       " '38 is even',\n",
       " '39 is odd',\n",
       " '40 is even',\n",
       " '41 is odd',\n",
       " '42 is even',\n",
       " '43 is odd',\n",
       " '44 is even',\n",
       " '45 is odd',\n",
       " '46 is even',\n",
       " '47 is odd',\n",
       " '48 is even',\n",
       " '49 is odd',\n",
       " '50 is even',\n",
       " '51 is odd',\n",
       " '52 is even',\n",
       " '53 is odd',\n",
       " '54 is even',\n",
       " '55 is odd',\n",
       " '56 is even',\n",
       " '57 is odd',\n",
       " '58 is even',\n",
       " '59 is odd',\n",
       " '60 is even',\n",
       " '61 is odd',\n",
       " '62 is even',\n",
       " '63 is odd',\n",
       " '64 is even',\n",
       " '65 is odd',\n",
       " '66 is even',\n",
       " '67 is odd',\n",
       " '68 is even',\n",
       " '69 is odd',\n",
       " '70 is even',\n",
       " '71 is odd',\n",
       " '72 is even',\n",
       " '73 is odd',\n",
       " '74 is even',\n",
       " '75 is odd',\n",
       " '76 is even',\n",
       " '77 is odd',\n",
       " '78 is even',\n",
       " '79 is odd',\n",
       " '80 is even',\n",
       " '81 is odd',\n",
       " '82 is even',\n",
       " '83 is odd',\n",
       " '84 is even',\n",
       " '85 is odd',\n",
       " '86 is even',\n",
       " '87 is odd',\n",
       " '88 is even',\n",
       " '89 is odd',\n",
       " '90 is even',\n",
       " '91 is odd',\n",
       " '92 is even',\n",
       " '93 is odd',\n",
       " '94 is even',\n",
       " '95 is odd',\n",
       " '96 is even',\n",
       " '97 is odd',\n",
       " '98 is even',\n",
       " '99 is odd',\n",
       " '100 is even']"
      ]
     },
     "execution_count": 6,
     "metadata": {},
     "output_type": "execute_result"
    }
   ],
   "source": [
    "list(map(even_odd, [x for x in range(0,101)]))"
   ]
  },
  {
   "cell_type": "code",
   "execution_count": null,
   "id": "a0f72290",
   "metadata": {},
   "outputs": [],
   "source": []
  }
 ],
 "metadata": {
  "kernelspec": {
   "display_name": "Python 3 (ipykernel)",
   "language": "python",
   "name": "python3"
  },
  "language_info": {
   "codemirror_mode": {
    "name": "ipython",
    "version": 3
   },
   "file_extension": ".py",
   "mimetype": "text/x-python",
   "name": "python",
   "nbconvert_exporter": "python",
   "pygments_lexer": "ipython3",
   "version": "3.11.5"
  }
 },
 "nbformat": 4,
 "nbformat_minor": 5
}
