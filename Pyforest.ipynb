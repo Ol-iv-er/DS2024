{
 "cells": [
  {
   "cell_type": "markdown",
   "id": "e1a203d4",
   "metadata": {},
   "source": [
    "# Pyforest - lazy-import of all Python Data Science libraries\n",
    "\n",
    "pyforest lazy-imports all popular Python Data Science libraries so that they are always ther when you need them. If you dont use a library, it wont be imported. When you are done with your script, you can export the Python code for the import statements."
   ]
  },
  {
   "cell_type": "code",
   "execution_count": 6,
   "id": "d8e0f585",
   "metadata": {},
   "outputs": [
    {
     "data": {
      "application/javascript": [
       "\n",
       "        if (window._pyforest_update_imports_cell) { window._pyforest_update_imports_cell('import pandas as pd'); }\n",
       "    "
      ],
      "text/plain": [
       "<IPython.core.display.Javascript object>"
      ]
     },
     "metadata": {},
     "output_type": "display_data"
    }
   ],
   "source": [
    "website = 'https://en.wikipedia.org/wiki/2022_Winter_Olympics_medal_table'\n",
    "df = pd.read_html(website, match = 'Rank')"
   ]
  },
  {
   "cell_type": "code",
   "execution_count": 16,
   "id": "9adde515",
   "metadata": {},
   "outputs": [
    {
     "data": {
      "application/javascript": [
       "\n",
       "        if (window._pyforest_update_imports_cell) { window._pyforest_update_imports_cell('import pandas as pd'); }\n",
       "    "
      ],
      "text/plain": [
       "<IPython.core.display.Javascript object>"
      ]
     },
     "metadata": {},
     "output_type": "display_data"
    },
    {
     "data": {
      "text/plain": [
       "0                  Norway\n",
       "1                 Germany\n",
       "2           United States\n",
       "3                  China*\n",
       "4                  Sweden\n",
       "5             Netherlands\n",
       "6                 Austria\n",
       "7             Switzerland\n",
       "8                     ROC\n",
       "9                  France\n",
       "10                 Canada\n",
       "11                  Japan\n",
       "12                  Italy\n",
       "13            South Korea\n",
       "14               Slovenia\n",
       "15                Finland\n",
       "16            New Zealand\n",
       "17              Australia\n",
       "18          Great Britain\n",
       "19                Hungary\n",
       "20                Belgium\n",
       "21         Czech Republic\n",
       "22               Slovakia\n",
       "23                Belarus\n",
       "24                  Spain\n",
       "25                Ukraine\n",
       "26                Estonia\n",
       "27                 Latvia\n",
       "28                 Poland\n",
       "29    Totals (29 entries)\n",
       "Name: .mw-parser-output .tooltip-dotted{border-bottom:1px dotted;cursor:help}NOC, dtype: object"
      ]
     },
     "execution_count": 16,
     "metadata": {},
     "output_type": "execute_result"
    }
   ],
   "source": [
    "medals_df = pd.DataFrame(df[0])\n",
    "medals_df[medals_df.columns[1]]"
   ]
  },
  {
   "cell_type": "code",
   "execution_count": 11,
   "id": "4a52b0e9",
   "metadata": {},
   "outputs": [
    {
     "data": {
      "text/html": [
       "<div>\n",
       "<style scoped>\n",
       "    .dataframe tbody tr th:only-of-type {\n",
       "        vertical-align: middle;\n",
       "    }\n",
       "\n",
       "    .dataframe tbody tr th {\n",
       "        vertical-align: top;\n",
       "    }\n",
       "\n",
       "    .dataframe thead th {\n",
       "        text-align: right;\n",
       "    }\n",
       "</style>\n",
       "<table border=\"1\" class=\"dataframe\">\n",
       "  <thead>\n",
       "    <tr style=\"text-align: right;\">\n",
       "      <th></th>\n",
       "      <th>Rank</th>\n",
       "      <th>.mw-parser-output .tooltip-dotted{border-bottom:1px dotted;cursor:help}NOC</th>\n",
       "      <th>Gold</th>\n",
       "      <th>Silver</th>\n",
       "      <th>Bronze</th>\n",
       "      <th>Total</th>\n",
       "    </tr>\n",
       "  </thead>\n",
       "  <tbody>\n",
       "    <tr>\n",
       "      <th>0</th>\n",
       "      <td>1</td>\n",
       "      <td>Norway</td>\n",
       "      <td>16</td>\n",
       "      <td>8</td>\n",
       "      <td>13</td>\n",
       "      <td>37</td>\n",
       "    </tr>\n",
       "    <tr>\n",
       "      <th>1</th>\n",
       "      <td>2</td>\n",
       "      <td>Germany</td>\n",
       "      <td>12</td>\n",
       "      <td>10</td>\n",
       "      <td>5</td>\n",
       "      <td>27</td>\n",
       "    </tr>\n",
       "    <tr>\n",
       "      <th>2</th>\n",
       "      <td>3</td>\n",
       "      <td>United States</td>\n",
       "      <td>9</td>\n",
       "      <td>9</td>\n",
       "      <td>7</td>\n",
       "      <td>25</td>\n",
       "    </tr>\n",
       "    <tr>\n",
       "      <th>3</th>\n",
       "      <td>4</td>\n",
       "      <td>China*</td>\n",
       "      <td>9</td>\n",
       "      <td>4</td>\n",
       "      <td>2</td>\n",
       "      <td>15</td>\n",
       "    </tr>\n",
       "    <tr>\n",
       "      <th>4</th>\n",
       "      <td>5</td>\n",
       "      <td>Sweden</td>\n",
       "      <td>8</td>\n",
       "      <td>5</td>\n",
       "      <td>5</td>\n",
       "      <td>18</td>\n",
       "    </tr>\n",
       "  </tbody>\n",
       "</table>\n",
       "</div>"
      ],
      "text/plain": [
       "  Rank  \\\n",
       "0    1   \n",
       "1    2   \n",
       "2    3   \n",
       "3    4   \n",
       "4    5   \n",
       "\n",
       "  .mw-parser-output .tooltip-dotted{border-bottom:1px dotted;cursor:help}NOC  \\\n",
       "0                                             Norway                           \n",
       "1                                            Germany                           \n",
       "2                                      United States                           \n",
       "3                                             China*                           \n",
       "4                                             Sweden                           \n",
       "\n",
       "   Gold  Silver  Bronze  Total  \n",
       "0    16       8      13     37  \n",
       "1    12      10       5     27  \n",
       "2     9       9       7     25  \n",
       "3     9       4       2     15  \n",
       "4     8       5       5     18  "
      ]
     },
     "execution_count": 11,
     "metadata": {},
     "output_type": "execute_result"
    }
   ],
   "source": [
    "medals_df.head()"
   ]
  },
  {
   "cell_type": "code",
   "execution_count": null,
   "id": "303180e3",
   "metadata": {},
   "outputs": [],
   "source": []
  }
 ],
 "metadata": {
  "kernelspec": {
   "display_name": "Python 3 (ipykernel)",
   "language": "python",
   "name": "python3"
  },
  "language_info": {
   "codemirror_mode": {
    "name": "ipython",
    "version": 3
   },
   "file_extension": ".py",
   "mimetype": "text/x-python",
   "name": "python",
   "nbconvert_exporter": "python",
   "pygments_lexer": "ipython3",
   "version": "3.11.5"
  }
 },
 "nbformat": 4,
 "nbformat_minor": 5
}
