{
 "cells": [
  {
   "cell_type": "markdown",
   "id": "1ef28a9f",
   "metadata": {},
   "source": [
    "## Class Methods and Class Variables"
   ]
  },
  {
   "cell_type": "code",
   "execution_count": 15,
   "id": "1f1f4d43",
   "metadata": {},
   "outputs": [],
   "source": [
    "class Car:\n",
    "    base_price = 100000 # Class variable\n",
    "    def __init__(self, windows, doors, power): \n",
    "        self.windows=windows ## instance variables\n",
    "        self.doors=doors\n",
    "        self.power=power\n",
    "    def get_base_price(self):\n",
    "        print(\"The base price is {}\".format(self.base_price))"
   ]
  },
  {
   "cell_type": "code",
   "execution_count": 17,
   "id": "eeeb0de4",
   "metadata": {},
   "outputs": [
    {
     "data": {
      "text/plain": [
       "100000"
      ]
     },
     "execution_count": 17,
     "metadata": {},
     "output_type": "execute_result"
    }
   ],
   "source": [
    "car1 = Car(6, 4, 12000)\n",
    "car1.base_price"
   ]
  },
  {
   "cell_type": "code",
   "execution_count": 18,
   "id": "d795e893",
   "metadata": {},
   "outputs": [
    {
     "name": "stdout",
     "output_type": "stream",
     "text": [
      "The base price is 100000\n"
     ]
    }
   ],
   "source": [
    "car1.get_base_price()"
   ]
  },
  {
   "cell_type": "code",
   "execution_count": 19,
   "id": "c53677ca",
   "metadata": {},
   "outputs": [
    {
     "name": "stdout",
     "output_type": "stream",
     "text": [
      "The base price is 1\n"
     ]
    }
   ],
   "source": [
    "car1.base_price = 1 # bad progamming as we can edit the variables easily\n",
    "car1.get_base_price()"
   ]
  },
  {
   "cell_type": "code",
   "execution_count": 20,
   "id": "30810e5b",
   "metadata": {},
   "outputs": [],
   "source": [
    "car1.base_price = 100000"
   ]
  },
  {
   "cell_type": "code",
   "execution_count": 46,
   "id": "c39fe5b6",
   "metadata": {},
   "outputs": [],
   "source": [
    "class Car:\n",
    "    base_price = 100000 # we would like to change this on a year to year basis\n",
    "    def __init__(self, windows, doors, power): \n",
    "        self.windows=windows ## instance variables\n",
    "        self.doors=doors\n",
    "        self.power=power\n",
    "    def get_base_price(self):\n",
    "        print(\"The base price is {}\".format(self.base_price))\n",
    "    @classmethod # use decorator to make class methods\n",
    "    def revise_base_price(cls, inflation): # cls refers to the particular class just like we use self earily\n",
    "        cls.base_price = cls.base_price + cls.base_price * inflation\n",
    "    @classmethod ### have to use this everytime you make a new method\n",
    "    def taxes(cls,tax):\n",
    "        print(\"The new price is {}\".format(cls.base_price * tax))"
   ]
  },
  {
   "cell_type": "code",
   "execution_count": 47,
   "id": "8bbd5ba6",
   "metadata": {},
   "outputs": [],
   "source": [
    "Car.revise_base_price(0.10) # We use the Car class itself and so we make changes to the blueprint class"
   ]
  },
  {
   "cell_type": "code",
   "execution_count": 48,
   "id": "603fda47",
   "metadata": {},
   "outputs": [],
   "source": [
    "Car1 = Car(6,4,2000)"
   ]
  },
  {
   "cell_type": "code",
   "execution_count": 49,
   "id": "05a496a0",
   "metadata": {},
   "outputs": [
    {
     "data": {
      "text/plain": [
       "110000.0"
      ]
     },
     "execution_count": 49,
     "metadata": {},
     "output_type": "execute_result"
    }
   ],
   "source": [
    "Car1.base_price"
   ]
  },
  {
   "cell_type": "code",
   "execution_count": 51,
   "id": "a3728962",
   "metadata": {},
   "outputs": [
    {
     "name": "stdout",
     "output_type": "stream",
     "text": [
      "The new price is 119900.00000000001\n"
     ]
    }
   ],
   "source": [
    "Car.taxes(1.09)"
   ]
  },
  {
   "cell_type": "code",
   "execution_count": null,
   "id": "345bc665",
   "metadata": {},
   "outputs": [],
   "source": []
  }
 ],
 "metadata": {
  "kernelspec": {
   "display_name": "Python 3 (ipykernel)",
   "language": "python",
   "name": "python3"
  },
  "language_info": {
   "codemirror_mode": {
    "name": "ipython",
    "version": 3
   },
   "file_extension": ".py",
   "mimetype": "text/x-python",
   "name": "python",
   "nbconvert_exporter": "python",
   "pygments_lexer": "ipython3",
   "version": "3.11.5"
  }
 },
 "nbformat": 4,
 "nbformat_minor": 5
}
