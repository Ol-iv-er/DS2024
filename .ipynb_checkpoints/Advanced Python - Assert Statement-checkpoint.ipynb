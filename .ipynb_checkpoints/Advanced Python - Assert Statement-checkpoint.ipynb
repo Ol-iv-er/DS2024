{
 "cells": [
  {
   "cell_type": "markdown",
   "id": "b5f4c084",
   "metadata": {},
   "source": [
    "# Python Assert\n",
    "\n",
    "Python provides the assert statement to check if a given logical expression is True or False. Program execution proceeds only if the expression is True and raises the AssertionError when it is False. The following code shows the usage of the assert statement."
   ]
  },
  {
   "cell_type": "code",
   "execution_count": 3,
   "id": "e1c43051",
   "metadata": {},
   "outputs": [
    {
     "ename": "AssertionError",
     "evalue": "",
     "output_type": "error",
     "traceback": [
      "\u001b[0;31m---------------------------------------------------------------------------\u001b[0m",
      "\u001b[0;31mAssertionError\u001b[0m                            Traceback (most recent call last)",
      "Cell \u001b[0;32mIn[3], line 3\u001b[0m\n\u001b[1;32m      1\u001b[0m a \u001b[38;5;241m=\u001b[39m \u001b[38;5;241m10\u001b[39m\n\u001b[1;32m      2\u001b[0m b \u001b[38;5;241m=\u001b[39m \u001b[38;5;241m8\u001b[39m\n\u001b[0;32m----> 3\u001b[0m \u001b[38;5;28;01massert\u001b[39;00m(a \u001b[38;5;241m<\u001b[39m b)\n",
      "\u001b[0;31mAssertionError\u001b[0m: "
     ]
    }
   ],
   "source": [
    "a = 10\n",
    "b = 8\n",
    "assert(a < b)"
   ]
  },
  {
   "cell_type": "code",
   "execution_count": 6,
   "id": "b3eac2e6",
   "metadata": {},
   "outputs": [
    {
     "name": "stdout",
     "output_type": "stream",
     "text": [
      "Please provide a big number 1\n",
      "Please provide a small number 3\n",
      "Compution result cannot be completed due Assertion Error; 1 is smaller than 3\n"
     ]
    }
   ],
   "source": [
    "try:\n",
    "    a = int(input(\"Please provide a big number \"))\n",
    "    b = int(input(\"Please provide a small number \"))\n",
    "    assert(b < a)\n",
    "except AssertionError as ae:\n",
    "    print(\"Compution result cannot be completed due Assertion Error; {} is smaller than {}\".format(a,b))\n",
    "else:\n",
    "    print(\"{} is bigger than {}\".format(a,b))\n",
    "    print(\"Great Work\")\n",
    "    \n",
    "finally:\n",
    "    pass\n",
    "    "
   ]
  },
  {
   "cell_type": "code",
   "execution_count": 2,
   "id": "d261808d",
   "metadata": {},
   "outputs": [
    {
     "name": "stdout",
     "output_type": "stream",
     "text": [
      "Enter a number 1\n",
      "Please provide an even number\n"
     ]
    }
   ],
   "source": [
    "try:\n",
    "    num=int(input(\"Enter an even number \"))\n",
    "    assert(num%2==0)\n",
    "    print(\"The number is even\")\n",
    "except AssertionError:\n",
    "    print(\"Please provide an even number\")"
   ]
  }
 ],
 "metadata": {
  "kernelspec": {
   "display_name": "Python 3 (ipykernel)",
   "language": "python",
   "name": "python3"
  },
  "language_info": {
   "codemirror_mode": {
    "name": "ipython",
    "version": 3
   },
   "file_extension": ".py",
   "mimetype": "text/x-python",
   "name": "python",
   "nbconvert_exporter": "python",
   "pygments_lexer": "ipython3",
   "version": "3.11.5"
  }
 },
 "nbformat": 4,
 "nbformat_minor": 5
}
