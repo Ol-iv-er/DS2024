{
 "cells": [
  {
   "cell_type": "markdown",
   "id": "4a7e790d",
   "metadata": {},
   "source": [
    "## OOPS- Multiple Inheritance"
   ]
  },
  {
   "cell_type": "code",
   "execution_count": 1,
   "id": "e5ab8a21",
   "metadata": {},
   "outputs": [],
   "source": [
    "class A:\n",
    "    def method1(self):\n",
    "        print(\"Class A method called\")"
   ]
  },
  {
   "cell_type": "code",
   "execution_count": 8,
   "id": "7ad325e9",
   "metadata": {},
   "outputs": [],
   "source": [
    "# Class B is inheriting from class A\n",
    "class B(A):\n",
    "    def method1(self):\n",
    "        print(\"Class B method called\")\n",
    "        \n",
    "    def method2(self):\n",
    "        print(\"Class B method2 called\")    "
   ]
  },
  {
   "cell_type": "code",
   "execution_count": 9,
   "id": "17e65f38",
   "metadata": {},
   "outputs": [],
   "source": [
    "# Class C is also inheriting from class A\n",
    "class C(A):\n",
    "    def method1(self):\n",
    "        print(\"Class C method called\")"
   ]
  },
  {
   "cell_type": "code",
   "execution_count": 10,
   "id": "ec4c1817",
   "metadata": {},
   "outputs": [],
   "source": [
    "# Class D is inheriting from class B and C\n",
    "class D(B, C): # Multiple inheritance\n",
    "    def method1(self):\n",
    "        print(\"Class D method called\")"
   ]
  },
  {
   "cell_type": "code",
   "execution_count": 11,
   "id": "75a4f0c7",
   "metadata": {},
   "outputs": [],
   "source": [
    "d=D()"
   ]
  },
  {
   "cell_type": "code",
   "execution_count": 12,
   "id": "eee41a65",
   "metadata": {},
   "outputs": [
    {
     "name": "stdout",
     "output_type": "stream",
     "text": [
      "Class D method called\n"
     ]
    }
   ],
   "source": [
    "d.method1()"
   ]
  },
  {
   "cell_type": "code",
   "execution_count": 13,
   "id": "3b19e022",
   "metadata": {},
   "outputs": [
    {
     "name": "stdout",
     "output_type": "stream",
     "text": [
      "Class B method2 called\n"
     ]
    }
   ],
   "source": [
    "d.method2()"
   ]
  },
  {
   "cell_type": "markdown",
   "id": "4f6aaf6c",
   "metadata": {},
   "source": [
    "If parent classes have the similar names and are inherited into a child class we use the format below to specific methods that were Inherited "
   ]
  },
  {
   "cell_type": "code",
   "execution_count": 15,
   "id": "04eddb8c",
   "metadata": {},
   "outputs": [
    {
     "name": "stdout",
     "output_type": "stream",
     "text": [
      "Class B method2 called\n"
     ]
    }
   ],
   "source": [
    "B.method2(d)"
   ]
  },
  {
   "cell_type": "code",
   "execution_count": 16,
   "id": "a7015b44",
   "metadata": {},
   "outputs": [
    {
     "name": "stdout",
     "output_type": "stream",
     "text": [
      "Class A method called\n"
     ]
    }
   ],
   "source": [
    "A.method1(d)"
   ]
  },
  {
   "cell_type": "code",
   "execution_count": 17,
   "id": "6ac75792",
   "metadata": {},
   "outputs": [],
   "source": [
    "class D(B, C):\n",
    "    def method1(self):\n",
    "        print(\"Class D method called\")\n",
    "        C.method1(self)\n",
    "        B.method1(self)\n",
    "        A.method1(self)"
   ]
  },
  {
   "cell_type": "code",
   "execution_count": 18,
   "id": "f797b735",
   "metadata": {},
   "outputs": [],
   "source": [
    "d=D()"
   ]
  },
  {
   "cell_type": "code",
   "execution_count": 19,
   "id": "a19b4163",
   "metadata": {},
   "outputs": [
    {
     "name": "stdout",
     "output_type": "stream",
     "text": [
      "Class D method called\n",
      "Class C method called\n",
      "Class B method called\n",
      "Class A method called\n"
     ]
    }
   ],
   "source": [
    "d.method1()"
   ]
  },
  {
   "cell_type": "code",
   "execution_count": 20,
   "id": "c692707e",
   "metadata": {},
   "outputs": [
    {
     "name": "stdout",
     "output_type": "stream",
     "text": [
      "In Class2\n"
     ]
    }
   ],
   "source": [
    "## More examples from geeksforgeeks\n",
    "# Python Program to depict multiple inheritance\n",
    "# when method is overridden in both classes\n",
    " \n",
    "class Class1:\n",
    "    def m(self):\n",
    "        print(\"In Class1\") \n",
    "       \n",
    "class Class2(Class1):\n",
    "    def m(self):\n",
    "        print(\"In Class2\")\n",
    " \n",
    "class Class3(Class1):\n",
    "    def m(self):\n",
    "        print(\"In Class3\")  \n",
    "        \n",
    "class Class4(Class2, Class3):\n",
    "    pass  \n",
    "     \n",
    "obj = Class4()\n",
    "obj.m()"
   ]
  },
  {
   "cell_type": "code",
   "execution_count": 21,
   "id": "d3960b6f",
   "metadata": {},
   "outputs": [
    {
     "name": "stdout",
     "output_type": "stream",
     "text": [
      "In Class3\n"
     ]
    }
   ],
   "source": [
    "class Class1:\n",
    "    def m(self):\n",
    "        print(\"In Class1\") \n",
    "       \n",
    "class Class2(Class1):\n",
    "    def m(self):\n",
    "        print(\"In Class2\")\n",
    " \n",
    "class Class3(Class1):\n",
    "    def m(self):\n",
    "        print(\"In Class3\")  \n",
    "        \n",
    "class Class4(Class3, Class2): # if two classes that are being inherited have the same name for a method the order how it is they are pass sets the order of what class method to call\n",
    "    pass  \n",
    "     \n",
    "obj = Class4()\n",
    "obj.m()"
   ]
  },
  {
   "cell_type": "code",
   "execution_count": 24,
   "id": "77be7776",
   "metadata": {},
   "outputs": [
    {
     "name": "stdout",
     "output_type": "stream",
     "text": [
      "In Class4\n",
      "In Class2\n",
      "In Class3\n",
      "In Class1\n"
     ]
    }
   ],
   "source": [
    "## use of the super() method; generally for when we initialize with __init__() but works here too\n",
    "\n",
    "# Python program to demonstrate\n",
    "# super()\n",
    " \n",
    "class Class1:\n",
    "    def m(self):\n",
    "        print(\"In Class1\")\n",
    " \n",
    "class Class2(Class1):\n",
    "    def m(self):\n",
    "        print(\"In Class2\")\n",
    "        super().m()\n",
    " \n",
    "class Class3(Class1):\n",
    "    def m(self):\n",
    "        print(\"In Class3\")\n",
    "        super().m()\n",
    " \n",
    "class Class4(Class2, Class3):\n",
    "    def m(self):\n",
    "        print(\"In Class4\")   \n",
    "        super().m()\n",
    "      \n",
    "obj = Class4()\n",
    "obj.m()\n"
   ]
  },
  {
   "cell_type": "code",
   "execution_count": 26,
   "id": "2a5badd8",
   "metadata": {},
   "outputs": [
    {
     "name": "stdout",
     "output_type": "stream",
     "text": [
      "In Class4\n",
      "In Class2\n"
     ]
    }
   ],
   "source": [
    "class Class1:\n",
    "    def m(self):\n",
    "        print(\"In Class1\")\n",
    " \n",
    "class Class2(Class1):\n",
    "    def m(self):\n",
    "        print(\"In Class2\")\n",
    " \n",
    "class Class3(Class1):\n",
    "    def m(self):\n",
    "        print(\"In Class3\")\n",
    " \n",
    "class Class4(Class2, Class3):\n",
    "    def m(self):\n",
    "        print(\"In Class4\") \n",
    "    def class_2_m(self):  \n",
    "        super().m()\n",
    "      \n",
    "obj = Class4()\n",
    "obj.m()\n",
    "obj.class_2_m()"
   ]
  },
  {
   "cell_type": "code",
   "execution_count": null,
   "id": "d6611b34",
   "metadata": {},
   "outputs": [],
   "source": []
  }
 ],
 "metadata": {
  "kernelspec": {
   "display_name": "Python 3 (ipykernel)",
   "language": "python",
   "name": "python3"
  },
  "language_info": {
   "codemirror_mode": {
    "name": "ipython",
    "version": 3
   },
   "file_extension": ".py",
   "mimetype": "text/x-python",
   "name": "python",
   "nbconvert_exporter": "python",
   "pygments_lexer": "ipython3",
   "version": "3.11.5"
  }
 },
 "nbformat": 4,
 "nbformat_minor": 5
}
