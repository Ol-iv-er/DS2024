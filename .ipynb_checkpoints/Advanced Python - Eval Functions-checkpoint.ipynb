{
 "cells": [
  {
   "cell_type": "markdown",
   "id": "ffa9aa9e",
   "metadata": {},
   "source": [
    "## Eval Function - Evaluating Expressions Dynamically"
   ]
  },
  {
   "cell_type": "code",
   "execution_count": 2,
   "id": "442c2c58",
   "metadata": {},
   "outputs": [
    {
     "data": {
      "text/plain": [
       "25"
      ]
     },
     "execution_count": 2,
     "metadata": {},
     "output_type": "execute_result"
    }
   ],
   "source": [
    "5*5"
   ]
  },
  {
   "cell_type": "code",
   "execution_count": 5,
   "id": "ea702513",
   "metadata": {},
   "outputs": [
    {
     "data": {
      "text/plain": [
       "25"
      ]
     },
     "execution_count": 5,
     "metadata": {},
     "output_type": "execute_result"
    }
   ],
   "source": [
    "## eval() evaulates python expression which are written as strings\n",
    "eval('5*5') # runs python expressions"
   ]
  },
  {
   "cell_type": "code",
   "execution_count": 6,
   "id": "0d92652e",
   "metadata": {},
   "outputs": [
    {
     "name": "stdout",
     "output_type": "stream",
     "text": [
      "hello\n"
     ]
    }
   ],
   "source": [
    "eval('print(\"hello\")')"
   ]
  },
  {
   "cell_type": "code",
   "execution_count": 8,
   "id": "efc3bc88",
   "metadata": {},
   "outputs": [
    {
     "data": {
      "text/plain": [
       "50.0"
      ]
     },
     "execution_count": 8,
     "metadata": {},
     "output_type": "execute_result"
    }
   ],
   "source": [
    "eval(\"5**2/2*4\")"
   ]
  },
  {
   "cell_type": "code",
   "execution_count": 10,
   "id": "ef8ba142",
   "metadata": {},
   "outputs": [
    {
     "name": "stdout",
     "output_type": "stream",
     "text": [
      "Enter the python expression: len([1,2,3,4])\n"
     ]
    },
    {
     "data": {
      "text/plain": [
       "4"
      ]
     },
     "execution_count": 10,
     "metadata": {},
     "output_type": "execute_result"
    }
   ],
   "source": [
    "eval(input(\"Enter the python expression: \"))"
   ]
  },
  {
   "cell_type": "code",
   "execution_count": 12,
   "id": "43e6e4cb",
   "metadata": {},
   "outputs": [],
   "source": [
    "def square(number):\n",
    "    return number**2"
   ]
  },
  {
   "cell_type": "code",
   "execution_count": 15,
   "id": "dc54a1af",
   "metadata": {},
   "outputs": [
    {
     "data": {
      "text/plain": [
       "36"
      ]
     },
     "execution_count": 15,
     "metadata": {},
     "output_type": "execute_result"
    }
   ],
   "source": [
    "eval('square(6)')"
   ]
  },
  {
   "cell_type": "code",
   "execution_count": 14,
   "id": "64e646e6",
   "metadata": {},
   "outputs": [
    {
     "name": "stdout",
     "output_type": "stream",
     "text": [
      "Enter number to square: 5\n"
     ]
    },
    {
     "data": {
      "text/plain": [
       "25"
      ]
     },
     "execution_count": 14,
     "metadata": {},
     "output_type": "execute_result"
    }
   ],
   "source": [
    "eval('square(int(input(\"Enter number to square: \")))')"
   ]
  },
  {
   "cell_type": "markdown",
   "id": "2545dcf4",
   "metadata": {},
   "source": [
    "### How does Eval acutally work\n",
    "1. Parse python Expressions\n",
    "2. compile into a byte code\n",
    "3. evaluate the python expression\n",
    "4. Return the result"
   ]
  },
  {
   "cell_type": "code",
   "execution_count": 16,
   "id": "998792dc",
   "metadata": {},
   "outputs": [],
   "source": [
    "var = compile(\"5*5\", \"<string>\", \"eval\") # steps 1 and 2 are done with the complile function"
   ]
  },
  {
   "cell_type": "code",
   "execution_count": 17,
   "id": "f3b174ba",
   "metadata": {},
   "outputs": [
    {
     "data": {
      "text/plain": [
       "<code object <module> at 0x1134344b0, file \"<string>\", line 1>"
      ]
     },
     "execution_count": 17,
     "metadata": {},
     "output_type": "execute_result"
    }
   ],
   "source": [
    "var"
   ]
  },
  {
   "cell_type": "code",
   "execution_count": 18,
   "id": "5430e545",
   "metadata": {},
   "outputs": [
    {
     "data": {
      "text/plain": [
       "25"
      ]
     },
     "execution_count": 18,
     "metadata": {},
     "output_type": "execute_result"
    }
   ],
   "source": [
    "eval(var) # here we return our result"
   ]
  },
  {
   "cell_type": "markdown",
   "id": "e691de0c",
   "metadata": {},
   "source": [
    "### Gobal variables in Eval"
   ]
  },
  {
   "cell_type": "code",
   "execution_count": 25,
   "id": "f1f99bb7",
   "metadata": {},
   "outputs": [
    {
     "name": "stdout",
     "output_type": "stream",
     "text": [
      "11\n"
     ]
    }
   ],
   "source": [
    "eval(\"x+65+x**2\", {\"x\":10}) # here x is the global variable\n"
   ]
  },
  {
   "cell_type": "code",
   "execution_count": 21,
   "id": "087f6b83",
   "metadata": {},
   "outputs": [
    {
     "data": {
      "text/plain": [
       "10020"
      ]
     },
     "execution_count": 21,
     "metadata": {},
     "output_type": "execute_result"
    }
   ],
   "source": [
    "x = 100\n",
    "eval(\"x**2+20\",{\"x\":x}) # this is also another method to pass global variables\n"
   ]
  },
  {
   "cell_type": "code",
   "execution_count": 24,
   "id": "9519c921",
   "metadata": {},
   "outputs": [
    {
     "data": {
      "text/plain": [
       "511"
      ]
     },
     "execution_count": 24,
     "metadata": {},
     "output_type": "execute_result"
    }
   ],
   "source": [
    "x = 11\n",
    "y = 20\n",
    "eval(\"x+y**2+z\", {\"x\":x, \"y\":y, \"z\":100})"
   ]
  },
  {
   "cell_type": "markdown",
   "id": "f49cc97b",
   "metadata": {},
   "source": [
    "### Local Varibles in Eval"
   ]
  },
  {
   "cell_type": "code",
   "execution_count": 26,
   "id": "25550b4f",
   "metadata": {},
   "outputs": [
    {
     "data": {
      "text/plain": [
       "252"
      ]
     },
     "execution_count": 26,
     "metadata": {},
     "output_type": "execute_result"
    }
   ],
   "source": [
    "eval(\"a+b+c\", {},{\"a\":10, \"b\":20, \"c\":222})"
   ]
  },
  {
   "cell_type": "code",
   "execution_count": 27,
   "id": "d7793b08",
   "metadata": {},
   "outputs": [
    {
     "data": {
      "text/plain": [
       "True"
      ]
     },
     "execution_count": 27,
     "metadata": {},
     "output_type": "execute_result"
    }
   ],
   "source": [
    "a = 10\n",
    "b = 20\n",
    "eval(\"a<b\") # eval is unsecure"
   ]
  },
  {
   "cell_type": "code",
   "execution_count": null,
   "id": "7b23124c",
   "metadata": {},
   "outputs": [],
   "source": [
    "x = 111\n",
    "y = 22\n",
    "eval(\"x-y\", {}, {}) # this is called restricting local and global varaiables"
   ]
  }
 ],
 "metadata": {
  "kernelspec": {
   "display_name": "Python 3 (ipykernel)",
   "language": "python",
   "name": "python3"
  },
  "language_info": {
   "codemirror_mode": {
    "name": "ipython",
    "version": 3
   },
   "file_extension": ".py",
   "mimetype": "text/x-python",
   "name": "python",
   "nbconvert_exporter": "python",
   "pygments_lexer": "ipython3",
   "version": "3.11.5"
  }
 },
 "nbformat": 4,
 "nbformat_minor": 5
}
