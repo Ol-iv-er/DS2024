{
 "cells": [
  {
   "cell_type": "markdown",
   "id": "ec4eeb1b",
   "metadata": {},
   "source": [
    "# Beginner Projects"
   ]
  },
  {
   "cell_type": "markdown",
   "id": "49118d1d",
   "metadata": {},
   "source": [
    "### Acronym Generator"
   ]
  },
  {
   "cell_type": "code",
   "execution_count": 1,
   "id": "608be7f1",
   "metadata": {
    "scrolled": true
   },
   "outputs": [
    {
     "name": "stdout",
     "output_type": "stream",
     "text": [
      "Enter a Phrase: thE COMMITEE OF VILLIANS\n",
      " TCOV\n"
     ]
    }
   ],
   "source": [
    "user_input = str(input(\"Enter a Phrase: \"))\n",
    "text = user_input.split()\n",
    "a = \" \"\n",
    "for i in text:\n",
    "    a = a+str(i[0]).upper()\n",
    "print(a)"
   ]
  },
  {
   "cell_type": "markdown",
   "id": "2b40b21d",
   "metadata": {},
   "source": [
    "### Alarm Clock"
   ]
  },
  {
   "cell_type": "code",
   "execution_count": 16,
   "id": "8502934b",
   "metadata": {},
   "outputs": [
    {
     "name": "stdout",
     "output_type": "stream",
     "text": [
      "Enter the time of alarm to be set: HH:MM 11:37 pm\n",
      "WAKE UP!\n",
      "WAKE UP!\n",
      "WAKE UP!\n"
     ]
    }
   ],
   "source": [
    "from datetime import datetime\n",
    "#from playsound import playsound\n",
    "\n",
    "not_vaild_input = True\n",
    "while not_vaild_input:\n",
    "    try:\n",
    "        alarm_time = str(input(\"Enter the time of alarm to be set: HH:MM \"))\n",
    "        alarm_hour = alarm_time[0:2]\n",
    "        alarm_minute = alarm_time[3:5]\n",
    "        alarm_period = alarm_time[5:].strip().upper()\n",
    "    except ValueError:\n",
    "        print(\"\\n\")\n",
    "        print(\"Please use numeric values!\")\n",
    "        not_vaild_input = True\n",
    "    except IndexError:\n",
    "        print(\"\\n\")\n",
    "        print(\"Please use the format provided!\")\n",
    "        not_vaild_input = True\n",
    "    else:\n",
    "        break\n",
    "\"\"\n",
    "while True:\n",
    "    current_time = datetime.now()\n",
    "    current_hour = current_time.strftime(\"%I\")\n",
    "    current_minute = current_time.strftime(\"%M\")\n",
    "    current_period = current_time.strftime(\"%p\")\n",
    "    if current_period == alarm_period:\n",
    "        if (current_hour, current_minute) == (alarm_hour, alarm_minute):\n",
    "            print(\"Wake up!\".upper())\n",
    "            print(\"Wake up!\".upper())\n",
    "            print(\"Wake up!\".upper())\n",
    "            break\n",
    "\n"
   ]
  },
  {
   "cell_type": "markdown",
   "id": "6546fc05",
   "metadata": {},
   "source": [
    "### Email Slicer"
   ]
  },
  {
   "cell_type": "code",
   "execution_count": 2,
   "id": "ffcd1a9e",
   "metadata": {},
   "outputs": [
    {
     "name": "stdout",
     "output_type": "stream",
     "text": [
      "Enter email: oliverramirez@gmail.com\n",
      "The username is oliverramirez and the domain is gmail.com\n"
     ]
    }
   ],
   "source": [
    "email = input(\"Enter email: \").strip(\"@\")\n",
    "username = email[0]\n",
    "domain = email[1]\n",
    "print('The username is {} and the domain is {}'.format(username, domain))"
   ]
  },
  {
   "cell_type": "markdown",
   "id": "2ab81fc9",
   "metadata": {},
   "source": [
    "### Random Story Generator"
   ]
  },
  {
   "cell_type": "code",
   "execution_count": null,
   "id": "beea33d8",
   "metadata": {},
   "outputs": [],
   "source": [
    "import random"
   ]
  },
  {
   "cell_type": "code",
   "execution_count": 7,
   "id": "92c2874a",
   "metadata": {},
   "outputs": [
    {
     "name": "stdout",
     "output_type": "stream",
     "text": [
      "Tomorrow a gazelle named John that lived in India, went to the College and read a book.\n"
     ]
    }
   ],
   "source": [
    "when = ['Today', 'Tomorrow', 'Seven Years ago', 'In 10 days']\n",
    "who = ['an elephant', 'a lion', 'a rabbit', 'a gazelle', 'a bird']\n",
    "name = ['Joe', 'Linda', 'Oliver', 'John', 'Oscar']\n",
    "residence = ['USA', 'Mexico', 'Japan', 'India', 'Ireland']\n",
    "went = ['College', 'Movies', 'Park', 'Mall', 'Beach']\n",
    "happened = ['made a ton of new friends', 'played tag', 'ate some good food', 'read a book']\n",
    "\n",
    "event = random.choice(when) + ' '+ random.choice(who) + ' named ' + random.choice(name) +' that lived in ' + random.choice(residence) + ', went to the ' + random.choice(went) + ' and ' + random.choice(happened) + '.'\n",
    "print(event)"
   ]
  },
  {
   "cell_type": "markdown",
   "id": "ddc6aa58",
   "metadata": {},
   "source": [
    "### Password Generator"
   ]
  },
  {
   "cell_type": "code",
   "execution_count": 15,
   "id": "e5cf3620",
   "metadata": {},
   "outputs": [],
   "source": [
    "import random\n",
    "from string import ascii_lowercase, punctuation"
   ]
  },
  {
   "cell_type": "code",
   "execution_count": 47,
   "id": "29f76a5b",
   "metadata": {},
   "outputs": [
    {
     "name": "stdout",
     "output_type": "stream",
     "text": [
      "How many numbers do you want: 6\n",
      "How many letters do you want:7\n",
      "How many special characters do you want: 4\n",
      "Your password is: 4v-90`t8\"7pegjz]6\n"
     ]
    }
   ],
   "source": [
    "numbers = ['0','1','2','3','4','5','6','7','8', '9']\n",
    "letters = list(ascii_lowercase)\n",
    "special = list(punctuation)\n",
    "\n",
    "again = True\n",
    "while again:\n",
    "    try: \n",
    "        numbers_length = int(input(\"How many numbers do you want: \"))\n",
    "        letters_length = int(input(\"How many letters do you want:\"))\n",
    "        special_length = int(input(\"How many special characters do you want: \"))\n",
    "    except ValueError:\n",
    "        print(\"Please provide a vaild integer value.\")\n",
    "    else:\n",
    "        again = False\n",
    "\n",
    "random_numbers = list(random.sample(numbers, numbers_length))\n",
    "random_letters = list(random.sample(letters, letters_length))\n",
    "random_special = list(random.sample(special, special_length))\n",
    "\n",
    "\n",
    "nums = \"\".join(random_numbers)\n",
    "lets = \"\".join(random_letters)\n",
    "spec = \"\".join(random_special)\n",
    "\n",
    "phrase = list(nums+lets+spec)\n",
    "random.shuffle(phrase)\n",
    "password = ''.join(phrase)\n",
    "print(f'Your password is: {password}')\n"
   ]
  },
  {
   "cell_type": "markdown",
   "id": "9733b460",
   "metadata": {},
   "source": [
    "### Paper, Scisssors, Rock"
   ]
  },
  {
   "cell_type": "code",
   "execution_count": 6,
   "id": "e0c327ea",
   "metadata": {},
   "outputs": [],
   "source": [
    "import random"
   ]
  },
  {
   "cell_type": "code",
   "execution_count": 15,
   "id": "255e3390",
   "metadata": {},
   "outputs": [
    {
     "name": "stdout",
     "output_type": "stream",
     "text": [
      "Please choice - 'Paper', 'Scissors', or 'Rock': paper\n",
      "Computer chose rock\n",
      "You win!\n",
      "Player Score: 1 | Computer Score: 0\n",
      "Play again? Y/NY\n",
      "Please choice - 'Paper', 'Scissors', or 'Rock': paper\n",
      "Computer chose paper\n",
      "It is a draw.\n",
      "Player Score: 1 | Computer Score: 0\n",
      "Play again? Y/Nn\n",
      "Player Score: 1 | Computer Score 0\n",
      "You have won the tournament; congratulations!\n"
     ]
    }
   ],
   "source": [
    "choices = ['paper', 'scissors', 'rock']\n",
    "defeats = {'paper': 'scissors', 'scissors': 'rock', 'rock':'paper'}\n",
    "\n",
    "keep_going = True\n",
    "player_score = 0\n",
    "computer_score = 0\n",
    "while keep_going:\n",
    "    player_choice = input(\"Please choice - 'Paper', 'Scissors', or 'Rock': \").lower()\n",
    "    computer_choice = random.choice(choices)\n",
    "\n",
    "    try:\n",
    "        if player_choice == computer_choice:\n",
    "            print(\"Computer chose {}\".format(computer_choice))\n",
    "            print(\"It is a draw.\")\n",
    "        elif defeats[player_choice] == computer_choice:\n",
    "            computer_score += 1\n",
    "            print(\"Computer chose {}\".format(computer_choice))\n",
    "            print(\"You lose.\")\n",
    "        else:\n",
    "            player_score += 1\n",
    "            print(\"Computer chose {}\".format(computer_choice))\n",
    "            print(\"You win!\")\n",
    "        print(\"Player Score: {} | Computer Score: {}\".format(player_score, computer_score))\n",
    "    except KeyError:\n",
    "        print(\"Please choose  a vaild choice\")\n",
    "    else:\n",
    "        play_again = input(\"Play again? Y/N \").lower()\n",
    "        if play_again == 'y':\n",
    "            keep_going = True\n",
    "        else:\n",
    "            keep_going = False\n",
    "            print(\"Player Score: {} | Computer Score {}\".format(player_score, computer_score))\n",
    "            if player_score == computer_score:\n",
    "                print(\"The tournament ended in a tie.\")\n",
    "            elif player_score > computer_score:\n",
    "                print(\"You have won the tournament; congratulations!\")\n",
    "            else:\n",
    "                print(\"You have lost the tournament; womp womp\")"
   ]
  },
  {
   "cell_type": "markdown",
   "id": "ee2f86ab",
   "metadata": {},
   "source": [
    "### Dice Roll Simulator"
   ]
  },
  {
   "cell_type": "code",
   "execution_count": 36,
   "id": "a423b7da",
   "metadata": {},
   "outputs": [],
   "source": [
    "import random"
   ]
  },
  {
   "cell_type": "code",
   "execution_count": 40,
   "id": "9bd11ad6",
   "metadata": {},
   "outputs": [
    {
     "name": "stdout",
     "output_type": "stream",
     "text": [
      "Rolling the dice... \n",
      "The values are: \n",
      "4\n",
      "2\n",
      "Roll again? y\n",
      "\n",
      "\n",
      "Rolling the dice... \n",
      "The values are: \n",
      "6\n",
      "1\n",
      "Roll again? y\n",
      "\n",
      "\n",
      "Rolling the dice... \n",
      "The values are: \n",
      "1\n",
      "3\n",
      "Roll again? n\n",
      "\n",
      "\n"
     ]
    }
   ],
   "source": [
    "roll_again = 'y'\n",
    "\n",
    "while roll_again == 'y':\n",
    "    print(\"Rolling the dice... \")\n",
    "    print(\"The values are: \")\n",
    "    print(random.randint(1,6))\n",
    "    print(random.randint(1,6))\n",
    "    \n",
    "    roll_again = input(\"Roll again? \")[0]\n",
    "    print('\\n')"
   ]
  },
  {
   "cell_type": "markdown",
   "id": "d8fdb3f7",
   "metadata": {},
   "source": [
    "### Digital Clock with Python"
   ]
  },
  {
   "cell_type": "code",
   "execution_count": 1,
   "id": "672e5a31",
   "metadata": {},
   "outputs": [],
   "source": [
    "from tkinter import Label, Tk\n",
    "import time"
   ]
  },
  {
   "cell_type": "code",
   "execution_count": null,
   "id": "a0d567ed",
   "metadata": {},
   "outputs": [],
   "source": [
    "window = Tk()\n",
    "window.title(\"Digital Clock\")\n",
    "window.geometry('420x150')\n",
    "window.resizable(1,1)\n",
    "\n",
    "text_font= (\"Boulder\", 68, 'bold')\n",
    "background = \"#f2e750\"\n",
    "foreground= \"#363529\"\n",
    "border_width = 25\n",
    "\n",
    "label = Label(window, font=text_font, bg=background, fg=foreground, bd=border_width) \n",
    "label.grid(row=0, column=1)\n",
    "\n",
    "def digital_clock(): \n",
    "   time_live = time.strftime(\"%H:%M:%S\")\n",
    "   label.config(text=time_live) \n",
    "   label.after(200, digital_clock)\n",
    "\n",
    "digital_clock()\n",
    "window.mainloop()"
   ]
  },
  {
   "cell_type": "code",
   "execution_count": null,
   "id": "14fafed9",
   "metadata": {},
   "outputs": [],
   "source": []
  }
 ],
 "metadata": {
  "kernelspec": {
   "display_name": "Python 3 (ipykernel)",
   "language": "python",
   "name": "python3"
  },
  "language_info": {
   "codemirror_mode": {
    "name": "ipython",
    "version": 3
   },
   "file_extension": ".py",
   "mimetype": "text/x-python",
   "name": "python",
   "nbconvert_exporter": "python",
   "pygments_lexer": "ipython3",
   "version": "3.11.5"
  }
 },
 "nbformat": 4,
 "nbformat_minor": 5
}
