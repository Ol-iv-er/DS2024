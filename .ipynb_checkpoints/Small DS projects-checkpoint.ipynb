{
 "cells": [
  {
   "cell_type": "markdown",
   "id": "ec4eeb1b",
   "metadata": {},
   "source": [
    "## Beginner Projects"
   ]
  },
  {
   "cell_type": "code",
   "execution_count": 4,
   "id": "608be7f1",
   "metadata": {},
   "outputs": [
    {
     "name": "stdout",
     "output_type": "stream",
     "text": [
      "Enter a Phrase: The cat in the hat\n",
      " TCITH\n"
     ]
    }
   ],
   "source": [
    "## Acronym Generator\n",
    "user_input = str(input(\"Enter a Phrase: \"))\n",
    "text = user_input.split()\n",
    "a = \" \"\n",
    "for i in text:\n",
    "    a = a+str(i[0]).upper()\n",
    "print(a)"
   ]
  },
  {
   "cell_type": "code",
   "execution_count": 6,
   "id": "8502934b",
   "metadata": {},
   "outputs": [
    {
     "name": "stdout",
     "output_type": "stream",
     "text": [
      "The current time is 14:16\n"
     ]
    }
   ],
   "source": [
    "## Alarm Clock\n",
    "from datetime import datetime\n",
    "from playsound import playsound\n",
    "\n",
    "current_time = datetime.now()\n",
    "current_hour = current_time.hour\n",
    "current_minute = current_time.minute\n",
    "\n"
   ]
  },
  {
   "cell_type": "code",
   "execution_count": null,
   "id": "f273761f",
   "metadata": {},
   "outputs": [],
   "source": []
  }
 ],
 "metadata": {
  "kernelspec": {
   "display_name": "Python 3 (ipykernel)",
   "language": "python",
   "name": "python3"
  },
  "language_info": {
   "codemirror_mode": {
    "name": "ipython",
    "version": 3
   },
   "file_extension": ".py",
   "mimetype": "text/x-python",
   "name": "python",
   "nbconvert_exporter": "python",
   "pygments_lexer": "ipython3",
   "version": "3.11.5"
  }
 },
 "nbformat": 4,
 "nbformat_minor": 5
}
