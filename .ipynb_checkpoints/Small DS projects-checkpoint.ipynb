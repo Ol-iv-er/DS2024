{
 "cells": [
  {
   "cell_type": "markdown",
   "id": "ec4eeb1b",
   "metadata": {},
   "source": [
    "# Beginner Projects"
   ]
  },
  {
   "cell_type": "markdown",
   "id": "49118d1d",
   "metadata": {},
   "source": [
    "### Acronym Generator"
   ]
  },
  {
   "cell_type": "code",
   "execution_count": 1,
   "id": "608be7f1",
   "metadata": {
    "scrolled": true
   },
   "outputs": [
    {
     "name": "stdout",
     "output_type": "stream",
     "text": [
      "Enter a Phrase: thE COMMITEE OF VILLIANS\n",
      " TCOV\n"
     ]
    }
   ],
   "source": [
    "user_input = str(input(\"Enter a Phrase: \"))\n",
    "text = user_input.split()\n",
    "a = \" \"\n",
    "for i in text:\n",
    "    a = a+str(i[0]).upper()\n",
    "print(a)"
   ]
  },
  {
   "cell_type": "markdown",
   "id": "2b40b21d",
   "metadata": {},
   "source": [
    "### Alarm Clock"
   ]
  },
  {
   "cell_type": "code",
   "execution_count": 16,
   "id": "8502934b",
   "metadata": {},
   "outputs": [
    {
     "name": "stdout",
     "output_type": "stream",
     "text": [
      "Enter the time of alarm to be set: HH:MM 11:37 pm\n",
      "WAKE UP!\n",
      "WAKE UP!\n",
      "WAKE UP!\n"
     ]
    }
   ],
   "source": [
    "from datetime import datetime\n",
    "#from playsound import playsound\n",
    "\n",
    "not_vaild_input = True\n",
    "while not_vaild_input:\n",
    "    try:\n",
    "        alarm_time = str(input(\"Enter the time of alarm to be set: HH:MM \"))\n",
    "        alarm_hour = alarm_time[0:2]\n",
    "        alarm_minute = alarm_time[3:5]\n",
    "        alarm_period = alarm_time[5:].strip().upper()\n",
    "    except ValueError:\n",
    "        print(\"\\n\")\n",
    "        print(\"Please use numeric values!\")\n",
    "        not_vaild_input = True\n",
    "    except IndexError:\n",
    "        print(\"\\n\")\n",
    "        print(\"Please use the format provided!\")\n",
    "        not_vaild_input = True\n",
    "    else:\n",
    "        break\n",
    "\"\"\n",
    "while True:\n",
    "    current_time = datetime.now()\n",
    "    current_hour = current_time.strftime(\"%I\")\n",
    "    current_minute = current_time.strftime(\"%M\")\n",
    "    current_period = current_time.strftime(\"%p\")\n",
    "    if current_period == alarm_period:\n",
    "        if (current_hour, current_minute) == (alarm_hour, alarm_minute):\n",
    "            print(\"Wake up!\".upper())\n",
    "            print(\"Wake up!\".upper())\n",
    "            print(\"Wake up!\".upper())\n",
    "            break\n",
    "\n"
   ]
  },
  {
   "cell_type": "markdown",
   "id": "6546fc05",
   "metadata": {},
   "source": [
    "### Email Slicer"
   ]
  },
  {
   "cell_type": "code",
   "execution_count": 2,
   "id": "ffcd1a9e",
   "metadata": {},
   "outputs": [
    {
     "name": "stdout",
     "output_type": "stream",
     "text": [
      "Enter email: oliverramirez@gmail.com\n",
      "The username is oliverramirez and the domain is gmail.com\n"
     ]
    }
   ],
   "source": [
    "email = input(\"Enter email: \").strip(\"@\")\n",
    "username = email[0]\n",
    "domain = email[1]\n",
    "print('The username is {} and the domain is {}'.format(username, domain))"
   ]
  },
  {
   "cell_type": "markdown",
   "id": "2ab81fc9",
   "metadata": {},
   "source": [
    "### Random Story Generator"
   ]
  },
  {
   "cell_type": "code",
   "execution_count": null,
   "id": "beea33d8",
   "metadata": {},
   "outputs": [],
   "source": [
    "import random"
   ]
  },
  {
   "cell_type": "code",
   "execution_count": 7,
   "id": "92c2874a",
   "metadata": {},
   "outputs": [
    {
     "name": "stdout",
     "output_type": "stream",
     "text": [
      "Tomorrow a gazelle named John that lived in India, went to the College and read a book.\n"
     ]
    }
   ],
   "source": [
    "when = ['Today', 'Tomorrow', 'Seven Years ago', 'In 10 days']\n",
    "who = ['an elephant', 'a lion', 'a rabbit', 'a gazelle', 'a bird']\n",
    "name = ['Joe', 'Linda', 'Oliver', 'John', 'Oscar']\n",
    "residence = ['USA', 'Mexico', 'Japan', 'India', 'Ireland']\n",
    "went = ['College', 'Movies', 'Park', 'Mall', 'Beach']\n",
    "happened = ['made a ton of new friends', 'played tag', 'ate some good food', 'read a book']\n",
    "\n",
    "event = random.choice(when) + ' '+ random.choice(who) + ' named ' + random.choice(name) +' that lived in ' + random.choice(residence) + ', went to the ' + random.choice(went) + ' and ' + random.choice(happened) + '.'\n",
    "print(event)"
   ]
  },
  {
   "cell_type": "markdown",
   "id": "ddc6aa58",
   "metadata": {},
   "source": [
    "### Password Generator"
   ]
  },
  {
   "cell_type": "code",
   "execution_count": 15,
   "id": "e5cf3620",
   "metadata": {},
   "outputs": [],
   "source": [
    "import random\n",
    "from string import ascii_lowercase, punctuation"
   ]
  },
  {
   "cell_type": "code",
   "execution_count": 47,
   "id": "29f76a5b",
   "metadata": {},
   "outputs": [
    {
     "name": "stdout",
     "output_type": "stream",
     "text": [
      "How many numbers do you want: 6\n",
      "How many letters do you want:7\n",
      "How many special characters do you want: 4\n",
      "Your password is: 4v-90`t8\"7pegjz]6\n"
     ]
    }
   ],
   "source": [
    "numbers = ['0','1','2','3','4','5','6','7','8', '9']\n",
    "letters = list(ascii_lowercase)\n",
    "special = list(punctuation)\n",
    "\n",
    "again = True\n",
    "while again:\n",
    "    try: \n",
    "        numbers_length = int(input(\"How many numbers do you want: \"))\n",
    "        letters_length = int(input(\"How many letters do you want:\"))\n",
    "        special_length = int(input(\"How many special characters do you want: \"))\n",
    "    except ValueError:\n",
    "        print(\"Please provide a vaild integer value.\")\n",
    "    else:\n",
    "        again = False\n",
    "\n",
    "random_numbers = list(random.sample(numbers, numbers_length))\n",
    "random_letters = list(random.sample(letters, letters_length))\n",
    "random_special = list(random.sample(special, special_length))\n",
    "\n",
    "\n",
    "nums = \"\".join(random_numbers)\n",
    "lets = \"\".join(random_letters)\n",
    "spec = \"\".join(random_special)\n",
    "\n",
    "phrase = list(nums+lets+spec)\n",
    "random.shuffle(phrase)\n",
    "password = ''.join(phrase)\n",
    "print(f'Your password is: {password}')\n"
   ]
  },
  {
   "cell_type": "code",
   "execution_count": 48,
   "id": "d6b35548",
   "metadata": {},
   "outputs": [],
   "source": [
    "### Paper, Scisssors, Rock"
   ]
  },
  {
   "cell_type": "code",
   "execution_count": null,
   "id": "255e3390",
   "metadata": {},
   "outputs": [],
   "source": [
    "choices = ['paper', 'scissors', 'rock']\n",
    "player_choice = input(\"Please choice 'Paper', 'Scissors', or 'Rock': \").lower()\n",
    "computer_choice = random.choice(choices)\n",
    "\n",
    "if player_choice == computer_choice:\n",
    "    print(\"It is a draw.\")\n",
    "elif player_choice == 'paper'"
   ]
  }
 ],
 "metadata": {
  "kernelspec": {
   "display_name": "Python 3 (ipykernel)",
   "language": "python",
   "name": "python3"
  },
  "language_info": {
   "codemirror_mode": {
    "name": "ipython",
    "version": 3
   },
   "file_extension": ".py",
   "mimetype": "text/x-python",
   "name": "python",
   "nbconvert_exporter": "python",
   "pygments_lexer": "ipython3",
   "version": "3.11.5"
  }
 },
 "nbformat": 4,
 "nbformat_minor": 5
}
