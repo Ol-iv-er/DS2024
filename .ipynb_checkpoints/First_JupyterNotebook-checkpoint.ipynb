{
 "cells": [
  {
   "cell_type": "markdown",
   "id": "d27e0c43",
   "metadata": {},
   "source": [
    "# This the first page of my journey in DS"
   ]
  },
  {
   "cell_type": "markdown",
   "id": "3542182d",
   "metadata": {},
   "source": [
    "## Basics of Python\n",
    "\n",
    "- Various Datatypes in Python\n",
    "- Variables\n",
    "- Variable Assignment\n",
    "- Print Foramting"
   ]
  },
  {
   "cell_type": "code",
   "execution_count": 2,
   "id": "e9ff4d83",
   "metadata": {
    "scrolled": true
   },
   "outputs": [
    {
     "data": {
      "text/plain": [
       "2"
      ]
     },
     "execution_count": 2,
     "metadata": {},
     "output_type": "execute_result"
    }
   ],
   "source": [
    "1 + 1"
   ]
  },
  {
   "cell_type": "code",
   "execution_count": 1,
   "id": "ecca3842",
   "metadata": {},
   "outputs": [],
   "source": [
    "# We can use the type() function to look at the variable type\n",
    "a, b = 10, 11"
   ]
  },
  {
   "cell_type": "code",
   "execution_count": 2,
   "id": "0ee3fce5",
   "metadata": {},
   "outputs": [
    {
     "data": {
      "text/plain": [
       "int"
      ]
     },
     "execution_count": 2,
     "metadata": {},
     "output_type": "execute_result"
    }
   ],
   "source": [
    "type(a)"
   ]
  },
  {
   "cell_type": "code",
   "execution_count": 3,
   "id": "5d790e99",
   "metadata": {},
   "outputs": [
    {
     "data": {
      "text/plain": [
       "str"
      ]
     },
     "execution_count": 3,
     "metadata": {},
     "output_type": "execute_result"
    }
   ],
   "source": [
    "c = 'string'\n",
    "type(c)"
   ]
  },
  {
   "cell_type": "code",
   "execution_count": 4,
   "id": "f0139956",
   "metadata": {},
   "outputs": [
    {
     "data": {
      "text/plain": [
       "list"
      ]
     },
     "execution_count": 4,
     "metadata": {},
     "output_type": "execute_result"
    }
   ],
   "source": [
    "d = []\n",
    "type(d)"
   ]
  },
  {
   "cell_type": "code",
   "execution_count": 5,
   "id": "065e4f3e",
   "metadata": {},
   "outputs": [
    {
     "data": {
      "text/plain": [
       "dict"
      ]
     },
     "execution_count": 5,
     "metadata": {},
     "output_type": "execute_result"
    }
   ],
   "source": [
    "dd = {}\n",
    "type(dd)"
   ]
  },
  {
   "cell_type": "code",
   "execution_count": null,
   "id": "4fcbf890",
   "metadata": {},
   "outputs": [],
   "source": [
    "# Differnet ways of printing\n",
    "\n",
    "print('Hello') # press 'shift - tab' before the first parathesis to see details of functions"
   ]
  },
  {
   "cell_type": "code",
   "execution_count": 6,
   "id": "9891435d",
   "metadata": {},
   "outputs": [],
   "source": [
    "first_name = 'Oliver'\n",
    "last_name = 'Ramirez'"
   ]
  },
  {
   "cell_type": "code",
   "execution_count": 7,
   "id": "dd1971aa",
   "metadata": {},
   "outputs": [
    {
     "name": "stdout",
     "output_type": "stream",
     "text": [
      "My first name is Oliver and last name is Ramirez.\n"
     ]
    }
   ],
   "source": [
    "print(\"My first name is {} and last name is {}.\".format(first_name, last_name))"
   ]
  },
  {
   "cell_type": "code",
   "execution_count": 8,
   "id": "d40a8b6d",
   "metadata": {},
   "outputs": [
    {
     "name": "stdout",
     "output_type": "stream",
     "text": [
      "My first name is Oliver and last name is Ramirez.\n"
     ]
    }
   ],
   "source": [
    "# you can also use place holders too\n",
    "\n",
    "print(\"My first name is {first} and last name is {last}.\".format(first = first_name, last = last_name))"
   ]
  },
  {
   "cell_type": "code",
   "execution_count": null,
   "id": "66d7a50c",
   "metadata": {},
   "outputs": [],
   "source": []
  }
 ],
 "metadata": {
  "kernelspec": {
   "display_name": "Python 3 (ipykernel)",
   "language": "python",
   "name": "python3"
  },
  "language_info": {
   "codemirror_mode": {
    "name": "ipython",
    "version": 3
   },
   "file_extension": ".py",
   "mimetype": "text/x-python",
   "name": "python",
   "nbconvert_exporter": "python",
   "pygments_lexer": "ipython3",
   "version": "3.11.5"
  }
 },
 "nbformat": 4,
 "nbformat_minor": 5
}
