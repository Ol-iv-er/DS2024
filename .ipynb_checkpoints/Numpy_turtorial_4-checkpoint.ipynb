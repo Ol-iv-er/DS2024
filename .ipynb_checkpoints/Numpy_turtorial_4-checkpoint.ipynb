{
 "cells": [
  {
   "cell_type": "markdown",
   "id": "50314036",
   "metadata": {},
   "source": [
    "# Numpy Tutorial \n",
    "\n",
    "NumPy is a general-purpose array processing package. It provides a high-performance multidemensional array object, and tools for working with these arrays. It is the fundamental package for scientific computing with Python.\n",
    "\n",
    "## What is an array\n",
    "\n",
    "An array is a data structure that stores values of the same data type. In Python, this is the main difference arrays and list. While python list can contain values corresponding to different data types, arrays in python can only contain values corresponding to the same data type."
   ]
  },
  {
   "cell_type": "code",
   "execution_count": null,
   "id": "776cb8d7",
   "metadata": {},
   "outputs": [],
   "source": []
  },
  {
   "cell_type": "code",
   "execution_count": 1,
   "id": "6625a03d",
   "metadata": {},
   "outputs": [],
   "source": [
    "## import numpy\n",
    "\n",
    "import numpy as np"
   ]
  },
  {
   "cell_type": "code",
   "execution_count": 2,
   "id": "7b2a68ec",
   "metadata": {},
   "outputs": [],
   "source": [
    "my_lst = [1,2,3,4,5]\n",
    "\n",
    "arr=np.array(my_lst)"
   ]
  },
  {
   "cell_type": "code",
   "execution_count": 5,
   "id": "f442c1b8",
   "metadata": {
    "scrolled": true
   },
   "outputs": [
    {
     "name": "stdout",
     "output_type": "stream",
     "text": [
      "[1, 2, 3, 4, 5]\n",
      "[1 2 3 4 5]\n"
     ]
    }
   ],
   "source": [
    "print(my_lst)\n",
    "print(arr)"
   ]
  },
  {
   "cell_type": "code",
   "execution_count": 12,
   "id": "aef94b33",
   "metadata": {},
   "outputs": [
    {
     "name": "stdout",
     "output_type": "stream",
     "text": [
      "['1' '2' '3' 'sdf']\n"
     ]
    }
   ],
   "source": [
    "wrong = [1,2,3,'sdf']\n",
    "wrong_arr=np.array(wrong) # turns all values to character since that is less complex\n",
    "print(wrong_arr) "
   ]
  },
  {
   "cell_type": "code",
   "execution_count": 6,
   "id": "222cfe95",
   "metadata": {},
   "outputs": [
    {
     "data": {
      "text/plain": [
       "numpy.ndarray"
      ]
     },
     "execution_count": 6,
     "metadata": {},
     "output_type": "execute_result"
    }
   ],
   "source": [
    "type(arr)"
   ]
  },
  {
   "cell_type": "code",
   "execution_count": 9,
   "id": "8f918cbc",
   "metadata": {},
   "outputs": [
    {
     "data": {
      "text/plain": [
       "(5,)"
      ]
     },
     "execution_count": 9,
     "metadata": {},
     "output_type": "execute_result"
    }
   ],
   "source": [
    "arr.shape"
   ]
  },
  {
   "cell_type": "code",
   "execution_count": 10,
   "id": "0f190805",
   "metadata": {},
   "outputs": [
    {
     "data": {
      "text/plain": [
       "array([[1],\n",
       "       [2],\n",
       "       [3],\n",
       "       [4],\n",
       "       [5]])"
      ]
     },
     "execution_count": 10,
     "metadata": {},
     "output_type": "execute_result"
    }
   ],
   "source": [
    "arr.reshape((5,1))"
   ]
  },
  {
   "cell_type": "code",
   "execution_count": 13,
   "id": "112786b4",
   "metadata": {},
   "outputs": [],
   "source": [
    "## multinest array (2d array)\n",
    "\n",
    "my_lst1=[1,2,3,4,5]\n",
    "my_lst2=[6,7,8,9,0]\n",
    "my_lst3=[4,6,7,2,5]\n",
    "\n",
    "arr_nested=np.array([my_lst1, my_lst2, my_lst3])"
   ]
  },
  {
   "cell_type": "code",
   "execution_count": 14,
   "id": "f762cad4",
   "metadata": {},
   "outputs": [
    {
     "data": {
      "text/plain": [
       "array([[1, 2, 3, 4, 5],\n",
       "       [6, 7, 8, 9, 0],\n",
       "       [4, 6, 7, 2, 5]])"
      ]
     },
     "execution_count": 14,
     "metadata": {},
     "output_type": "execute_result"
    }
   ],
   "source": [
    "arr_nested"
   ]
  },
  {
   "cell_type": "code",
   "execution_count": 16,
   "id": "0b248905",
   "metadata": {},
   "outputs": [
    {
     "data": {
      "text/plain": [
       "(3, 5)"
      ]
     },
     "execution_count": 16,
     "metadata": {},
     "output_type": "execute_result"
    }
   ],
   "source": [
    "arr_nested.shape # 2d array"
   ]
  },
  {
   "cell_type": "code",
   "execution_count": 17,
   "id": "d8482b32",
   "metadata": {},
   "outputs": [
    {
     "data": {
      "text/plain": [
       "array([[1, 2, 3],\n",
       "       [4, 5, 6],\n",
       "       [7, 8, 9],\n",
       "       [0, 4, 6],\n",
       "       [7, 2, 5]])"
      ]
     },
     "execution_count": 17,
     "metadata": {},
     "output_type": "execute_result"
    }
   ],
   "source": [
    "## reshaping the nested array\n",
    "\n",
    "arr_nested.reshape(5,3) # change the dimensions, have to have the same element in the new reshaped array"
   ]
  },
  {
   "cell_type": "code",
   "execution_count": 18,
   "id": "a3d2f1c0",
   "metadata": {},
   "outputs": [
    {
     "data": {
      "text/plain": [
       "(3, 5)"
      ]
     },
     "execution_count": 18,
     "metadata": {},
     "output_type": "execute_result"
    }
   ],
   "source": [
    "## check the shape of the new reshaped array\n",
    "arr_nested.shape"
   ]
  },
  {
   "cell_type": "code",
   "execution_count": 19,
   "id": "af3f7be7",
   "metadata": {},
   "outputs": [
    {
     "data": {
      "text/plain": [
       "array([[1],\n",
       "       [2],\n",
       "       [3],\n",
       "       [4],\n",
       "       [5],\n",
       "       [6],\n",
       "       [7],\n",
       "       [8],\n",
       "       [9],\n",
       "       [0],\n",
       "       [4],\n",
       "       [6],\n",
       "       [7],\n",
       "       [2],\n",
       "       [5]])"
      ]
     },
     "execution_count": 19,
     "metadata": {},
     "output_type": "execute_result"
    }
   ],
   "source": [
    "arr_nested.reshape((15,1))"
   ]
  },
  {
   "cell_type": "markdown",
   "id": "ea0a1229",
   "metadata": {},
   "source": [
    "Arrays are fast for Computation "
   ]
  },
  {
   "cell_type": "markdown",
   "id": "1e25c7b6",
   "metadata": {},
   "source": [
    "## Indexing"
   ]
  },
  {
   "cell_type": "code",
   "execution_count": 20,
   "id": "3cbc48f3",
   "metadata": {},
   "outputs": [],
   "source": [
    "## Accessing the array element\n",
    "\n",
    "arr=np.array([1,2,3,4,5,6,7,8,9])"
   ]
  },
  {
   "cell_type": "code",
   "execution_count": 23,
   "id": "adbc5378",
   "metadata": {},
   "outputs": [
    {
     "data": {
      "text/plain": [
       "4"
      ]
     },
     "execution_count": 23,
     "metadata": {},
     "output_type": "execute_result"
    }
   ],
   "source": [
    "arr[3]"
   ]
  },
  {
   "cell_type": "code",
   "execution_count": 28,
   "id": "c9f05006",
   "metadata": {},
   "outputs": [],
   "source": [
    "arr = arr.reshape((3,3))"
   ]
  },
  {
   "cell_type": "code",
   "execution_count": 29,
   "id": "8e634e01",
   "metadata": {},
   "outputs": [
    {
     "data": {
      "text/plain": [
       "array([[1, 2, 3],\n",
       "       [4, 5, 6],\n",
       "       [7, 8, 9]])"
      ]
     },
     "execution_count": 29,
     "metadata": {},
     "output_type": "execute_result"
    }
   ],
   "source": [
    "arr[:,:] # returns all rows and columns"
   ]
  },
  {
   "cell_type": "code",
   "execution_count": 38,
   "id": "d4f25548",
   "metadata": {},
   "outputs": [
    {
     "data": {
      "text/plain": [
       "array([[5, 6],\n",
       "       [8, 9]])"
      ]
     },
     "execution_count": 38,
     "metadata": {},
     "output_type": "execute_result"
    }
   ],
   "source": [
    "arr[1:,1:] # returns all values in the 2 and 3 rows and columns"
   ]
  },
  {
   "cell_type": "code",
   "execution_count": 42,
   "id": "0e742c84",
   "metadata": {},
   "outputs": [
    {
     "data": {
      "text/plain": [
       "array([[2, 3],\n",
       "       [5, 6]])"
      ]
     },
     "execution_count": 42,
     "metadata": {},
     "output_type": "execute_result"
    }
   ],
   "source": [
    "arr[0:2,1:]"
   ]
  },
  {
   "cell_type": "code",
   "execution_count": 45,
   "id": "9f8d6aa1",
   "metadata": {},
   "outputs": [
    {
     "data": {
      "text/plain": [
       "array([5, 6])"
      ]
     },
     "execution_count": 45,
     "metadata": {},
     "output_type": "execute_result"
    }
   ],
   "source": [
    "arr[1,1:] # returns all the values in row 2 and column greater than 1 including 1"
   ]
  },
  {
   "cell_type": "code",
   "execution_count": 48,
   "id": "e780f1b0",
   "metadata": {},
   "outputs": [
    {
     "data": {
      "text/plain": [
       "array([[1, 2, 3, 4, 5],\n",
       "       [6, 7, 8, 9, 0],\n",
       "       [4, 6, 7, 2, 5]])"
      ]
     },
     "execution_count": 48,
     "metadata": {},
     "output_type": "execute_result"
    }
   ],
   "source": [
    "arr_nested[:,:]"
   ]
  },
  {
   "cell_type": "code",
   "execution_count": 50,
   "id": "bab69324",
   "metadata": {},
   "outputs": [
    {
     "data": {
      "text/plain": [
       "array([7, 8, 9])"
      ]
     },
     "execution_count": 50,
     "metadata": {},
     "output_type": "execute_result"
    }
   ],
   "source": [
    "arr_nested[1, 1:4]"
   ]
  },
  {
   "cell_type": "code",
   "execution_count": 52,
   "id": "e93c5d53",
   "metadata": {},
   "outputs": [
    {
     "data": {
      "text/plain": [
       "array([[8, 9],\n",
       "       [7, 2]])"
      ]
     },
     "execution_count": 52,
     "metadata": {},
     "output_type": "execute_result"
    }
   ],
   "source": [
    "arr_nested[1:, 2:4]"
   ]
  },
  {
   "cell_type": "code",
   "execution_count": 69,
   "id": "7782eb47",
   "metadata": {},
   "outputs": [],
   "source": [
    "arr2=np.arange(0,10) # returns evenly spaced values within a given value"
   ]
  },
  {
   "cell_type": "code",
   "execution_count": 70,
   "id": "c29cb2b8",
   "metadata": {},
   "outputs": [
    {
     "data": {
      "text/plain": [
       "array([0, 1, 2, 3, 4, 5, 6, 7, 8, 9])"
      ]
     },
     "execution_count": 70,
     "metadata": {},
     "output_type": "execute_result"
    }
   ],
   "source": [
    "arr2"
   ]
  },
  {
   "cell_type": "code",
   "execution_count": 71,
   "id": "099e7f30",
   "metadata": {},
   "outputs": [
    {
     "data": {
      "text/plain": [
       "array([ 0,  2,  4,  6,  8, 10, 12, 14, 16, 18])"
      ]
     },
     "execution_count": 71,
     "metadata": {},
     "output_type": "execute_result"
    }
   ],
   "source": [
    "np.arange(0,20, step=2)"
   ]
  },
  {
   "cell_type": "code",
   "execution_count": 74,
   "id": "9da0479a",
   "metadata": {},
   "outputs": [
    {
     "data": {
      "text/plain": [
       "array([ 0., 20.])"
      ]
     },
     "execution_count": 74,
     "metadata": {},
     "output_type": "execute_result"
    }
   ],
   "source": [
    "np.linspace(0,20, 2) # returns a specified number of elements"
   ]
  },
  {
   "cell_type": "code",
   "execution_count": 75,
   "id": "ced99d7e",
   "metadata": {},
   "outputs": [
    {
     "data": {
      "text/plain": [
       "array([  0,   1,   2, 100, 100, 100, 100, 100, 100, 100])"
      ]
     },
     "execution_count": 75,
     "metadata": {},
     "output_type": "execute_result"
    }
   ],
   "source": [
    "## copy() function and broadcasting\n",
    "arr2[3:]=100\n",
    "arr2"
   ]
  },
  {
   "cell_type": "code",
   "execution_count": 76,
   "id": "7427ddbe",
   "metadata": {},
   "outputs": [],
   "source": [
    "arr3=arr2"
   ]
  },
  {
   "cell_type": "code",
   "execution_count": 77,
   "id": "f6b3214b",
   "metadata": {},
   "outputs": [
    {
     "name": "stdout",
     "output_type": "stream",
     "text": [
      "[  0   1   2 500 500 500 500 500 500 500]\n"
     ]
    }
   ],
   "source": [
    "arr3[3:]=500\n",
    "print(arr3)"
   ]
  },
  {
   "cell_type": "code",
   "execution_count": 78,
   "id": "b2822f72",
   "metadata": {},
   "outputs": [
    {
     "data": {
      "text/plain": [
       "array([  0,   1,   2, 500, 500, 500, 500, 500, 500, 500])"
      ]
     },
     "execution_count": 78,
     "metadata": {},
     "output_type": "execute_result"
    }
   ],
   "source": [
    "arr2 # we see that the preivous array has the same value since arr2 is a reference type"
   ]
  },
  {
   "cell_type": "code",
   "execution_count": 79,
   "id": "9c3cc902",
   "metadata": {},
   "outputs": [],
   "source": [
    "arr3=arr2.copy()"
   ]
  },
  {
   "cell_type": "code",
   "execution_count": 80,
   "id": "0d6c962c",
   "metadata": {},
   "outputs": [
    {
     "name": "stdout",
     "output_type": "stream",
     "text": [
      "[  0   1   2 500 500 500 500 500 500 500]\n",
      "[  0   1   2 500 500 500 500 500 500 500]\n",
      "[   0    1    2 1000 1000 1000 1000 1000 1000 1000]\n"
     ]
    }
   ],
   "source": [
    "arr3[3:]=1000\n",
    "print(arr2)\n",
    "print(arr3)"
   ]
  },
  {
   "cell_type": "code",
   "execution_count": 86,
   "id": "547598f4",
   "metadata": {},
   "outputs": [
    {
     "name": "stdout",
     "output_type": "stream",
     "text": [
      "[ True  True False False False False False False False False]\n",
      "[0 1 2 0 0 0 0 0 0 0]\n"
     ]
    },
    {
     "data": {
      "text/plain": [
       "array([0, 1])"
      ]
     },
     "execution_count": 86,
     "metadata": {},
     "output_type": "execute_result"
    }
   ],
   "source": [
    "### some conditions are very useful in Exploratory Data Analysis\n",
    "\n",
    "val=2\n",
    "print(arr3 < val)\n",
    "print(arr3 % 10)\n",
    "arr3[arr3<val]"
   ]
  },
  {
   "cell_type": "code",
   "execution_count": 87,
   "id": "f598406e",
   "metadata": {},
   "outputs": [
    {
     "data": {
      "text/plain": [
       "array([[ 0,  1,  2,  3,  4,  5,  6,  7,  8,  9],\n",
       "       [10, 11, 12, 13, 14, 15, 16, 17, 18, 19],\n",
       "       [20, 21, 22, 23, 24, 25, 26, 27, 28, 29],\n",
       "       [30, 31, 32, 33, 34, 35, 36, 37, 38, 39],\n",
       "       [40, 41, 42, 43, 44, 45, 46, 47, 48, 49],\n",
       "       [50, 51, 52, 53, 54, 55, 56, 57, 58, 59],\n",
       "       [60, 61, 62, 63, 64, 65, 66, 67, 68, 69],\n",
       "       [70, 71, 72, 73, 74, 75, 76, 77, 78, 79],\n",
       "       [80, 81, 82, 83, 84, 85, 86, 87, 88, 89],\n",
       "       [90, 91, 92, 93, 94, 95, 96, 97, 98, 99]])"
      ]
     },
     "execution_count": 87,
     "metadata": {},
     "output_type": "execute_result"
    }
   ],
   "source": [
    "## Create array and rehape\n",
    "\n",
    "np.arange(0,100).reshape((10,10))"
   ]
  },
  {
   "cell_type": "code",
   "execution_count": 88,
   "id": "ddf5bd42",
   "metadata": {},
   "outputs": [
    {
     "data": {
      "text/plain": [
       "array([     0,      1,      4, 500000, 500000, 500000, 500000, 500000,\n",
       "       500000, 500000])"
      ]
     },
     "execution_count": 88,
     "metadata": {},
     "output_type": "execute_result"
    }
   ],
   "source": [
    "arr2 * arr3 # doing vector wise multiplication"
   ]
  },
  {
   "cell_type": "code",
   "execution_count": 90,
   "id": "26b8414d",
   "metadata": {},
   "outputs": [
    {
     "data": {
      "text/plain": [
       "array([1., 1., 1., 1., 1., 1., 1., 1., 1., 1., 1., 1., 1., 1., 1., 1., 1.,\n",
       "       1., 1., 1.])"
      ]
     },
     "execution_count": 90,
     "metadata": {},
     "output_type": "execute_result"
    }
   ],
   "source": [
    "## we can create a vector with only ones of size n\n",
    "\n",
    "n=20\n",
    "np.ones(n)"
   ]
  },
  {
   "cell_type": "code",
   "execution_count": 91,
   "id": "d46dc31d",
   "metadata": {},
   "outputs": [
    {
     "data": {
      "text/plain": [
       "array([[1, 1, 1, 1],\n",
       "       [1, 1, 1, 1]])"
      ]
     },
     "execution_count": 91,
     "metadata": {},
     "output_type": "execute_result"
    }
   ],
   "source": [
    "## given a tuple we can make a multidimensional array with a desired datatype\n",
    "\n",
    "np.ones((2,4), dtype=int)"
   ]
  },
  {
   "cell_type": "code",
   "execution_count": 92,
   "id": "a4f51bb0",
   "metadata": {},
   "outputs": [
    {
     "data": {
      "text/plain": [
       "array([0., 0., 0., 0.])"
      ]
     },
     "execution_count": 92,
     "metadata": {},
     "output_type": "execute_result"
    }
   ],
   "source": [
    "np.zeros(4)"
   ]
  },
  {
   "cell_type": "code",
   "execution_count": 95,
   "id": "3f509f58",
   "metadata": {},
   "outputs": [
    {
     "data": {
      "text/plain": [
       "array([[3., 3., 3.],\n",
       "       [3., 3., 3.],\n",
       "       [3., 3., 3.]])"
      ]
     },
     "execution_count": 95,
     "metadata": {},
     "output_type": "execute_result"
    }
   ],
   "source": [
    "3 - np.zeros((3,3), dtype=float) "
   ]
  },
  {
   "cell_type": "code",
   "execution_count": 96,
   "id": "00c20717",
   "metadata": {},
   "outputs": [
    {
     "data": {
      "text/plain": [
       "array([[0.05472592, 0.90749039, 0.44150875, 0.39614951, 0.11983537],\n",
       "       [0.19628508, 0.90301262, 0.18595461, 0.16385642, 0.80287041]])"
      ]
     },
     "execution_count": 96,
     "metadata": {},
     "output_type": "execute_result"
    }
   ],
   "source": [
    "## random uniform distribution\n",
    "\n",
    "np.random.rand(2,5) # returns random samples in a given shape"
   ]
  },
  {
   "cell_type": "code",
   "execution_count": 105,
   "id": "fccf0739",
   "metadata": {},
   "outputs": [],
   "source": [
    "## random normal distribution\n",
    "arr_ex=np.random.randn(4,4)"
   ]
  },
  {
   "cell_type": "code",
   "execution_count": 106,
   "id": "04c22368",
   "metadata": {},
   "outputs": [
    {
     "data": {
      "text/plain": [
       "array([[-0.15530583,  0.07870024,  0.0371018 , -1.25289687],\n",
       "       [ 1.08616508,  0.41601522,  1.77110109, -0.73183286],\n",
       "       [ 0.56330079, -0.02139855,  0.42503606,  0.49715408],\n",
       "       [ 1.43987033,  0.39964347,  1.55247663, -0.14582328]])"
      ]
     },
     "execution_count": 106,
     "metadata": {},
     "output_type": "execute_result"
    }
   ],
   "source": [
    "arr_ex"
   ]
  },
  {
   "cell_type": "code",
   "execution_count": 107,
   "id": "98b386f8",
   "metadata": {},
   "outputs": [],
   "source": [
    "## some seaborn and pandas\n",
    "\n",
    "import seaborn as sns\n",
    "import pandas as pd"
   ]
  },
  {
   "cell_type": "code",
   "execution_count": 114,
   "id": "198de34d",
   "metadata": {},
   "outputs": [
    {
     "data": {
      "text/plain": [
       "<Axes: ylabel='Count'>"
      ]
     },
     "execution_count": 114,
     "metadata": {},
     "output_type": "execute_result"
    },
    {
     "data": {
      "image/png": "[encoded data removed]",
      "text/plain": [
       "<Figure size 640x480 with 1 Axes>"
      ]
     },
     "metadata": {},
     "output_type": "display_data"
    }
   ],
   "source": [
    "data = pd.DataFrame(arr_ex.reshape(16, 1))\n",
    "sns.histplot(data, kde=True)"
   ]
  },
  {
   "cell_type": "code",
   "execution_count": 116,
   "id": "0adb5a4d",
   "metadata": {},
   "outputs": [
    {
     "data": {
      "text/plain": [
       "array([[23,  6],\n",
       "       [41, 38],\n",
       "       [90, 31],\n",
       "       [15, 26]])"
      ]
     },
     "execution_count": 116,
     "metadata": {},
     "output_type": "execute_result"
    }
   ],
   "source": [
    "## generate a random integer\n",
    "\n",
    "np.random.randint(0,100, 8).reshape(4,2) # generated a vector of 8 values ranging from 0 to 100"
   ]
  },
  {
   "cell_type": "code",
   "execution_count": 117,
   "id": "9a60b07a",
   "metadata": {},
   "outputs": [
    {
     "data": {
      "text/plain": [
       "array([[0.94824446, 0.35994161, 0.41047759, 0.82222764],\n",
       "       [0.17331016, 0.44104296, 0.77961338, 0.1349133 ]])"
      ]
     },
     "execution_count": 117,
     "metadata": {},
     "output_type": "execute_result"
    }
   ],
   "source": [
    "np.random.random_sample((2,4)) # generates a random sample array for a given size"
   ]
  },
  {
   "cell_type": "code",
   "execution_count": 118,
   "id": "2aa1bf89",
   "metadata": {},
   "outputs": [
    {
     "data": {
      "text/plain": [
       "array([0.50071176])"
      ]
     },
     "execution_count": 118,
     "metadata": {},
     "output_type": "execute_result"
    }
   ],
   "source": [
    "np.random.random_sample(1) # from the \"continuous uniform\" distribution over the stated interval"
   ]
  },
  {
   "cell_type": "code",
   "execution_count": null,
   "id": "1b9c1344",
   "metadata": {},
   "outputs": [],
   "source": []
  }
 ],
 "metadata": {
  "kernelspec": {
   "display_name": "Python 3 (ipykernel)",
   "language": "python",
   "name": "python3"
  },
  "language_info": {
   "codemirror_mode": {
    "name": "ipython",
    "version": 3
   },
   "file_extension": ".py",
   "mimetype": "text/x-python",
   "name": "python",
   "nbconvert_exporter": "python",
   "pygments_lexer": "ipython3",
   "version": "3.11.5"
  }
 },
 "nbformat": 4,
 "nbformat_minor": 5
}
