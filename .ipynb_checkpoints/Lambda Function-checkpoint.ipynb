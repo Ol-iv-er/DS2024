{
 "cells": [
  {
   "cell_type": "markdown",
   "id": "cad83aef",
   "metadata": {},
   "source": [
    "# Lambda Function\n",
    "\n",
    "Also called anonymous function.\n",
    "\n",
    "A function with no name.\n",
    "\n",
    "They work with all arguments like positional and keywords."
   ]
  },
  {
   "cell_type": "code",
   "execution_count": 1,
   "id": "fbee11d8",
   "metadata": {},
   "outputs": [],
   "source": [
    "def addition(a,b):\n",
    "    return a + b"
   ]
  },
  {
   "cell_type": "code",
   "execution_count": 2,
   "id": "06fa3358",
   "metadata": {},
   "outputs": [
    {
     "data": {
      "text/plain": [
       "9"
      ]
     },
     "execution_count": 2,
     "metadata": {},
     "output_type": "execute_result"
    }
   ],
   "source": [
    "addition(4,5)"
   ]
  },
  {
   "cell_type": "code",
   "execution_count": 3,
   "id": "3f5b3004",
   "metadata": {},
   "outputs": [],
   "source": [
    "add = lambda a, b: a + b"
   ]
  },
  {
   "cell_type": "code",
   "execution_count": 4,
   "id": "b2770c57",
   "metadata": {},
   "outputs": [
    {
     "data": {
      "text/plain": [
       "11"
      ]
     },
     "execution_count": 4,
     "metadata": {},
     "output_type": "execute_result"
    }
   ],
   "source": [
    "add(5,6)"
   ]
  },
  {
   "cell_type": "code",
   "execution_count": 5,
   "id": "8b31eaae",
   "metadata": {},
   "outputs": [],
   "source": [
    "def even(num):\n",
    "    if num % 2 ==0:\n",
    "        return True"
   ]
  },
  {
   "cell_type": "code",
   "execution_count": 6,
   "id": "a5bc780d",
   "metadata": {},
   "outputs": [
    {
     "data": {
      "text/plain": [
       "True"
      ]
     },
     "execution_count": 6,
     "metadata": {},
     "output_type": "execute_result"
    }
   ],
   "source": [
    "even(44)"
   ]
  },
  {
   "cell_type": "code",
   "execution_count": 8,
   "id": "ab4f4da8",
   "metadata": {},
   "outputs": [],
   "source": [
    "even1=lambda a: a%2==0"
   ]
  },
  {
   "cell_type": "code",
   "execution_count": 9,
   "id": "08c7cb1e",
   "metadata": {},
   "outputs": [
    {
     "data": {
      "text/plain": [
       "True"
      ]
     },
     "execution_count": 9,
     "metadata": {},
     "output_type": "execute_result"
    }
   ],
   "source": [
    "even1(34)"
   ]
  },
  {
   "cell_type": "code",
   "execution_count": 12,
   "id": "ae3e0b62",
   "metadata": {},
   "outputs": [],
   "source": [
    "triple_add=lambda x=0, y=0, z=0: x+y+z"
   ]
  },
  {
   "cell_type": "code",
   "execution_count": 13,
   "id": "9b417e52",
   "metadata": {},
   "outputs": [
    {
     "data": {
      "text/plain": [
       "27"
      ]
     },
     "execution_count": 13,
     "metadata": {},
     "output_type": "execute_result"
    }
   ],
   "source": [
    "triple_add(12, 11,4)"
   ]
  },
  {
   "cell_type": "code",
   "execution_count": 14,
   "id": "c256dde0",
   "metadata": {},
   "outputs": [
    {
     "data": {
      "text/plain": [
       "0"
      ]
     },
     "execution_count": 14,
     "metadata": {},
     "output_type": "execute_result"
    }
   ],
   "source": [
    "triple_add()"
   ]
  },
  {
   "cell_type": "code",
   "execution_count": null,
   "id": "ebbcd82b",
   "metadata": {},
   "outputs": [],
   "source": []
  }
 ],
 "metadata": {
  "kernelspec": {
   "display_name": "Python 3 (ipykernel)",
   "language": "python",
   "name": "python3"
  },
  "language_info": {
   "codemirror_mode": {
    "name": "ipython",
    "version": 3
   },
   "file_extension": ".py",
   "mimetype": "text/x-python",
   "name": "python",
   "nbconvert_exporter": "python",
   "pygments_lexer": "ipython3",
   "version": "3.11.5"
  }
 },
 "nbformat": 4,
 "nbformat_minor": 5
}
