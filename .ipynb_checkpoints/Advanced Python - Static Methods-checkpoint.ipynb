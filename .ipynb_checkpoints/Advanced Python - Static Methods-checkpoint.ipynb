{
 "cells": [
  {
   "cell_type": "markdown",
   "id": "16cded2d",
   "metadata": {},
   "source": [
    "## Static Methods"
   ]
  },
  {
   "cell_type": "code",
   "execution_count": 1,
   "id": "5f29d067",
   "metadata": {},
   "outputs": [],
   "source": [
    "import datetime\n",
    "now = datetime.datetime.now()"
   ]
  },
  {
   "cell_type": "code",
   "execution_count": 2,
   "id": "29829932",
   "metadata": {},
   "outputs": [],
   "source": [
    "class Car:\n",
    "    base_price = 100000 # class variable\n",
    "    def __init__(self, windows, doors, power):\n",
    "        self.windows = windows\n",
    "        self.doors = doors\n",
    "        self.power = power\n",
    "    def get_base_price(self):\n",
    "        print(f\"The base price is {self.base_price}.\")\n",
    "    @classmethod\n",
    "    def revise_base_price(cls, inflation):\n",
    "        cls.base_price = cls.base_price + cls.base_price * inflation"
   ]
  },
  {
   "cell_type": "code",
   "execution_count": null,
   "id": "e550e029",
   "metadata": {},
   "outputs": [],
   "source": []
  }
 ],
 "metadata": {
  "kernelspec": {
   "display_name": "Python 3 (ipykernel)",
   "language": "python",
   "name": "python3"
  },
  "language_info": {
   "codemirror_mode": {
    "name": "ipython",
    "version": 3
   },
   "file_extension": ".py",
   "mimetype": "text/x-python",
   "name": "python",
   "nbconvert_exporter": "python",
   "pygments_lexer": "ipython3",
   "version": "3.11.5"
  }
 },
 "nbformat": 4,
 "nbformat_minor": 5
}
