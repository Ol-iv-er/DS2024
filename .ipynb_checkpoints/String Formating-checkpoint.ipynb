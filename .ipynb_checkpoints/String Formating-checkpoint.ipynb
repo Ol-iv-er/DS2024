{
 "cells": [
  {
   "cell_type": "markdown",
   "id": "02adbb1b",
   "metadata": {},
   "source": [
    "# String Formating in Python"
   ]
  },
  {
   "cell_type": "code",
   "execution_count": 1,
   "id": "cfe6eae9",
   "metadata": {},
   "outputs": [
    {
     "name": "stdout",
     "output_type": "stream",
     "text": [
      "Hello World\n"
     ]
    }
   ],
   "source": [
    "print(\"Hello World\")"
   ]
  },
  {
   "cell_type": "code",
   "execution_count": 3,
   "id": "4637372e",
   "metadata": {},
   "outputs": [],
   "source": [
    "def greetings(name):\n",
    "    return 'Hello {}, welcome to the community'.format(name)"
   ]
  },
  {
   "cell_type": "code",
   "execution_count": 4,
   "id": "e8f327cd",
   "metadata": {},
   "outputs": [
    {
     "data": {
      "text/plain": [
       "'Hello Oliver, welcome to the community'"
      ]
     },
     "execution_count": 4,
     "metadata": {},
     "output_type": "execute_result"
    }
   ],
   "source": [
    "greetings('Oliver')"
   ]
  },
  {
   "cell_type": "code",
   "execution_count": 8,
   "id": "45515d98",
   "metadata": {},
   "outputs": [],
   "source": [
    "def welcome_(firstname, lastname):\n",
    "    return \"Welcome {}. Everyone Mr. {} is here!\".format(firstname, lastname)"
   ]
  },
  {
   "cell_type": "code",
   "execution_count": 9,
   "id": "f28c205e",
   "metadata": {},
   "outputs": [
    {
     "data": {
      "text/plain": [
       "'Welcome Oliver. Everyone Mr. Ramirez is here!'"
      ]
     },
     "execution_count": 9,
     "metadata": {},
     "output_type": "execute_result"
    }
   ],
   "source": [
    "welcome_('Oliver', 'Ramirez')"
   ]
  },
  {
   "cell_type": "code",
   "execution_count": 16,
   "id": "6a384ef4",
   "metadata": {},
   "outputs": [],
   "source": [
    "def email_generator(firstname, lastname, digits):\n",
    "    return \"Your new email is {}{}{}@gmail.com\".format(firstname,lastname,digits)"
   ]
  },
  {
   "cell_type": "code",
   "execution_count": 17,
   "id": "766d36b0",
   "metadata": {},
   "outputs": [
    {
     "data": {
      "text/plain": [
       "'Your new email is OliverRamirez779@gmail.com'"
      ]
     },
     "execution_count": 17,
     "metadata": {},
     "output_type": "execute_result"
    }
   ],
   "source": [
    "email_generator('Oliver', 'Ramirez', 779)"
   ]
  },
  {
   "cell_type": "code",
   "execution_count": 18,
   "id": "66902c59",
   "metadata": {},
   "outputs": [],
   "source": [
    "def password_generator(input1, input2, input3):\n",
    "    return 'Your new password is {input2}24{input3}-{input1}. Thank you for choosing StablePass.'.format(input1=input1, input2=input2, input3=input3)"
   ]
  },
  {
   "cell_type": "code",
   "execution_count": 19,
   "id": "048c7f7d",
   "metadata": {},
   "outputs": [
    {
     "data": {
      "text/plain": [
       "'Your new password is loop2477-dance. Thank you for choosing StablePass.'"
      ]
     },
     "execution_count": 19,
     "metadata": {},
     "output_type": "execute_result"
    }
   ],
   "source": [
    "password_generator('dance', 'loop', 77)"
   ]
  },
  {
   "cell_type": "code",
   "execution_count": null,
   "id": "42a1920d",
   "metadata": {},
   "outputs": [],
   "source": []
  }
 ],
 "metadata": {
  "kernelspec": {
   "display_name": "Python 3 (ipykernel)",
   "language": "python",
   "name": "python3"
  },
  "language_info": {
   "codemirror_mode": {
    "name": "ipython",
    "version": 3
   },
   "file_extension": ".py",
   "mimetype": "text/x-python",
   "name": "python",
   "nbconvert_exporter": "python",
   "pygments_lexer": "ipython3",
   "version": "3.11.5"
  }
 },
 "nbformat": 4,
 "nbformat_minor": 5
}
