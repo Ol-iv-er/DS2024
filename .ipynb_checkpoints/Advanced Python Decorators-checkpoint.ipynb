{
 "cells": [
  {
   "cell_type": "markdown",
   "id": "31da51b4",
   "metadata": {},
   "source": [
    "# Python Decorators"
   ]
  },
  {
   "cell_type": "code",
   "execution_count": 2,
   "id": "919e9244",
   "metadata": {},
   "outputs": [],
   "source": [
    "## function copy\n",
    "## closures\n",
    "## decorators"
   ]
  },
  {
   "cell_type": "code",
   "execution_count": 3,
   "id": "938e03af",
   "metadata": {},
   "outputs": [],
   "source": [
    "def welcome():\n",
    "    print(\"Welcome to the Jungle!\")"
   ]
  },
  {
   "cell_type": "code",
   "execution_count": 5,
   "id": "7aed30c9",
   "metadata": {},
   "outputs": [
    {
     "name": "stdout",
     "output_type": "stream",
     "text": [
      "Welcome to the Jungle!\n"
     ]
    }
   ],
   "source": [
    "wel = welcome()"
   ]
  },
  {
   "cell_type": "code",
   "execution_count": 9,
   "id": "2c1c15e9",
   "metadata": {},
   "outputs": [],
   "source": [
    "def welcome():\n",
    "    return \"Welcome to the Jungle!\""
   ]
  },
  {
   "cell_type": "code",
   "execution_count": 10,
   "id": "dc370c9d",
   "metadata": {},
   "outputs": [],
   "source": [
    "wel1 = welcome # here the welcome function has been copied\n",
    "del welcome"
   ]
  },
  {
   "cell_type": "code",
   "execution_count": 11,
   "id": "0f3812b7",
   "metadata": {},
   "outputs": [
    {
     "data": {
      "text/plain": [
       "<function __main__.welcome()>"
      ]
     },
     "execution_count": 11,
     "metadata": {},
     "output_type": "execute_result"
    }
   ],
   "source": [
    "wel1"
   ]
  },
  {
   "cell_type": "code",
   "execution_count": 12,
   "id": "9d937666",
   "metadata": {},
   "outputs": [
    {
     "ename": "NameError",
     "evalue": "name 'welcome' is not defined",
     "output_type": "error",
     "traceback": [
      "\u001b[0;31m---------------------------------------------------------------------------\u001b[0m",
      "\u001b[0;31mNameError\u001b[0m                                 Traceback (most recent call last)",
      "Cell \u001b[0;32mIn[12], line 1\u001b[0m\n\u001b[0;32m----> 1\u001b[0m welcome()\n",
      "\u001b[0;31mNameError\u001b[0m: name 'welcome' is not defined"
     ]
    }
   ],
   "source": [
    "welcome() # we see here that we have deleted it"
   ]
  },
  {
   "cell_type": "code",
   "execution_count": 15,
   "id": "c200f876",
   "metadata": {},
   "outputs": [],
   "source": [
    "### closures\n",
    "#### functions inside functions\n",
    "\n",
    "def main_welcome():\n",
    "    msg = 'Hello everyone'\n",
    "    def sub_welcome(): # the sub fucntion can access all the variables in the main function\n",
    "        print('Welcome to this New World.')\n",
    "        print(msg)\n",
    "        print(\"Please say hello to everyone.\")\n",
    "    return sub_welcome()"
   ]
  },
  {
   "cell_type": "code",
   "execution_count": 17,
   "id": "74e93359",
   "metadata": {},
   "outputs": [
    {
     "name": "stdout",
     "output_type": "stream",
     "text": [
      "Welcome to this New World.\n",
      "Hello everyone\n",
      "Please say hello to everyone.\n"
     ]
    }
   ],
   "source": [
    "main_welcome()"
   ]
  },
  {
   "cell_type": "code",
   "execution_count": null,
   "id": "5c079fd1",
   "metadata": {},
   "outputs": [],
   "source": []
  }
 ],
 "metadata": {
  "kernelspec": {
   "display_name": "Python 3 (ipykernel)",
   "language": "python",
   "name": "python3"
  },
  "language_info": {
   "codemirror_mode": {
    "name": "ipython",
    "version": 3
   },
   "file_extension": ".py",
   "mimetype": "text/x-python",
   "name": "python",
   "nbconvert_exporter": "python",
   "pygments_lexer": "ipython3",
   "version": "3.11.5"
  }
 },
 "nbformat": 4,
 "nbformat_minor": 5
}
