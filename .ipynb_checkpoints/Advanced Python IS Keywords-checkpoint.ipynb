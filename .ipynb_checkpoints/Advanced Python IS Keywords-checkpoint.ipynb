{
 "cells": [
  {
   "cell_type": "markdown",
   "id": "c9d473a5",
   "metadata": {},
   "source": [
    "## == vs is\n",
    "\n",
    "The == operator compares the value or equality of two objects, whereas the Python is operator checks whether two variables point to the same object in memory."
   ]
  },
  {
   "cell_type": "code",
   "execution_count": 14,
   "id": "673ca5c0",
   "metadata": {},
   "outputs": [
    {
     "name": "stdout",
     "output_type": "stream",
     "text": [
      "True\n",
      "False\n"
     ]
    }
   ],
   "source": [
    "x = [\"apple\", \"banana\", \"cherry\"]\n",
    "\n",
    "y = [\"apple\", \"banana\", \"cherry\"] # when we initialize a new list we have a different memory address\n",
    "\n",
    "print(x == y) # x and y have the same values\n",
    "print(x is y) # x and y are not at the same address"
   ]
  },
  {
   "cell_type": "code",
   "execution_count": 15,
   "id": "8316ef87",
   "metadata": {},
   "outputs": [
    {
     "name": "stdout",
     "output_type": "stream",
     "text": [
      "True\n",
      "True\n"
     ]
    }
   ],
   "source": [
    "lst1 = ['oliver', 'jone', 'kane']\n",
    "lst2 = lst1\n",
    "\n",
    "print(lst1 == lst2)\n",
    "print(lst1 is lst2)"
   ]
  },
  {
   "cell_type": "code",
   "execution_count": 16,
   "id": "ffdef16b",
   "metadata": {},
   "outputs": [
    {
     "name": "stdout",
     "output_type": "stream",
     "text": [
      "['gonth', 'jone', 'kane']\n",
      "['gonth', 'jone', 'kane']\n"
     ]
    }
   ],
   "source": [
    "# Mutability \n",
    "lst2[0] = 'gonth'\n",
    "print(lst2)\n",
    "print(lst1) # both are share the same memory address so changing one changes all others sharing the address."
   ]
  },
  {
   "cell_type": "code",
   "execution_count": 17,
   "id": "77e3316b",
   "metadata": {},
   "outputs": [],
   "source": [
    "lst3 = [1,2,3,4,5]\n",
    "lst4 = lst3.copy() # .copy() copies the values onto a different memory address"
   ]
  },
  {
   "cell_type": "code",
   "execution_count": 19,
   "id": "e853ceb4",
   "metadata": {},
   "outputs": [
    {
     "data": {
      "text/plain": [
       "True"
      ]
     },
     "execution_count": 19,
     "metadata": {},
     "output_type": "execute_result"
    }
   ],
   "source": [
    "lst3 == lst4"
   ]
  },
  {
   "cell_type": "code",
   "execution_count": 20,
   "id": "357085e7",
   "metadata": {},
   "outputs": [
    {
     "data": {
      "text/plain": [
       "False"
      ]
     },
     "execution_count": 20,
     "metadata": {},
     "output_type": "execute_result"
    }
   ],
   "source": [
    "lst3 is lst4"
   ]
  },
  {
   "cell_type": "code",
   "execution_count": 21,
   "id": "80c24a6d",
   "metadata": {},
   "outputs": [
    {
     "data": {
      "text/plain": [
       "[1, 8, 3, 4, 5]"
      ]
     },
     "execution_count": 21,
     "metadata": {},
     "output_type": "execute_result"
    }
   ],
   "source": [
    "lst3[1] = 8\n",
    "lst3"
   ]
  },
  {
   "cell_type": "code",
   "execution_count": 23,
   "id": "211f595f",
   "metadata": {},
   "outputs": [
    {
     "data": {
      "text/plain": [
       "[1, 2, 3, 4, 5]"
      ]
     },
     "execution_count": 23,
     "metadata": {},
     "output_type": "execute_result"
    }
   ],
   "source": [
    "lst4 # we see no change to the copied list lst3 since they are at different addresses"
   ]
  },
  {
   "cell_type": "code",
   "execution_count": null,
   "id": "e2ef92e0",
   "metadata": {},
   "outputs": [],
   "source": []
  }
 ],
 "metadata": {
  "kernelspec": {
   "display_name": "Python 3 (ipykernel)",
   "language": "python",
   "name": "python3"
  },
  "language_info": {
   "codemirror_mode": {
    "name": "ipython",
    "version": 3
   },
   "file_extension": ".py",
   "mimetype": "text/x-python",
   "name": "python",
   "nbconvert_exporter": "python",
   "pygments_lexer": "ipython3",
   "version": "3.11.5"
  }
 },
 "nbformat": 4,
 "nbformat_minor": 5
}
