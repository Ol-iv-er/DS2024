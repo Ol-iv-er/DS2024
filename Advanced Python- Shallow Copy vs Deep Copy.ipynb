{
 "cells": [
  {
   "cell_type": "markdown",
   "id": "df74f0b3",
   "metadata": {},
   "source": [
    "## Shallow Copy vs Deep Copy"
   ]
  },
  {
   "cell_type": "code",
   "execution_count": 1,
   "id": "92e2d843",
   "metadata": {},
   "outputs": [],
   "source": [
    "## =, copy(), deepcopy()"
   ]
  },
  {
   "cell_type": "code",
   "execution_count": 2,
   "id": "dd741d85",
   "metadata": {},
   "outputs": [],
   "source": [
    "lst1=[1,2,4,5,6]\n",
    "lst2=lst1 # this = is a pointer and copies the memory address of the lst1 to lst2"
   ]
  },
  {
   "cell_type": "code",
   "execution_count": 3,
   "id": "c7f57bf3",
   "metadata": {},
   "outputs": [
    {
     "data": {
      "text/plain": [
       "([1, 2, 4, 5, 6], [1, 2, 4, 5, 6])"
      ]
     },
     "execution_count": 3,
     "metadata": {},
     "output_type": "execute_result"
    }
   ],
   "source": [
    "lst1, lst2"
   ]
  },
  {
   "cell_type": "code",
   "execution_count": 5,
   "id": "e08acc08",
   "metadata": {},
   "outputs": [
    {
     "data": {
      "text/plain": [
       "[1, 100, 4, 5, 6]"
      ]
     },
     "execution_count": 5,
     "metadata": {},
     "output_type": "execute_result"
    }
   ],
   "source": [
    "lst2[1]=100\n",
    "lst2"
   ]
  },
  {
   "cell_type": "code",
   "execution_count": 7,
   "id": "d857f547",
   "metadata": {},
   "outputs": [
    {
     "data": {
      "text/plain": [
       "[1, 100, 4, 5, 6]"
      ]
     },
     "execution_count": 7,
     "metadata": {},
     "output_type": "execute_result"
    }
   ],
   "source": [
    "lst1"
   ]
  },
  {
   "cell_type": "code",
   "execution_count": 8,
   "id": "aa710b58",
   "metadata": {},
   "outputs": [],
   "source": [
    "## copy\n",
    "## shallow copy\n",
    "lst1=[1,2,3,4]\n",
    "lst2=lst1.copy()"
   ]
  },
  {
   "cell_type": "code",
   "execution_count": 10,
   "id": "0b9f4c0b",
   "metadata": {},
   "outputs": [],
   "source": [
    "lst2\n",
    "lst2[0]=11"
   ]
  },
  {
   "cell_type": "code",
   "execution_count": 13,
   "id": "d10b675b",
   "metadata": {},
   "outputs": [
    {
     "data": {
      "text/plain": [
       "([11, 2, 3, 4], [1, 2, 3, 4])"
      ]
     },
     "execution_count": 13,
     "metadata": {},
     "output_type": "execute_result"
    }
   ],
   "source": [
    "lst2, lst1"
   ]
  },
  {
   "cell_type": "code",
   "execution_count": 14,
   "id": "a5b13f1b",
   "metadata": {},
   "outputs": [],
   "source": [
    "## shallow copy with respect to nested list\n",
    "lst1=[[1,2,3,4], [5,6,7,8]]\n",
    "lst2=lst1.copy()"
   ]
  },
  {
   "cell_type": "code",
   "execution_count": 15,
   "id": "2bad1fd1",
   "metadata": {},
   "outputs": [
    {
     "data": {
      "text/plain": [
       "([[1, 2, 3, 4], [5, 6, 7, 8]], [[1, 2, 3, 4], [5, 6, 7, 8]])"
      ]
     },
     "execution_count": 15,
     "metadata": {},
     "output_type": "execute_result"
    }
   ],
   "source": [
    "lst1, lst2"
   ]
  },
  {
   "cell_type": "code",
   "execution_count": 16,
   "id": "d4dbd2b3",
   "metadata": {},
   "outputs": [
    {
     "data": {
      "text/plain": [
       "([[1, 11, 3, 4], [5, 6, 7, 8]], [[1, 11, 3, 4], [5, 6, 7, 8]])"
      ]
     },
     "execution_count": 16,
     "metadata": {},
     "output_type": "execute_result"
    }
   ],
   "source": [
    "lst2[0][1]=11\n",
    "lst2, lst1"
   ]
  },
  {
   "cell_type": "markdown",
   "id": "e6292307",
   "metadata": {},
   "source": [
    "with nested list the .copy() is the same as using = and just copies the memory address of the nested list and nothing new is created"
   ]
  },
  {
   "cell_type": "code",
   "execution_count": 18,
   "id": "39de9252",
   "metadata": {},
   "outputs": [
    {
     "data": {
      "text/plain": [
       "[[1, 2, 3, 4], [5, 6, 7, 8], [11, 44, 55]]"
      ]
     },
     "execution_count": 18,
     "metadata": {},
     "output_type": "execute_result"
    }
   ],
   "source": [
    "lst1.append([11,44,55])\n",
    "lst1"
   ]
  },
  {
   "cell_type": "code",
   "execution_count": 19,
   "id": "a498b6e3",
   "metadata": {},
   "outputs": [
    {
     "data": {
      "text/plain": [
       "[[1, 11, 3, 4], [5, 6, 7, 8]]"
      ]
     },
     "execution_count": 19,
     "metadata": {},
     "output_type": "execute_result"
    }
   ],
   "source": [
    "lst2"
   ]
  },
  {
   "cell_type": "markdown",
   "id": "6d8f8caf",
   "metadata": {},
   "source": [
    "when making changes to the oringal values that were copied those will reflect in both list. But if we make additions to any list the new values will not appear in the other list."
   ]
  },
  {
   "cell_type": "code",
   "execution_count": 20,
   "id": "f23b55e2",
   "metadata": {},
   "outputs": [
    {
     "data": {
      "text/plain": [
       "([[1, 2, 3, 4], [5, 111, 7, 8], [11, 44, 55]], [[1, 11, 3, 4], [5, 6, 7, 8]])"
      ]
     },
     "execution_count": 20,
     "metadata": {},
     "output_type": "execute_result"
    }
   ],
   "source": [
    "lst1[1][1]=111\n",
    "lst1, lst2"
   ]
  },
  {
   "cell_type": "markdown",
   "id": "1f3f25e8",
   "metadata": {},
   "source": [
    "It seems at the point of appending the list act like two separate objects."
   ]
  },
  {
   "cell_type": "code",
   "execution_count": 21,
   "id": "e9f97608",
   "metadata": {},
   "outputs": [],
   "source": [
    "## deep copy\n",
    "import copy\n",
    "lst1=[1,2,3,4]\n",
    "lst2=copy.deepcopy(lst1) "
   ]
  },
  {
   "cell_type": "code",
   "execution_count": 22,
   "id": "3b7a94a9",
   "metadata": {},
   "outputs": [
    {
     "data": {
      "text/plain": [
       "([1, 2, 3, 4], [1, 2, 3, 4])"
      ]
     },
     "execution_count": 22,
     "metadata": {},
     "output_type": "execute_result"
    }
   ],
   "source": [
    "lst1, lst2"
   ]
  },
  {
   "cell_type": "code",
   "execution_count": 23,
   "id": "2c59df1d",
   "metadata": {},
   "outputs": [
    {
     "data": {
      "text/plain": [
       "True"
      ]
     },
     "execution_count": 23,
     "metadata": {},
     "output_type": "execute_result"
    }
   ],
   "source": [
    "lst1 == lst2"
   ]
  },
  {
   "cell_type": "code",
   "execution_count": 24,
   "id": "97f99b87",
   "metadata": {},
   "outputs": [
    {
     "data": {
      "text/plain": [
       "False"
      ]
     },
     "execution_count": 24,
     "metadata": {},
     "output_type": "execute_result"
    }
   ],
   "source": [
    "lst1 is lst2 # memory address is different"
   ]
  },
  {
   "cell_type": "markdown",
   "id": "d8571e91",
   "metadata": {},
   "source": [
    "deep copy makes a new copy of list at a different memory address"
   ]
  },
  {
   "cell_type": "code",
   "execution_count": 25,
   "id": "d32be683",
   "metadata": {},
   "outputs": [
    {
     "data": {
      "text/plain": [
       "([1, 1111, 3, 4], [1, 2, 3, 4])"
      ]
     },
     "execution_count": 25,
     "metadata": {},
     "output_type": "execute_result"
    }
   ],
   "source": [
    "lst1[1]=1111\n",
    "lst1,lst2"
   ]
  },
  {
   "cell_type": "markdown",
   "id": "989a4443",
   "metadata": {},
   "source": [
    "### In a normal list shallow copy == deep copy"
   ]
  },
  {
   "cell_type": "code",
   "execution_count": 26,
   "id": "270f1021",
   "metadata": {},
   "outputs": [],
   "source": [
    "## deep copy on nest list\n",
    "lst1 = [[1,2,3,4], [5,6,7,8]]\n",
    "lst2 = copy.deepcopy(lst1)"
   ]
  },
  {
   "cell_type": "code",
   "execution_count": 27,
   "id": "d31a47bd",
   "metadata": {},
   "outputs": [
    {
     "data": {
      "text/plain": [
       "([[1, 2, 3, 4], [5, 6, 7, 8]], [[1, 2, 3, 4], [5, 6, 7, 8]])"
      ]
     },
     "execution_count": 27,
     "metadata": {},
     "output_type": "execute_result"
    }
   ],
   "source": [
    "lst1, lst2"
   ]
  },
  {
   "cell_type": "code",
   "execution_count": 28,
   "id": "85ec6db8",
   "metadata": {},
   "outputs": [
    {
     "data": {
      "text/plain": [
       "True"
      ]
     },
     "execution_count": 28,
     "metadata": {},
     "output_type": "execute_result"
    }
   ],
   "source": [
    "lst1 == lst2"
   ]
  },
  {
   "cell_type": "code",
   "execution_count": 29,
   "id": "2876fbcf",
   "metadata": {},
   "outputs": [
    {
     "data": {
      "text/plain": [
       "False"
      ]
     },
     "execution_count": 29,
     "metadata": {},
     "output_type": "execute_result"
    }
   ],
   "source": [
    "lst1 is lst2"
   ]
  },
  {
   "cell_type": "code",
   "execution_count": 31,
   "id": "ae7802a5",
   "metadata": {},
   "outputs": [
    {
     "data": {
      "text/plain": [
       "([[1, 2, 3, 4], [5, 100, 7, 8]], [[1, 2, 3, 4], [5, 6, 7, 8]])"
      ]
     },
     "execution_count": 31,
     "metadata": {},
     "output_type": "execute_result"
    }
   ],
   "source": [
    "lst1[1][1] = 100\n",
    "lst1, lst2"
   ]
  },
  {
   "cell_type": "markdown",
   "id": "633195ab",
   "metadata": {},
   "source": [
    "For both nested and unnested list the deep copy makes copies of the objects at new memory addresses"
   ]
  },
  {
   "cell_type": "code",
   "execution_count": null,
   "id": "cc55afa2",
   "metadata": {},
   "outputs": [],
   "source": []
  }
 ],
 "metadata": {
  "kernelspec": {
   "display_name": "Python 3 (ipykernel)",
   "language": "python",
   "name": "python3"
  },
  "language_info": {
   "codemirror_mode": {
    "name": "ipython",
    "version": 3
   },
   "file_extension": ".py",
   "mimetype": "text/x-python",
   "name": "python",
   "nbconvert_exporter": "python",
   "pygments_lexer": "ipython3",
   "version": "3.11.5"
  }
 },
 "nbformat": 4,
 "nbformat_minor": 5
}
