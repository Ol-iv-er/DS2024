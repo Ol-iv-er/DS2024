{
 "cells": [
  {
   "cell_type": "markdown",
   "id": "713819fc",
   "metadata": {},
   "source": [
    "# Python OOPS-Inheritance"
   ]
  },
  {
   "cell_type": "code",
   "execution_count": 22,
   "id": "1baa8e07",
   "metadata": {},
   "outputs": [],
   "source": [
    "## All the class variables public\n",
    "\n",
    "## BluePrint\n",
    "\n",
    "class Car():\n",
    "    def __init__(self, windows, doors, enginetype, model):\n",
    "        self.windows=windows\n",
    "        self.doors=doors\n",
    "        self.enginetype=enginetype\n",
    "        self.model=model\n",
    "        \n",
    "    # this method is public\n",
    "    def drive(self):\n",
    "        print(\"You can drive this car.\")\n",
    "        "
   ]
  },
  {
   "cell_type": "code",
   "execution_count": 23,
   "id": "349b10a6",
   "metadata": {},
   "outputs": [],
   "source": [
    "car = Car(6, 4, 'petrol', '256C')"
   ]
  },
  {
   "cell_type": "code",
   "execution_count": 24,
   "id": "01a21542",
   "metadata": {},
   "outputs": [
    {
     "data": {
      "text/plain": [
       "'256C'"
      ]
     },
     "execution_count": 24,
     "metadata": {},
     "output_type": "execute_result"
    }
   ],
   "source": [
    "car.model"
   ]
  },
  {
   "cell_type": "code",
   "execution_count": 25,
   "id": "7101e6c6",
   "metadata": {},
   "outputs": [
    {
     "data": {
      "text/plain": [
       "['__class__',\n",
       " '__delattr__',\n",
       " '__dict__',\n",
       " '__dir__',\n",
       " '__doc__',\n",
       " '__eq__',\n",
       " '__format__',\n",
       " '__ge__',\n",
       " '__getattribute__',\n",
       " '__getstate__',\n",
       " '__gt__',\n",
       " '__hash__',\n",
       " '__init__',\n",
       " '__init_subclass__',\n",
       " '__le__',\n",
       " '__lt__',\n",
       " '__module__',\n",
       " '__ne__',\n",
       " '__new__',\n",
       " '__reduce__',\n",
       " '__reduce_ex__',\n",
       " '__repr__',\n",
       " '__setattr__',\n",
       " '__sizeof__',\n",
       " '__str__',\n",
       " '__subclasshook__',\n",
       " '__weakref__',\n",
       " 'doors',\n",
       " 'drive',\n",
       " 'enginetype',\n",
       " 'model',\n",
       " 'windows']"
      ]
     },
     "execution_count": 25,
     "metadata": {},
     "output_type": "execute_result"
    }
   ],
   "source": [
    "dir(car)"
   ]
  },
  {
   "cell_type": "code",
   "execution_count": 26,
   "id": "78566076",
   "metadata": {},
   "outputs": [
    {
     "name": "stdout",
     "output_type": "stream",
     "text": [
      "You can drive this car.\n"
     ]
    }
   ],
   "source": [
    "car.drive()"
   ]
  },
  {
   "cell_type": "code",
   "execution_count": 31,
   "id": "90bfe393",
   "metadata": {},
   "outputs": [],
   "source": [
    "## audi is the child class\n",
    "class audi(Car):\n",
    "    def __init__(self,windows,doors,enginetype,model,enableAI):\n",
    "        super().__init__(windows,doors,enginetype,model) # super is used to inherant the variables from the parent class\n",
    "        self.enableAI=enableAI\n",
    "    def selfDriving(self):\n",
    "        print(\"Audi supports Self Driving\")"
   ]
  },
  {
   "cell_type": "code",
   "execution_count": 32,
   "id": "57ff338b",
   "metadata": {},
   "outputs": [],
   "source": [
    "audiQ7=audi(5,5,\"petrol\",\"555C\",True)"
   ]
  },
  {
   "cell_type": "code",
   "execution_count": 33,
   "id": "cfafe5cb",
   "metadata": {},
   "outputs": [
    {
     "data": {
      "text/plain": [
       "['__class__',\n",
       " '__delattr__',\n",
       " '__dict__',\n",
       " '__dir__',\n",
       " '__doc__',\n",
       " '__eq__',\n",
       " '__format__',\n",
       " '__ge__',\n",
       " '__getattribute__',\n",
       " '__getstate__',\n",
       " '__gt__',\n",
       " '__hash__',\n",
       " '__init__',\n",
       " '__init_subclass__',\n",
       " '__le__',\n",
       " '__lt__',\n",
       " '__module__',\n",
       " '__ne__',\n",
       " '__new__',\n",
       " '__reduce__',\n",
       " '__reduce_ex__',\n",
       " '__repr__',\n",
       " '__setattr__',\n",
       " '__sizeof__',\n",
       " '__str__',\n",
       " '__subclasshook__',\n",
       " '__weakref__',\n",
       " 'doors',\n",
       " 'drive',\n",
       " 'enableAI',\n",
       " 'enginetype',\n",
       " 'model',\n",
       " 'selfDriving',\n",
       " 'windows']"
      ]
     },
     "execution_count": 33,
     "metadata": {},
     "output_type": "execute_result"
    }
   ],
   "source": [
    "dir(audiQ7)"
   ]
  },
  {
   "cell_type": "code",
   "execution_count": 34,
   "id": "5e679575",
   "metadata": {},
   "outputs": [
    {
     "data": {
      "text/plain": [
       "'555C'"
      ]
     },
     "execution_count": 34,
     "metadata": {},
     "output_type": "execute_result"
    }
   ],
   "source": [
    "audiQ7.model"
   ]
  },
  {
   "cell_type": "code",
   "execution_count": 35,
   "id": "c596e715",
   "metadata": {},
   "outputs": [
    {
     "data": {
      "text/plain": [
       "True"
      ]
     },
     "execution_count": 35,
     "metadata": {},
     "output_type": "execute_result"
    }
   ],
   "source": [
    "audiQ7.enableAI"
   ]
  },
  {
   "cell_type": "code",
   "execution_count": 36,
   "id": "ee3f09a2",
   "metadata": {},
   "outputs": [
    {
     "data": {
      "text/plain": [
       "bool"
      ]
     },
     "execution_count": 36,
     "metadata": {},
     "output_type": "execute_result"
    }
   ],
   "source": [
    "type(audiQ7.enableAI)"
   ]
  },
  {
   "cell_type": "code",
   "execution_count": 37,
   "id": "5e6627a6",
   "metadata": {},
   "outputs": [
    {
     "name": "stdout",
     "output_type": "stream",
     "text": [
      "You can drive this car.\n"
     ]
    }
   ],
   "source": [
    "# call methods from parent class\n",
    "audiQ7.drive()"
   ]
  },
  {
   "cell_type": "code",
   "execution_count": 38,
   "id": "8e676e85",
   "metadata": {},
   "outputs": [
    {
     "name": "stdout",
     "output_type": "stream",
     "text": [
      "Audi supports Self Driving\n"
     ]
    }
   ],
   "source": [
    "audiQ7.selfDriving()"
   ]
  },
  {
   "cell_type": "code",
   "execution_count": null,
   "id": "14299ab7",
   "metadata": {},
   "outputs": [],
   "source": []
  }
 ],
 "metadata": {
  "kernelspec": {
   "display_name": "Python 3 (ipykernel)",
   "language": "python",
   "name": "python3"
  },
  "language_info": {
   "codemirror_mode": {
    "name": "ipython",
    "version": 3
   },
   "file_extension": ".py",
   "mimetype": "text/x-python",
   "name": "python",
   "nbconvert_exporter": "python",
   "pygments_lexer": "ipython3",
   "version": "3.11.5"
  }
 },
 "nbformat": 4,
 "nbformat_minor": 5
}
