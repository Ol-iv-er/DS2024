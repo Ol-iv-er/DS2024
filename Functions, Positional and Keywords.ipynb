{
 "cells": [
  {
   "cell_type": "markdown",
   "id": "61766c63",
   "metadata": {},
   "source": [
    "# Functions in Python\n",
    "\n",
    "- Why functions\n",
    "- Functional Definitions\n",
    "- Positional and Keyword Arguments in Functions"
   ]
  },
  {
   "cell_type": "code",
   "execution_count": 5,
   "id": "d44f1a8c",
   "metadata": {},
   "outputs": [
    {
     "name": "stdout",
     "output_type": "stream",
     "text": [
      "The number if even\n"
     ]
    }
   ],
   "source": [
    "num = 36\n",
    "\n",
    "if num % 2 == 0:\n",
    "    print('The number if even')\n",
    "else:\n",
    "    print('the number is odd')"
   ]
  },
  {
   "cell_type": "code",
   "execution_count": 6,
   "id": "dc875687",
   "metadata": {},
   "outputs": [],
   "source": [
    "def even_odd(num):\n",
    "    if num % 2 == 0:\n",
    "        print('The number if even')\n",
    "    else:\n",
    "        print('the number is odd')"
   ]
  },
  {
   "cell_type": "code",
   "execution_count": 8,
   "id": "2b9e9f6a",
   "metadata": {},
   "outputs": [
    {
     "name": "stdout",
     "output_type": "stream",
     "text": [
      "The number if even\n",
      "the number is odd\n"
     ]
    }
   ],
   "source": [
    "even_odd(44)\n",
    "even_odd(33)"
   ]
  },
  {
   "cell_type": "code",
   "execution_count": 13,
   "id": "1040c1a3",
   "metadata": {},
   "outputs": [],
   "source": [
    "# print vs return\n",
    "\n",
    "def hello_world():\n",
    "    print('Hello Welcome')"
   ]
  },
  {
   "cell_type": "code",
   "execution_count": 14,
   "id": "17262eeb",
   "metadata": {},
   "outputs": [
    {
     "name": "stdout",
     "output_type": "stream",
     "text": [
      "Hello Welcome\n"
     ]
    }
   ],
   "source": [
    "hello_world()"
   ]
  },
  {
   "cell_type": "code",
   "execution_count": 15,
   "id": "e776bdf9",
   "metadata": {},
   "outputs": [
    {
     "name": "stdout",
     "output_type": "stream",
     "text": [
      "Hello Welcome\n"
     ]
    }
   ],
   "source": [
    "val = hello_world()"
   ]
  },
  {
   "cell_type": "code",
   "execution_count": 16,
   "id": "56fa1c89",
   "metadata": {},
   "outputs": [],
   "source": [
    "def hello_world2():\n",
    "    return 'Hello Welcome'"
   ]
  },
  {
   "cell_type": "code",
   "execution_count": 17,
   "id": "557e92cd",
   "metadata": {},
   "outputs": [
    {
     "name": "stdout",
     "output_type": "stream",
     "text": [
      "Hello Welcom\n"
     ]
    }
   ],
   "source": [
    "val = hello_world2()\n",
    "print(val)"
   ]
  },
  {
   "cell_type": "code",
   "execution_count": 18,
   "id": "3ffe4567",
   "metadata": {},
   "outputs": [],
   "source": [
    "def add_num(num1, num2):\n",
    "    return num1 + num2"
   ]
  },
  {
   "cell_type": "code",
   "execution_count": 19,
   "id": "1d7b4c83",
   "metadata": {},
   "outputs": [],
   "source": [
    "val=add_num(22, 53)"
   ]
  },
  {
   "cell_type": "code",
   "execution_count": 20,
   "id": "4640ba4c",
   "metadata": {},
   "outputs": [
    {
     "data": {
      "text/plain": [
       "75"
      ]
     },
     "execution_count": 20,
     "metadata": {},
     "output_type": "execute_result"
    }
   ],
   "source": [
    "val"
   ]
  },
  {
   "cell_type": "code",
   "execution_count": 25,
   "id": "1e24d608",
   "metadata": {},
   "outputs": [],
   "source": [
    "## the first argument is positional argument\n",
    "## the second argumnet is a keyword argument\n",
    "\n",
    "def hello(name, age=30):\n",
    "    print('My name is {} and my age is {}.'.format(name, age))"
   ]
  },
  {
   "cell_type": "code",
   "execution_count": 26,
   "id": "2536d42f",
   "metadata": {},
   "outputs": [
    {
     "name": "stdout",
     "output_type": "stream",
     "text": [
      "My name is oliver and my age is 30.\n"
     ]
    }
   ],
   "source": [
    "hello('oliver')"
   ]
  },
  {
   "cell_type": "code",
   "execution_count": 27,
   "id": "b6e62572",
   "metadata": {},
   "outputs": [
    {
     "name": "stdout",
     "output_type": "stream",
     "text": [
      "My name is oliver and my age is 24.\n"
     ]
    }
   ],
   "source": [
    "hello('oliver', 24)"
   ]
  },
  {
   "cell_type": "code",
   "execution_count": 28,
   "id": "31431843",
   "metadata": {},
   "outputs": [
    {
     "ename": "TypeError",
     "evalue": "hello() missing 1 required positional argument: 'name'",
     "output_type": "error",
     "traceback": [
      "\u001b[0;31m---------------------------------------------------------------------------\u001b[0m",
      "\u001b[0;31mTypeError\u001b[0m                                 Traceback (most recent call last)",
      "Cell \u001b[0;32mIn[28], line 1\u001b[0m\n\u001b[0;32m----> 1\u001b[0m hello()\n",
      "\u001b[0;31mTypeError\u001b[0m: hello() missing 1 required positional argument: 'name'"
     ]
    }
   ],
   "source": [
    "hello() #"
   ]
  },
  {
   "cell_type": "code",
   "execution_count": 31,
   "id": "dc1332b7",
   "metadata": {},
   "outputs": [],
   "source": [
    "def hello2(*args, **kwargs):\n",
    "    print(args) # positional arguments\n",
    "    print(kwargs) # keyword arguments"
   ]
  },
  {
   "cell_type": "code",
   "execution_count": 35,
   "id": "3d00a5f5",
   "metadata": {},
   "outputs": [
    {
     "name": "stdout",
     "output_type": "stream",
     "text": [
      "('Krish', 'tom', 'tom')\n",
      "{'age': 22, 'bod': 2000, 'age2': 21}\n"
     ]
    }
   ],
   "source": [
    "hello2('Krish', 'tom', 'tom', age=22, bod=2000, age2 = 21)"
   ]
  },
  {
   "cell_type": "code",
   "execution_count": 36,
   "id": "b0260144",
   "metadata": {},
   "outputs": [],
   "source": [
    "lst = ['OLIVER', 'RAMIREZ']\n",
    "dict_args = {'age':24, 'dob': 2000}"
   ]
  },
  {
   "cell_type": "code",
   "execution_count": 38,
   "id": "1aae8855",
   "metadata": {},
   "outputs": [
    {
     "name": "stdout",
     "output_type": "stream",
     "text": [
      "(['OLIVER', 'RAMIREZ'], {'age': 24, 'dob': 2000})\n",
      "{}\n"
     ]
    }
   ],
   "source": [
    "hello2(lst, dict_args)"
   ]
  },
  {
   "cell_type": "code",
   "execution_count": 39,
   "id": "1e7869bb",
   "metadata": {},
   "outputs": [
    {
     "name": "stdout",
     "output_type": "stream",
     "text": [
      "('OLIVER', 'RAMIREZ')\n",
      "{'age': 24, 'dob': 2000}\n"
     ]
    }
   ],
   "source": [
    "hello2(*lst, **dict_args) # fixed"
   ]
  },
  {
   "cell_type": "code",
   "execution_count": 44,
   "id": "12ca0c4b",
   "metadata": {},
   "outputs": [],
   "source": [
    "lst=[1,2,3,4,5,6,7]"
   ]
  },
  {
   "cell_type": "code",
   "execution_count": 45,
   "id": "0481f1a9",
   "metadata": {},
   "outputs": [],
   "source": [
    "def even_odd_sum(lst):\n",
    "    even_sum = 0\n",
    "    odd_sum = 0\n",
    "    for i in lst:\n",
    "        if i % 2 == 0:\n",
    "            even_sum += i\n",
    "        else:\n",
    "            odd_sum += i\n",
    "    return even_sum, odd_sum"
   ]
  },
  {
   "cell_type": "code",
   "execution_count": 47,
   "id": "c9a44488",
   "metadata": {},
   "outputs": [
    {
     "data": {
      "text/plain": [
       "(12, 16)"
      ]
     },
     "execution_count": 47,
     "metadata": {},
     "output_type": "execute_result"
    }
   ],
   "source": [
    "even_odd_sum(lst)"
   ]
  },
  {
   "cell_type": "code",
   "execution_count": 57,
   "id": "6817d461",
   "metadata": {},
   "outputs": [
    {
     "data": {
      "text/plain": [
       "(56, 64)"
      ]
     },
     "execution_count": 57,
     "metadata": {},
     "output_type": "execute_result"
    }
   ],
   "source": [
    "even_odd_sum([x for x in range(0,16)])"
   ]
  },
  {
   "cell_type": "code",
   "execution_count": null,
   "id": "652227fc",
   "metadata": {},
   "outputs": [],
   "source": []
  },
  {
   "cell_type": "code",
   "execution_count": null,
   "id": "7ddf95ef",
   "metadata": {},
   "outputs": [],
   "source": []
  }
 ],
 "metadata": {
  "kernelspec": {
   "display_name": "Python 3 (ipykernel)",
   "language": "python",
   "name": "python3"
  },
  "language_info": {
   "codemirror_mode": {
    "name": "ipython",
    "version": 3
   },
   "file_extension": ".py",
   "mimetype": "text/x-python",
   "name": "python",
   "nbconvert_exporter": "python",
   "pygments_lexer": "ipython3",
   "version": "3.11.5"
  }
 },
 "nbformat": 4,
 "nbformat_minor": 5
}
