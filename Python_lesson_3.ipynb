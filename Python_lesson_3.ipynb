{
 "cells": [
  {
   "cell_type": "markdown",
   "id": "7771ea40",
   "metadata": {},
   "source": [
    "# Python Tutorial 3\n",
    "\n",
    "### Sets, Dictionaries, List, Tuples"
   ]
  },
  {
   "cell_type": "markdown",
   "id": "4f67fc0d",
   "metadata": {},
   "source": [
    "### Sets"
   ]
  },
  {
   "cell_type": "code",
   "execution_count": 2,
   "id": "1048c68b",
   "metadata": {},
   "outputs": [],
   "source": [
    "### Set Defintions\n",
    "\n",
    "set1 = {1,2,3,4,5}"
   ]
  },
  {
   "cell_type": "code",
   "execution_count": 3,
   "id": "c3eda9a1",
   "metadata": {},
   "outputs": [
    {
     "name": "stdout",
     "output_type": "stream",
     "text": [
      "{1, 2, 3, 4, 5}\n"
     ]
    }
   ],
   "source": [
    "print(set1)"
   ]
  },
  {
   "cell_type": "code",
   "execution_count": 4,
   "id": "55b5b78d",
   "metadata": {},
   "outputs": [
    {
     "name": "stdout",
     "output_type": "stream",
     "text": [
      "{1, 2, 3, 4, 5}\n"
     ]
    }
   ],
   "source": [
    "set2 = {1,1,2,3,4,5}\n",
    "print(set2)"
   ]
  },
  {
   "cell_type": "code",
   "execution_count": 5,
   "id": "1928a71f",
   "metadata": {},
   "outputs": [
    {
     "name": "stdout",
     "output_type": "stream",
     "text": [
      "{1, 2, 3, 4, 5, 6}\n"
     ]
    }
   ],
   "source": [
    "### Some set methods\n",
    "set2.add(6)\n",
    "print(set2)"
   ]
  },
  {
   "cell_type": "code",
   "execution_count": 6,
   "id": "5721b300",
   "metadata": {},
   "outputs": [
    {
     "name": "stdout",
     "output_type": "stream",
     "text": [
      "set()\n"
     ]
    }
   ],
   "source": [
    "set2.clear()\n",
    "print(set2)"
   ]
  },
  {
   "cell_type": "code",
   "execution_count": 27,
   "id": "d44d2e95",
   "metadata": {},
   "outputs": [],
   "source": [
    "set3 = {\"Oliver\", \"John\", \"Han\"}\n",
    "set4 = {\"Oliver\", \"John\", \"Han\", \"chance\"}"
   ]
  },
  {
   "cell_type": "code",
   "execution_count": 28,
   "id": "6c50b577",
   "metadata": {},
   "outputs": [],
   "source": [
    "set4.difference(set3)\n",
    "set4.difference_update(set3)"
   ]
  },
  {
   "cell_type": "code",
   "execution_count": 29,
   "id": "5c00ae20",
   "metadata": {},
   "outputs": [
    {
     "name": "stdout",
     "output_type": "stream",
     "text": [
      "{'chance'}\n"
     ]
    }
   ],
   "source": [
    "print(set4)"
   ]
  },
  {
   "cell_type": "code",
   "execution_count": 30,
   "id": "933cd04f",
   "metadata": {},
   "outputs": [
    {
     "name": "stdout",
     "output_type": "stream",
     "text": [
      "{'carlo', 'Han', 'Oliver', 'John'}\n"
     ]
    }
   ],
   "source": [
    "set5 = set3.copy()\n",
    "set5.add(\"carlo\")\n",
    "print(set5)"
   ]
  },
  {
   "cell_type": "code",
   "execution_count": 31,
   "id": "8bf21793",
   "metadata": {},
   "outputs": [
    {
     "data": {
      "text/plain": [
       "{'Han', 'John', 'Oliver'}"
      ]
     },
     "execution_count": 31,
     "metadata": {},
     "output_type": "execute_result"
    }
   ],
   "source": [
    "set3.intersection(set5)"
   ]
  },
  {
   "cell_type": "code",
   "execution_count": 32,
   "id": "5f2edb8c",
   "metadata": {},
   "outputs": [],
   "source": [
    "set5.intersection_update(set3)"
   ]
  },
  {
   "cell_type": "code",
   "execution_count": 33,
   "id": "5e5914ba",
   "metadata": {},
   "outputs": [
    {
     "name": "stdout",
     "output_type": "stream",
     "text": [
      "{'Han', 'Oliver', 'John'}\n"
     ]
    }
   ],
   "source": [
    "print(set5)"
   ]
  },
  {
   "cell_type": "code",
   "execution_count": 34,
   "id": "c9d1d5bc",
   "metadata": {},
   "outputs": [],
   "source": [
    "### there is more methods"
   ]
  },
  {
   "cell_type": "markdown",
   "id": "0db90cf6",
   "metadata": {},
   "source": [
    "### Dictionary"
   ]
  },
  {
   "cell_type": "code",
   "execution_count": 36,
   "id": "ce70957e",
   "metadata": {},
   "outputs": [
    {
     "name": "stdout",
     "output_type": "stream",
     "text": [
      "10000\n"
     ]
    }
   ],
   "source": [
    "my_dict = {\"car1\": 10000, \"car2\": 20000, \"car3\": 80000}\n",
    "print(my_dict['car1'])\n"
   ]
  },
  {
   "cell_type": "code",
   "execution_count": 38,
   "id": "a5ea8c8f",
   "metadata": {},
   "outputs": [
    {
     "name": "stdout",
     "output_type": "stream",
     "text": [
      "10000\n",
      "20000\n",
      "80000\n"
     ]
    }
   ],
   "source": [
    "## Printing elements in a dictionary\n",
    "for val in my_dict.values():\n",
    "    print(val)"
   ]
  },
  {
   "cell_type": "code",
   "execution_count": 39,
   "id": "3f8a8833",
   "metadata": {},
   "outputs": [
    {
     "name": "stdout",
     "output_type": "stream",
     "text": [
      "car1\n",
      "car2\n",
      "car3\n"
     ]
    }
   ],
   "source": [
    "### Printing key values\n",
    "for key in my_dict:\n",
    "    print(key)"
   ]
  },
  {
   "cell_type": "code",
   "execution_count": 42,
   "id": "f026877f",
   "metadata": {},
   "outputs": [
    {
     "name": "stdout",
     "output_type": "stream",
     "text": [
      "('car1', 10000)\n",
      "('car2', 20000)\n",
      "('car3', 80000)\n"
     ]
    }
   ],
   "source": [
    "### For printing the key value pair\n",
    "for element in my_dict.items():\n",
    "    print(element)"
   ]
  },
  {
   "cell_type": "code",
   "execution_count": 43,
   "id": "aa81e962",
   "metadata": {},
   "outputs": [
    {
     "name": "stdout",
     "output_type": "stream",
     "text": [
      "{'car1': 10000, 'car2': 20000, 'car3': 80000}\n"
     ]
    }
   ],
   "source": [
    "my_dict2 = my_dict.copy()\n",
    "print(my_dict2)"
   ]
  },
  {
   "cell_type": "code",
   "execution_count": 51,
   "id": "716fcf5b",
   "metadata": {},
   "outputs": [],
   "source": [
    "car_list = ['car1','car3']\n",
    "my_dict3 = my_dict2.fromkeys(car_list, 0) # makes a copy of certain keys and add new values"
   ]
  },
  {
   "cell_type": "code",
   "execution_count": 52,
   "id": "d61be3fb",
   "metadata": {},
   "outputs": [
    {
     "name": "stdout",
     "output_type": "stream",
     "text": [
      "('car1', 0)\n",
      "('car3', 0)\n"
     ]
    }
   ],
   "source": [
    "for i in my_dict3.items():\n",
    "    print(i)"
   ]
  },
  {
   "cell_type": "code",
   "execution_count": 53,
   "id": "1796e1b7",
   "metadata": {},
   "outputs": [
    {
     "name": "stdout",
     "output_type": "stream",
     "text": [
      "{'car3': 0}\n"
     ]
    }
   ],
   "source": [
    "my_dict3.pop('car1')\n",
    "print(my_dict3)"
   ]
  },
  {
   "cell_type": "code",
   "execution_count": 54,
   "id": "b9aad691",
   "metadata": {},
   "outputs": [
    {
     "name": "stdout",
     "output_type": "stream",
     "text": [
      "{'car3': 0, 'car1': 20000, 'car2': 40000}\n"
     ]
    },
    {
     "data": {
      "text/plain": [
       "('car2', 40000)"
      ]
     },
     "execution_count": 54,
     "metadata": {},
     "output_type": "execute_result"
    }
   ],
   "source": [
    "my_dict3.update({\"car1\": 20000, \"car2\": 40000})\n",
    "print(my_dict3)\n",
    "my_dict3.popitem() # pops the last added item"
   ]
  },
  {
   "cell_type": "markdown",
   "id": "eb032e67",
   "metadata": {},
   "source": [
    "### Lists\n",
    "\n",
    "List are mutable object that can store any datatype."
   ]
  },
  {
   "cell_type": "code",
   "execution_count": 63,
   "id": "5d2da95f",
   "metadata": {},
   "outputs": [],
   "source": [
    "# initializing\n",
    "my_list = []\n",
    "my_list1 = list()"
   ]
  },
  {
   "cell_type": "code",
   "execution_count": 64,
   "id": "4298101f",
   "metadata": {},
   "outputs": [
    {
     "name": "stdout",
     "output_type": "stream",
     "text": [
      "['cars']\n"
     ]
    }
   ],
   "source": [
    "my_list.append(\"cars\")\n",
    "print(my_list)"
   ]
  },
  {
   "cell_type": "code",
   "execution_count": 65,
   "id": "6247f649",
   "metadata": {},
   "outputs": [
    {
     "name": "stdout",
     "output_type": "stream",
     "text": [
      "1\n"
     ]
    }
   ],
   "source": [
    "list_size = my_list.count('cars') # counts the times a certain value is in the list\n",
    "print(list_size)"
   ]
  },
  {
   "cell_type": "code",
   "execution_count": 66,
   "id": "85057ef9",
   "metadata": {},
   "outputs": [
    {
     "name": "stdout",
     "output_type": "stream",
     "text": [
      "['cars', 'car', 'bus', 'motorcycle', 12, 24]\n"
     ]
    }
   ],
   "source": [
    "my_list.extend(['car', 'bus', 'motorcycle', 12, 24])\n",
    "print(my_list)"
   ]
  },
  {
   "cell_type": "code",
   "execution_count": 67,
   "id": "2be74a2e",
   "metadata": {},
   "outputs": [],
   "source": [
    "## .append adds one value at the time \n",
    "## .extend allows for interation over a given list of values and adds each value in "
   ]
  },
  {
   "cell_type": "code",
   "execution_count": 70,
   "id": "653115ff",
   "metadata": {},
   "outputs": [
    {
     "data": {
      "text/plain": [
       "3"
      ]
     },
     "execution_count": 70,
     "metadata": {},
     "output_type": "execute_result"
    }
   ],
   "source": [
    "my_list.index('motorcycle') # returns the index of a given element"
   ]
  },
  {
   "cell_type": "code",
   "execution_count": 72,
   "id": "39e929c0",
   "metadata": {},
   "outputs": [
    {
     "data": {
      "text/plain": [
       "['bus', 'motorcycle', 12, 24]"
      ]
     },
     "execution_count": 72,
     "metadata": {},
     "output_type": "execute_result"
    }
   ],
   "source": [
    "## Indexing list is quite easy\n",
    "my_list[2:] # return all values starting from the index 2"
   ]
  },
  {
   "cell_type": "code",
   "execution_count": 78,
   "id": "9732b5e0",
   "metadata": {},
   "outputs": [
    {
     "data": {
      "text/plain": [
       "['bus', 'motorcycle', 12]"
      ]
     },
     "execution_count": 78,
     "metadata": {},
     "output_type": "execute_result"
    }
   ],
   "source": [
    "my_list[2:-1] # return all values up till the and not including the last one"
   ]
  },
  {
   "cell_type": "code",
   "execution_count": 79,
   "id": "87d7187e",
   "metadata": {},
   "outputs": [
    {
     "data": {
      "text/plain": [
       "[24, 12, 'motorcycle', 'bus', 'car', 'cars']"
      ]
     },
     "execution_count": 79,
     "metadata": {},
     "output_type": "execute_result"
    }
   ],
   "source": [
    "my_list[::-1] # easiest way to reverse a list"
   ]
  },
  {
   "cell_type": "code",
   "execution_count": 85,
   "id": "238b299a",
   "metadata": {},
   "outputs": [
    {
     "data": {
      "text/plain": [
       "[12, 'motorcycle', 'bus', 'car', 'cars']"
      ]
     },
     "execution_count": 85,
     "metadata": {},
     "output_type": "execute_result"
    }
   ],
   "source": [
    "my_list[4::-1] # one way to slice a list"
   ]
  },
  {
   "cell_type": "code",
   "execution_count": 86,
   "id": "d138a495",
   "metadata": {},
   "outputs": [],
   "source": [
    "## more fucntion but use with different use cases"
   ]
  },
  {
   "cell_type": "markdown",
   "id": "3c40158c",
   "metadata": {},
   "source": [
    "### Tuples\n",
    "\n",
    "Tuples are a collection of element that are not mutable"
   ]
  },
  {
   "cell_type": "code",
   "execution_count": 87,
   "id": "1df73081",
   "metadata": {},
   "outputs": [],
   "source": [
    "## use the tuple() function to intialize or ()\n",
    "\n",
    "my_tuple = tuple()"
   ]
  },
  {
   "cell_type": "code",
   "execution_count": 88,
   "id": "e93e190f",
   "metadata": {},
   "outputs": [
    {
     "data": {
      "text/plain": [
       "tuple"
      ]
     },
     "execution_count": 88,
     "metadata": {},
     "output_type": "execute_result"
    }
   ],
   "source": [
    "type(my_tuple)"
   ]
  },
  {
   "cell_type": "code",
   "execution_count": 89,
   "id": "73a3ec94",
   "metadata": {},
   "outputs": [
    {
     "data": {
      "text/plain": [
       "tuple"
      ]
     },
     "execution_count": 89,
     "metadata": {},
     "output_type": "execute_result"
    }
   ],
   "source": [
    "my_tuple1 = ()\n",
    "type(my_tuple1)"
   ]
  },
  {
   "cell_type": "code",
   "execution_count": 101,
   "id": "c4d7357a",
   "metadata": {},
   "outputs": [],
   "source": [
    "my_tuple1 = (1,2,3,4,3, 3)"
   ]
  },
  {
   "cell_type": "code",
   "execution_count": 102,
   "id": "29c5bbe7",
   "metadata": {},
   "outputs": [
    {
     "name": "stdout",
     "output_type": "stream",
     "text": [
      "(1, 2, 3, 4, 3, 3)\n"
     ]
    }
   ],
   "source": [
    "print(my_tuple1)"
   ]
  },
  {
   "cell_type": "code",
   "execution_count": 108,
   "id": "84379f19",
   "metadata": {},
   "outputs": [
    {
     "name": "stdout",
     "output_type": "stream",
     "text": [
      "('Ron1', 'Jon', 'Houie', 'Ron')\n"
     ]
    }
   ],
   "source": [
    "my_tuple_names = (\"Ron1\", \"Jon\", \"Houie\", \"Ron\")\n",
    "print(my_tuple_names)"
   ]
  },
  {
   "cell_type": "code",
   "execution_count": 109,
   "id": "17674e72",
   "metadata": {},
   "outputs": [
    {
     "data": {
      "text/plain": [
       "'Ron1'"
      ]
     },
     "execution_count": 109,
     "metadata": {},
     "output_type": "execute_result"
    }
   ],
   "source": [
    "my_tuple_names[0]"
   ]
  },
  {
   "cell_type": "code",
   "execution_count": 110,
   "id": "a13b49da",
   "metadata": {},
   "outputs": [
    {
     "data": {
      "text/plain": [
       "1"
      ]
     },
     "execution_count": 110,
     "metadata": {},
     "output_type": "execute_result"
    }
   ],
   "source": [
    "## Inbuilt function\n",
    "my_tuple_names.count(\"Ron\")"
   ]
  },
  {
   "cell_type": "code",
   "execution_count": 111,
   "id": "22893a88",
   "metadata": {},
   "outputs": [
    {
     "data": {
      "text/plain": [
       "3"
      ]
     },
     "execution_count": 111,
     "metadata": {},
     "output_type": "execute_result"
    }
   ],
   "source": [
    "my_tuple1.count(3)"
   ]
  },
  {
   "cell_type": "code",
   "execution_count": 112,
   "id": "e577e111",
   "metadata": {},
   "outputs": [
    {
     "data": {
      "text/plain": [
       "3"
      ]
     },
     "execution_count": 112,
     "metadata": {},
     "output_type": "execute_result"
    }
   ],
   "source": [
    "my_tuple_names.index(\"Ron\") # returns the index of the first appearance of a given value."
   ]
  },
  {
   "cell_type": "code",
   "execution_count": null,
   "id": "fb35d828",
   "metadata": {},
   "outputs": [],
   "source": []
  }
 ],
 "metadata": {
  "kernelspec": {
   "display_name": "Python 3 (ipykernel)",
   "language": "python",
   "name": "python3"
  },
  "language_info": {
   "codemirror_mode": {
    "name": "ipython",
    "version": 3
   },
   "file_extension": ".py",
   "mimetype": "text/x-python",
   "name": "python",
   "nbconvert_exporter": "python",
   "pygments_lexer": "ipython3",
   "version": "3.11.5"
  }
 },
 "nbformat": 4,
 "nbformat_minor": 5
}
