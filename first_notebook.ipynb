{
 "cells": [
  {
   "cell_type": "markdown",
   "id": "d27e0c43",
   "metadata": {},
   "source": [
    "# This the first page of my journey in DS"
   ]
  },
  {
   "cell_type": "markdown",
   "id": "3542182d",
   "metadata": {},
   "source": [
    "## Basics of Python\n",
    "\n",
    "- Various Datatypes in Python\n",
    "- Variables\n",
    "- Variable Assignment\n",
    "- Print Foramting"
   ]
  },
  {
   "cell_type": "markdown",
   "id": "595730f5",
   "metadata": {},
   "source": [
    "## Various DataTypes in Python\n",
    "\n",
    "### Numbers"
   ]
  },
  {
   "cell_type": "code",
   "execution_count": 2,
   "id": "e9ff4d83",
   "metadata": {
    "scrolled": true
   },
   "outputs": [
    {
     "data": {
      "text/plain": [
       "2"
      ]
     },
     "execution_count": 2,
     "metadata": {},
     "output_type": "execute_result"
    }
   ],
   "source": [
    "1 + 1"
   ]
  },
  {
   "cell_type": "code",
   "execution_count": 1,
   "id": "ecca3842",
   "metadata": {},
   "outputs": [],
   "source": [
    "# We can use the type() function to look at the variable type\n",
    "a, b = 10, 11"
   ]
  },
  {
   "cell_type": "code",
   "execution_count": 2,
   "id": "0ee3fce5",
   "metadata": {},
   "outputs": [
    {
     "data": {
      "text/plain": [
       "int"
      ]
     },
     "execution_count": 2,
     "metadata": {},
     "output_type": "execute_result"
    }
   ],
   "source": [
    "type(a)"
   ]
  },
  {
   "cell_type": "code",
   "execution_count": 3,
   "id": "5d790e99",
   "metadata": {},
   "outputs": [
    {
     "data": {
      "text/plain": [
       "str"
      ]
     },
     "execution_count": 3,
     "metadata": {},
     "output_type": "execute_result"
    }
   ],
   "source": [
    "c = 'string'\n",
    "type(c)"
   ]
  },
  {
   "cell_type": "code",
   "execution_count": 4,
   "id": "f0139956",
   "metadata": {},
   "outputs": [
    {
     "data": {
      "text/plain": [
       "list"
      ]
     },
     "execution_count": 4,
     "metadata": {},
     "output_type": "execute_result"
    }
   ],
   "source": [
    "d = []\n",
    "type(d)"
   ]
  },
  {
   "cell_type": "code",
   "execution_count": 5,
   "id": "065e4f3e",
   "metadata": {},
   "outputs": [
    {
     "data": {
      "text/plain": [
       "dict"
      ]
     },
     "execution_count": 5,
     "metadata": {},
     "output_type": "execute_result"
    }
   ],
   "source": [
    "dd = {}\n",
    "type(dd)"
   ]
  },
  {
   "cell_type": "code",
   "execution_count": 3,
   "id": "36fea78a",
   "metadata": {},
   "outputs": [
    {
     "data": {
      "text/plain": [
       "bool"
      ]
     },
     "execution_count": 3,
     "metadata": {},
     "output_type": "execute_result"
    }
   ],
   "source": [
    "type(True)"
   ]
  },
  {
   "cell_type": "code",
   "execution_count": 1,
   "id": "25eadd51",
   "metadata": {},
   "outputs": [
    {
     "data": {
      "text/plain": [
       "100"
      ]
     },
     "execution_count": 1,
     "metadata": {},
     "output_type": "execute_result"
    }
   ],
   "source": [
    "10 * 10"
   ]
  },
  {
   "cell_type": "code",
   "execution_count": 2,
   "id": "7d634527",
   "metadata": {},
   "outputs": [
    {
     "data": {
      "text/plain": [
       "'strstrstrstrstrstrstrstrstrstr'"
      ]
     },
     "execution_count": 2,
     "metadata": {},
     "output_type": "execute_result"
    }
   ],
   "source": [
    "10 * 'str'"
   ]
  },
  {
   "cell_type": "code",
   "execution_count": null,
   "id": "4fcbf890",
   "metadata": {},
   "outputs": [],
   "source": [
    "# Differnet ways of printing\n",
    "\n",
    "print('Hello') # press 'shift - tab' before the first parathesis to see details of functions"
   ]
  },
  {
   "cell_type": "markdown",
   "id": "97ed0eef",
   "metadata": {},
   "source": [
    "### Strings"
   ]
  },
  {
   "cell_type": "code",
   "execution_count": 4,
   "id": "4460aaa9",
   "metadata": {},
   "outputs": [
    {
     "data": {
      "text/plain": [
       "'Oliver'"
      ]
     },
     "execution_count": 4,
     "metadata": {},
     "output_type": "execute_result"
    }
   ],
   "source": [
    "\"Oliver\""
   ]
  },
  {
   "cell_type": "code",
   "execution_count": 5,
   "id": "2016a9e2",
   "metadata": {},
   "outputs": [
    {
     "data": {
      "text/plain": [
       "str"
      ]
     },
     "execution_count": 5,
     "metadata": {},
     "output_type": "execute_result"
    }
   ],
   "source": [
    "type(\"Oliver\")"
   ]
  },
  {
   "cell_type": "markdown",
   "id": "f0729c8c",
   "metadata": {},
   "source": [
    "### Variable Assignment"
   ]
  },
  {
   "cell_type": "code",
   "execution_count": 9,
   "id": "15c6d90a",
   "metadata": {},
   "outputs": [],
   "source": [
    "a = 10\n",
    "b = 30"
   ]
  },
  {
   "cell_type": "code",
   "execution_count": 10,
   "id": "63aa8a67",
   "metadata": {},
   "outputs": [
    {
     "data": {
      "text/plain": [
       "300"
      ]
     },
     "execution_count": 10,
     "metadata": {},
     "output_type": "execute_result"
    }
   ],
   "source": [
    "a * b"
   ]
  },
  {
   "cell_type": "code",
   "execution_count": 11,
   "id": "2aa58a02",
   "metadata": {},
   "outputs": [
    {
     "name": "stdout",
     "output_type": "stream",
     "text": [
      "oliver ramirez\n"
     ]
    }
   ],
   "source": [
    "o = 'oliver ramirez'\n",
    "print(o)"
   ]
  },
  {
   "cell_type": "code",
   "execution_count": 13,
   "id": "84912a41",
   "metadata": {
    "scrolled": true
   },
   "outputs": [
    {
     "name": "stdout",
     "output_type": "stream",
     "text": [
      "300\n",
      "0.3333333333333333\n",
      "10\n",
      "300.3333333333333\n"
     ]
    }
   ],
   "source": [
    "print(a * b)\n",
    "print(a / b)\n",
    "print(a % b)\n",
    "print((a*b) + (a/b)) ## BODMAS"
   ]
  },
  {
   "cell_type": "markdown",
   "id": "ab0621ce",
   "metadata": {},
   "source": [
    "### Print Formating"
   ]
  },
  {
   "cell_type": "code",
   "execution_count": 16,
   "id": "dce2c34e",
   "metadata": {},
   "outputs": [],
   "source": [
    "first_name = 'Oliver'\n",
    "last_name = 'Ramirez'"
   ]
  },
  {
   "cell_type": "code",
   "execution_count": 17,
   "id": "0a5b2d2c",
   "metadata": {},
   "outputs": [
    {
     "name": "stdout",
     "output_type": "stream",
     "text": [
      "My first name is Oliver and last name is Ramirez.\n"
     ]
    }
   ],
   "source": [
    "print(\"My first name is {} and last name is {}.\".format(first_name, last_name))"
   ]
  },
  {
   "cell_type": "code",
   "execution_count": 18,
   "id": "984f00d8",
   "metadata": {},
   "outputs": [
    {
     "name": "stdout",
     "output_type": "stream",
     "text": [
      "My first name is Oliver and last name is Ramirez.\n"
     ]
    }
   ],
   "source": [
    "# you can also use place holders too\n",
    "\n",
    "print(\"My first name is {first} and last name is {last}.\".format(first = first_name, last = last_name))"
   ]
  },
  {
   "cell_type": "markdown",
   "id": "2e4f23b9",
   "metadata": {},
   "source": [
    "### More Functions"
   ]
  },
  {
   "cell_type": "code",
   "execution_count": 19,
   "id": "0bc6c422",
   "metadata": {},
   "outputs": [
    {
     "data": {
      "text/plain": [
       "21"
      ]
     },
     "execution_count": 19,
     "metadata": {},
     "output_type": "execute_result"
    }
   ],
   "source": [
    "len('Oliver Ramirez-Torres')"
   ]
  }
 ],
 "metadata": {
  "kernelspec": {
   "display_name": "Python 3 (ipykernel)",
   "language": "python",
   "name": "python3"
  },
  "language_info": {
   "codemirror_mode": {
    "name": "ipython",
    "version": 3
   },
   "file_extension": ".py",
   "mimetype": "text/x-python",
   "name": "python",
   "nbconvert_exporter": "python",
   "pygments_lexer": "ipython3",
   "version": "3.11.5"
  }
 },
 "nbformat": 4,
 "nbformat_minor": 5
}
