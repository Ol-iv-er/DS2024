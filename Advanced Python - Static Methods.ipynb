{
 "cells": [
  {
   "cell_type": "markdown",
   "id": "16cded2d",
   "metadata": {},
   "source": [
    "## Static Methods"
   ]
  },
  {
   "cell_type": "code",
   "execution_count": 2,
   "id": "5f29d067",
   "metadata": {},
   "outputs": [],
   "source": [
    "import datetime\n",
    "now = datetime.datetime.now()"
   ]
  },
  {
   "cell_type": "code",
   "execution_count": 4,
   "id": "615843be",
   "metadata": {},
   "outputs": [
    {
     "data": {
      "text/plain": [
       "int"
      ]
     },
     "execution_count": 4,
     "metadata": {},
     "output_type": "execute_result"
    }
   ],
   "source": [
    "type(now.year)"
   ]
  },
  {
   "cell_type": "code",
   "execution_count": 11,
   "id": "29829932",
   "metadata": {},
   "outputs": [],
   "source": [
    "class Car:\n",
    "    base_price = 100000 # class variable\n",
    "    def __init__(self, windows, doors, power):\n",
    "        self.windows = windows\n",
    "        self.doors = doors\n",
    "        self.power = power\n",
    "    def get_base_price(self):\n",
    "        print(f\"The base price is {self.base_price}.\")\n",
    "    @classmethod\n",
    "    def revise_base_price(cls, inflation):\n",
    "        cls.base_price = cls.base_price + cls.base_price * inflation\n",
    "        \n",
    "    @staticmethod # as soon as the class is loaded the first thing that is initialzed is static methods\n",
    "    def check_year(): # don't need to pass self into the class method\n",
    "        if now.year == 2023:\n",
    "            return True\n",
    "        else:\n",
    "            return False\n",
    "        "
   ]
  },
  {
   "cell_type": "code",
   "execution_count": 12,
   "id": "e550e029",
   "metadata": {},
   "outputs": [
    {
     "data": {
      "text/plain": [
       "False"
      ]
     },
     "execution_count": 12,
     "metadata": {},
     "output_type": "execute_result"
    }
   ],
   "source": [
    "Car.check_year()"
   ]
  },
  {
   "cell_type": "code",
   "execution_count": 13,
   "id": "54d4fa50",
   "metadata": {},
   "outputs": [],
   "source": [
    "Car1=Car(6,4,2000)"
   ]
  },
  {
   "cell_type": "code",
   "execution_count": 15,
   "id": "ca3a1630",
   "metadata": {},
   "outputs": [],
   "source": [
    "if(Car1.check_year()):\n",
    "    pass\n",
    "else:\n",
    "    Car.revise_base_price(0.1)"
   ]
  },
  {
   "cell_type": "code",
   "execution_count": 16,
   "id": "3508be35",
   "metadata": {},
   "outputs": [
    {
     "data": {
      "text/plain": [
       "110000.0"
      ]
     },
     "execution_count": 16,
     "metadata": {},
     "output_type": "execute_result"
    }
   ],
   "source": [
    "Car.base_price"
   ]
  },
  {
   "cell_type": "code",
   "execution_count": 24,
   "id": "a7493f4e",
   "metadata": {},
   "outputs": [
    {
     "name": "stdout",
     "output_type": "stream",
     "text": [
      "21\n",
      "28\n",
      "True\n",
      "True\n"
     ]
    }
   ],
   "source": [
    "## example from greeksforgeeks\n",
    "from datetime import date\n",
    " \n",
    " \n",
    "class Person:\n",
    "    def __init__(self, name, age, gender):\n",
    "        self.name = name\n",
    "        self.age = age\n",
    "        self.gender = gender\n",
    " \n",
    "    # a class method to create a Person object by birth year.\n",
    "    @classmethod # use class methods for functionality\n",
    "    def fromBirthYear(cls, name, year, gender):\n",
    "        return cls(name, date.today().year - year, gender) \n",
    "        # when returning a class it should match the __init__(),\n",
    "        # which makes sense as we are returning a class with is the class we made\n",
    " \n",
    "    # a static methods to check if a Person is adult or not.\n",
    "    @staticmethod # use static for utility \n",
    "    def isAdult(age):\n",
    "        return age > 18\n",
    "    \n",
    "    @staticmethod\n",
    "    def isMale(gender):\n",
    "        return gender.lower() == 'male'\n",
    " \n",
    " \n",
    "person1 = Person('mayank', 21, 'male')\n",
    "person2 = Person.fromBirthYear('mayank', 1996, 'male')\n",
    " \n",
    "print(person1.age)\n",
    "print(person2.age)\n",
    " \n",
    "# print the result\n",
    "print(Person.isAdult(22))\n",
    "print(Person.isMale('male'))"
   ]
  },
  {
   "cell_type": "code",
   "execution_count": null,
   "id": "be188b5c",
   "metadata": {},
   "outputs": [],
   "source": []
  }
 ],
 "metadata": {
  "kernelspec": {
   "display_name": "Python 3 (ipykernel)",
   "language": "python",
   "name": "python3"
  },
  "language_info": {
   "codemirror_mode": {
    "name": "ipython",
    "version": 3
   },
   "file_extension": ".py",
   "mimetype": "text/x-python",
   "name": "python",
   "nbconvert_exporter": "python",
   "pygments_lexer": "ipython3",
   "version": "3.11.5"
  }
 },
 "nbformat": 4,
 "nbformat_minor": 5
}
