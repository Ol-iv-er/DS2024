{
 "cells": [
  {
   "cell_type": "markdown",
   "id": "d490d8a4",
   "metadata": {},
   "source": [
    "# Python OOPS-Magic Methods in Classes"
   ]
  },
  {
   "cell_type": "code",
   "execution_count": 1,
   "id": "aeaf19c9",
   "metadata": {},
   "outputs": [],
   "source": [
    "### All the class variables are public\n",
    "### Car Blue Print\n",
    "\n",
    "class Car():\n",
    "    def __init__(self, model, enginetype, doors, windows, seats):\n",
    "        self.model=model\n",
    "        self.enginetype=enginetype\n",
    "        self.doors=doors\n",
    "        self.windows=windows\n",
    "        self.seats=seats\n",
    "    def drive(self):\n",
    "        print(\"The Person drives the car\")"
   ]
  },
  {
   "cell_type": "code",
   "execution_count": 2,
   "id": "8938280e",
   "metadata": {},
   "outputs": [],
   "source": [
    "c=Car(\"44CL\", 'gasoline', 5, 6, 5)"
   ]
  },
  {
   "cell_type": "code",
   "execution_count": 3,
   "id": "0d1bf490",
   "metadata": {},
   "outputs": [
    {
     "data": {
      "text/plain": [
       "['__class__',\n",
       " '__delattr__',\n",
       " '__dict__',\n",
       " '__dir__',\n",
       " '__doc__',\n",
       " '__eq__',\n",
       " '__format__',\n",
       " '__ge__',\n",
       " '__getattribute__',\n",
       " '__getstate__',\n",
       " '__gt__',\n",
       " '__hash__',\n",
       " '__init__',\n",
       " '__init_subclass__',\n",
       " '__le__',\n",
       " '__lt__',\n",
       " '__module__',\n",
       " '__ne__',\n",
       " '__new__',\n",
       " '__reduce__',\n",
       " '__reduce_ex__',\n",
       " '__repr__',\n",
       " '__setattr__',\n",
       " '__sizeof__',\n",
       " '__str__',\n",
       " '__subclasshook__',\n",
       " '__weakref__',\n",
       " 'doors',\n",
       " 'drive',\n",
       " 'enginetype',\n",
       " 'model',\n",
       " 'seats',\n",
       " 'windows']"
      ]
     },
     "execution_count": 3,
     "metadata": {},
     "output_type": "execute_result"
    }
   ],
   "source": [
    "dir(c) # these are the magic methods from the class created when the __init_() is made"
   ]
  },
  {
   "cell_type": "code",
   "execution_count": 5,
   "id": "047dc0bc",
   "metadata": {},
   "outputs": [
    {
     "name": "stdout",
     "output_type": "stream",
     "text": [
      "<__main__.Car object at 0x104165250>\n"
     ]
    }
   ],
   "source": [
    "print(c)"
   ]
  },
  {
   "cell_type": "code",
   "execution_count": 6,
   "id": "4bee8af6",
   "metadata": {},
   "outputs": [
    {
     "data": {
      "text/plain": [
       "'<__main__.Car object at 0x104165250>'"
      ]
     },
     "execution_count": 6,
     "metadata": {},
     "output_type": "execute_result"
    }
   ],
   "source": [
    "c.__str__()"
   ]
  },
  {
   "cell_type": "code",
   "execution_count": 20,
   "id": "0cc10844",
   "metadata": {},
   "outputs": [],
   "source": [
    "class Car():\n",
    "    def __new__(self, model, enginetype, doors, windows, seats):\n",
    "        print(\"The object has started getting initiated!\")\n",
    "        \n",
    "    def __init__(self, model, enginetype, doors, windows, seats):\n",
    "        self.model=model\n",
    "        self.enginetype=enginetype\n",
    "        self.doors=doors\n",
    "        self.windows=windows\n",
    "        self.seats=seats\n",
    "        \n",
    "    ## override inherited methods\n",
    "    def __str__(self):\n",
    "        return \"The object has been initialized\"\n",
    "    def __sizeof__(self):\n",
    "        return \"This displays the size of the object in bytes\"    \n",
    "    ##\n",
    "        \n",
    "    def drive(self):\n",
    "        print(\"The Person drives the car\")"
   ]
  },
  {
   "cell_type": "code",
   "execution_count": 21,
   "id": "b44bba19",
   "metadata": {},
   "outputs": [
    {
     "name": "stdout",
     "output_type": "stream",
     "text": [
      "The object has started getting initiated!\n"
     ]
    }
   ],
   "source": [
    "c2=Car(\"44CL\", 'gasoline', 5, 6, 5)"
   ]
  },
  {
   "cell_type": "code",
   "execution_count": 18,
   "id": "f8a758ad",
   "metadata": {},
   "outputs": [
    {
     "name": "stdout",
     "output_type": "stream",
     "text": [
      "The object has been initialized\n"
     ]
    }
   ],
   "source": [
    "print(c2)"
   ]
  },
  {
   "cell_type": "code",
   "execution_count": 19,
   "id": "efba9154",
   "metadata": {},
   "outputs": [
    {
     "data": {
      "text/plain": [
       "'This displays the size of the object in bytes'"
      ]
     },
     "execution_count": 19,
     "metadata": {},
     "output_type": "execute_result"
    }
   ],
   "source": [
    "c2.__sizeof__() # object consists of this many bytes"
   ]
  }
 ],
 "metadata": {
  "kernelspec": {
   "display_name": "Python 3 (ipykernel)",
   "language": "python",
   "name": "python3"
  },
  "language_info": {
   "codemirror_mode": {
    "name": "ipython",
    "version": 3
   },
   "file_extension": ".py",
   "mimetype": "text/x-python",
   "name": "python",
   "nbconvert_exporter": "python",
   "pygments_lexer": "ipython3",
   "version": "3.11.5"
  }
 },
 "nbformat": 4,
 "nbformat_minor": 5
}
