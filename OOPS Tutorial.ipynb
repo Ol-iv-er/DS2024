{
 "cells": [
  {
   "cell_type": "markdown",
   "id": "48d91401",
   "metadata": {},
   "source": [
    "# OOPS Tutorial in Python"
   ]
  },
  {
   "cell_type": "code",
   "execution_count": 5,
   "id": "8af61f94",
   "metadata": {},
   "outputs": [],
   "source": [
    "# bad way of making class\n",
    "class Car:\n",
    "    pass # this makes this class empty"
   ]
  },
  {
   "cell_type": "code",
   "execution_count": 6,
   "id": "bd8aa34d",
   "metadata": {},
   "outputs": [],
   "source": [
    "# constructor\n",
    "\n",
    "car1 = Car()"
   ]
  },
  {
   "cell_type": "code",
   "execution_count": 7,
   "id": "04dfff67",
   "metadata": {},
   "outputs": [],
   "source": [
    "# adding attribues to car class\n",
    "car1.windows =5\n",
    "car1.doors=4"
   ]
  },
  {
   "cell_type": "code",
   "execution_count": 8,
   "id": "c4c174fa",
   "metadata": {},
   "outputs": [
    {
     "name": "stdout",
     "output_type": "stream",
     "text": [
      "5\n"
     ]
    }
   ],
   "source": [
    "print(car1.windows)"
   ]
  },
  {
   "cell_type": "code",
   "execution_count": 9,
   "id": "3497ebeb",
   "metadata": {},
   "outputs": [],
   "source": [
    "# create another instance differenet than car1\n",
    "car2 = Car()"
   ]
  },
  {
   "cell_type": "code",
   "execution_count": 10,
   "id": "90f8b98c",
   "metadata": {},
   "outputs": [],
   "source": [
    "car2.windows=4\n",
    "car2.doors=2"
   ]
  },
  {
   "cell_type": "code",
   "execution_count": 11,
   "id": "d5fbcdef",
   "metadata": {},
   "outputs": [],
   "source": [
    "car2.engine_type='petrol'"
   ]
  },
  {
   "cell_type": "code",
   "execution_count": 12,
   "id": "fca60519",
   "metadata": {},
   "outputs": [],
   "source": [
    "car1.engine_type='electric'"
   ]
  },
  {
   "cell_type": "markdown",
   "id": "19a34ef3",
   "metadata": {},
   "source": [
    "### Now the right way to make classes"
   ]
  },
  {
   "cell_type": "code",
   "execution_count": 13,
   "id": "123cece6",
   "metadata": {},
   "outputs": [
    {
     "data": {
      "text/plain": [
       "['__class__',\n",
       " '__delattr__',\n",
       " '__dict__',\n",
       " '__dir__',\n",
       " '__doc__',\n",
       " '__eq__',\n",
       " '__format__',\n",
       " '__ge__',\n",
       " '__getattribute__',\n",
       " '__getstate__',\n",
       " '__gt__',\n",
       " '__hash__',\n",
       " '__init__',\n",
       " '__init_subclass__',\n",
       " '__le__',\n",
       " '__lt__',\n",
       " '__module__',\n",
       " '__ne__',\n",
       " '__new__',\n",
       " '__reduce__',\n",
       " '__reduce_ex__',\n",
       " '__repr__',\n",
       " '__setattr__',\n",
       " '__sizeof__',\n",
       " '__str__',\n",
       " '__subclasshook__',\n",
       " '__weakref__',\n",
       " 'doors',\n",
       " 'engine_type',\n",
       " 'windows']"
      ]
     },
     "execution_count": 13,
     "metadata": {},
     "output_type": "execute_result"
    }
   ],
   "source": [
    "## __init__ method is a constructor which is used when new classes are made\n",
    "dir(car1)"
   ]
  },
  {
   "cell_type": "code",
   "execution_count": 63,
   "id": "482e5b5c",
   "metadata": {},
   "outputs": [],
   "source": [
    "class CAR():\n",
    "    def __init__(self, window, door, enginetype):\n",
    "        self.windows=window\n",
    "        self.doors=door\n",
    "        self.enginetype=enginetype\n",
    "    def self_driving(self):\n",
    "        return \"This is a {} car.\".format(self.enginetype)\n",
    "        "
   ]
  },
  {
   "cell_type": "code",
   "execution_count": 64,
   "id": "74a2785c",
   "metadata": {},
   "outputs": [
    {
     "ename": "TypeError",
     "evalue": "CAR.__init__() missing 3 required positional arguments: 'window', 'door', and 'enginetype'",
     "output_type": "error",
     "traceback": [
      "\u001b[0;31m---------------------------------------------------------------------------\u001b[0m",
      "\u001b[0;31mTypeError\u001b[0m                                 Traceback (most recent call last)",
      "Cell \u001b[0;32mIn[64], line 1\u001b[0m\n\u001b[0;32m----> 1\u001b[0m new_car \u001b[38;5;241m=\u001b[39m CAR()\n",
      "\u001b[0;31mTypeError\u001b[0m: CAR.__init__() missing 3 required positional arguments: 'window', 'door', and 'enginetype'"
     ]
    }
   ],
   "source": [
    "new_car = CAR()"
   ]
  },
  {
   "cell_type": "code",
   "execution_count": 65,
   "id": "1ab00e36",
   "metadata": {},
   "outputs": [],
   "source": [
    "new_car = CAR(4,4,'petrol')"
   ]
  },
  {
   "cell_type": "code",
   "execution_count": 66,
   "id": "21bdfdde",
   "metadata": {},
   "outputs": [
    {
     "data": {
      "text/plain": [
       "['__class__',\n",
       " '__delattr__',\n",
       " '__dict__',\n",
       " '__dir__',\n",
       " '__doc__',\n",
       " '__eq__',\n",
       " '__format__',\n",
       " '__ge__',\n",
       " '__getattribute__',\n",
       " '__getstate__',\n",
       " '__gt__',\n",
       " '__hash__',\n",
       " '__init__',\n",
       " '__init_subclass__',\n",
       " '__le__',\n",
       " '__lt__',\n",
       " '__module__',\n",
       " '__ne__',\n",
       " '__new__',\n",
       " '__reduce__',\n",
       " '__reduce_ex__',\n",
       " '__repr__',\n",
       " '__setattr__',\n",
       " '__sizeof__',\n",
       " '__str__',\n",
       " '__subclasshook__',\n",
       " '__weakref__',\n",
       " 'doors',\n",
       " 'enginetype',\n",
       " 'self_driving',\n",
       " 'windows']"
      ]
     },
     "execution_count": 66,
     "metadata": {},
     "output_type": "execute_result"
    }
   ],
   "source": [
    "dir(new_car)"
   ]
  },
  {
   "cell_type": "markdown",
   "id": "25393c1b",
   "metadata": {},
   "source": [
    "Here at the bottom we see the attributes we added to the class aside from the inbuilt python ones."
   ]
  },
  {
   "cell_type": "code",
   "execution_count": 67,
   "id": "ed4c49a7",
   "metadata": {},
   "outputs": [],
   "source": [
    "new_car2 = CAR(4,2,'eletric')"
   ]
  },
  {
   "cell_type": "code",
   "execution_count": 68,
   "id": "f5b30134",
   "metadata": {},
   "outputs": [
    {
     "name": "stdout",
     "output_type": "stream",
     "text": [
      "2\n"
     ]
    }
   ],
   "source": [
    "print(new_car2.doors)"
   ]
  },
  {
   "cell_type": "code",
   "execution_count": 69,
   "id": "a90ae2d3",
   "metadata": {},
   "outputs": [
    {
     "name": "stdout",
     "output_type": "stream",
     "text": [
      "4\n"
     ]
    }
   ],
   "source": [
    "print(new_car.doors)"
   ]
  },
  {
   "cell_type": "code",
   "execution_count": 70,
   "id": "35c000fb",
   "metadata": {},
   "outputs": [
    {
     "data": {
      "text/plain": [
       "'This is a petrol car.'"
      ]
     },
     "execution_count": 70,
     "metadata": {},
     "output_type": "execute_result"
    }
   ],
   "source": [
    "new_car.self_driving()"
   ]
  },
  {
   "cell_type": "code",
   "execution_count": null,
   "id": "bc0e46f1",
   "metadata": {},
   "outputs": [],
   "source": []
  }
 ],
 "metadata": {
  "kernelspec": {
   "display_name": "Python 3 (ipykernel)",
   "language": "python",
   "name": "python3"
  },
  "language_info": {
   "codemirror_mode": {
    "name": "ipython",
    "version": 3
   },
   "file_extension": ".py",
   "mimetype": "text/x-python",
   "name": "python",
   "nbconvert_exporter": "python",
   "pygments_lexer": "ipython3",
   "version": "3.11.5"
  }
 },
 "nbformat": 4,
 "nbformat_minor": 5
}
