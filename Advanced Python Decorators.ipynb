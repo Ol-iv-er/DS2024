{
 "cells": [
  {
   "cell_type": "markdown",
   "id": "31da51b4",
   "metadata": {},
   "source": [
    "# Python Decorators"
   ]
  },
  {
   "cell_type": "code",
   "execution_count": 1,
   "id": "919e9244",
   "metadata": {},
   "outputs": [],
   "source": [
    "## function copy\n",
    "## closures\n",
    "## decorators"
   ]
  },
  {
   "cell_type": "code",
   "execution_count": 2,
   "id": "938e03af",
   "metadata": {},
   "outputs": [],
   "source": [
    "def welcome():\n",
    "    print(\"Welcome to the Jungle!\")"
   ]
  },
  {
   "cell_type": "code",
   "execution_count": 3,
   "id": "7aed30c9",
   "metadata": {},
   "outputs": [
    {
     "name": "stdout",
     "output_type": "stream",
     "text": [
      "Welcome to the Jungle!\n"
     ]
    }
   ],
   "source": [
    "wel = welcome()"
   ]
  },
  {
   "cell_type": "code",
   "execution_count": 4,
   "id": "2c1c15e9",
   "metadata": {},
   "outputs": [],
   "source": [
    "def welcome():\n",
    "    return \"Welcome to the Jungle!\""
   ]
  },
  {
   "cell_type": "code",
   "execution_count": 5,
   "id": "dc370c9d",
   "metadata": {},
   "outputs": [],
   "source": [
    "wel1 = welcome # here the welcome function has been copied\n",
    "del welcome"
   ]
  },
  {
   "cell_type": "code",
   "execution_count": 6,
   "id": "0f3812b7",
   "metadata": {},
   "outputs": [
    {
     "data": {
      "text/plain": [
       "<function __main__.welcome()>"
      ]
     },
     "execution_count": 6,
     "metadata": {},
     "output_type": "execute_result"
    }
   ],
   "source": [
    "wel1"
   ]
  },
  {
   "cell_type": "code",
   "execution_count": 7,
   "id": "9d937666",
   "metadata": {},
   "outputs": [
    {
     "ename": "NameError",
     "evalue": "name 'welcome' is not defined",
     "output_type": "error",
     "traceback": [
      "\u001b[0;31m---------------------------------------------------------------------------\u001b[0m",
      "\u001b[0;31mNameError\u001b[0m                                 Traceback (most recent call last)",
      "Cell \u001b[0;32mIn[7], line 1\u001b[0m\n\u001b[0;32m----> 1\u001b[0m welcome()\n",
      "\u001b[0;31mNameError\u001b[0m: name 'welcome' is not defined"
     ]
    }
   ],
   "source": [
    "welcome() # we see here that we have deleted it"
   ]
  },
  {
   "cell_type": "code",
   "execution_count": 8,
   "id": "c200f876",
   "metadata": {},
   "outputs": [],
   "source": [
    "### closures\n",
    "#### functions inside functions\n",
    "\n",
    "def main_welcome():\n",
    "    msg = 'Hello everyone'\n",
    "    def sub_welcome(): # the sub fucntion can access all the variables in the main function\n",
    "        print('Welcome to this New World.')\n",
    "        print(msg)\n",
    "        print(\"Please say hello to everyone.\")\n",
    "    return sub_welcome()"
   ]
  },
  {
   "cell_type": "code",
   "execution_count": 9,
   "id": "74e93359",
   "metadata": {},
   "outputs": [
    {
     "name": "stdout",
     "output_type": "stream",
     "text": [
      "Welcome to this New World.\n",
      "Hello everyone\n",
      "Please say hello to everyone.\n"
     ]
    }
   ],
   "source": [
    "main_welcome()"
   ]
  },
  {
   "cell_type": "code",
   "execution_count": 12,
   "id": "5c079fd1",
   "metadata": {},
   "outputs": [],
   "source": [
    "def main_welcome(msg):\n",
    "    \n",
    "    def sub_welcome(): # the sub function can access all the variables in the main function\n",
    "        print('Welcome to this New World.')\n",
    "        print(msg)\n",
    "        print(\"Please say hello to everyone.\")\n",
    "    return sub_welcome()"
   ]
  },
  {
   "cell_type": "code",
   "execution_count": 13,
   "id": "b79798e8",
   "metadata": {},
   "outputs": [
    {
     "name": "stdout",
     "output_type": "stream",
     "text": [
      "Welcome to this New World.\n",
      "Oliver\n",
      "Please say hello to everyone.\n"
     ]
    }
   ],
   "source": [
    "main_welcome('Oliver') # using sub functions is part of closure as we can use arugments passed through parent functions"
   ]
  },
  {
   "cell_type": "code",
   "execution_count": 17,
   "id": "7c61d5c4",
   "metadata": {},
   "outputs": [],
   "source": [
    "### closures & initial decorators\n",
    "def main_welcome(func):\n",
    "    \n",
    "    def sub_welcome(): # the sub function can access all the variables in the main function\n",
    "        print('Welcome to this New World.')\n",
    "        func(\"this is a random text\") # we can pass other functins as arugments too\n",
    "        print(\"Please say hello to everyone.\")\n",
    "    return sub_welcome()"
   ]
  },
  {
   "cell_type": "code",
   "execution_count": 18,
   "id": "26f3cf16",
   "metadata": {},
   "outputs": [
    {
     "name": "stdout",
     "output_type": "stream",
     "text": [
      "Welcome to this New World.\n",
      "this is a random text\n",
      "Please say hello to everyone.\n"
     ]
    }
   ],
   "source": [
    "main_welcome(print) # the print function here is passed and called"
   ]
  },
  {
   "cell_type": "code",
   "execution_count": 19,
   "id": "28df2236",
   "metadata": {},
   "outputs": [],
   "source": [
    "### these functions are the start of decorators"
   ]
  },
  {
   "cell_type": "code",
   "execution_count": 22,
   "id": "f6e2da5f",
   "metadata": {},
   "outputs": [],
   "source": [
    "def main_welcome(func):\n",
    "    \n",
    "    def sub_welcome(): # the sub function can access all the variables in the main function\n",
    "        print('Welcome to this New World.')\n",
    "        print(func([1,2,3,4,5])) # we can pass other functins as arugments too\n",
    "        print(\"Please say hello to everyone.\")\n",
    "    return sub_welcome()"
   ]
  },
  {
   "cell_type": "code",
   "execution_count": 23,
   "id": "7eb87dc2",
   "metadata": {},
   "outputs": [
    {
     "name": "stdout",
     "output_type": "stream",
     "text": [
      "Welcome to this New World.\n",
      "5\n",
      "Please say hello to everyone.\n"
     ]
    }
   ],
   "source": [
    "main_welcome(len) # this works for inbuilt functions"
   ]
  },
  {
   "cell_type": "code",
   "execution_count": null,
   "id": "78062040",
   "metadata": {},
   "outputs": [],
   "source": [
    "### Decorators"
   ]
  },
  {
   "cell_type": "code",
   "execution_count": 25,
   "id": "62439dbd",
   "metadata": {},
   "outputs": [],
   "source": [
    "## lets try our own function"
   ]
  },
  {
   "cell_type": "code",
   "execution_count": 33,
   "id": "8599f83b",
   "metadata": {},
   "outputs": [],
   "source": [
    "\n",
    "def main_welcome(func):\n",
    "    \n",
    "    def sub_welcome(): # the sub function can access all the variables in the main function\n",
    "        print('Welcome to this New World.')\n",
    "        func()\n",
    "        print(\"Please say hello to everyone.\")\n",
    "    return sub_welcome()"
   ]
  },
  {
   "cell_type": "code",
   "execution_count": 34,
   "id": "af645fd0",
   "metadata": {},
   "outputs": [],
   "source": [
    "def workout_motivations():\n",
    "    print(\"You can do, light work!\")"
   ]
  },
  {
   "cell_type": "code",
   "execution_count": 35,
   "id": "d55d3c2e",
   "metadata": {},
   "outputs": [
    {
     "name": "stdout",
     "output_type": "stream",
     "text": [
      "Welcome to this New World.\n",
      "You can do, light work!\n",
      "Please say hello to everyone.\n"
     ]
    }
   ],
   "source": [
    "a=main_welcome(workout_motivations)"
   ]
  },
  {
   "cell_type": "code",
   "execution_count": 36,
   "id": "d58238f4",
   "metadata": {},
   "outputs": [
    {
     "name": "stdout",
     "output_type": "stream",
     "text": [
      "Welcome to this New World.\n",
      "You can do, light work!\n",
      "Please say hello to everyone.\n"
     ]
    }
   ],
   "source": [
    "# the above two boxes are equivanet to the code below; define and call the function that is going to get passed and in which function is will get passed to.\n",
    "@main_welcome\n",
    "def workout_motivations():\n",
    "    print(\"You can do, light work!\")"
   ]
  },
  {
   "cell_type": "code",
   "execution_count": 37,
   "id": "dac8cc65",
   "metadata": {},
   "outputs": [
    {
     "name": "stdout",
     "output_type": "stream",
     "text": [
      "Welcome to this New World.\n",
      "all text is lowercase\n",
      "Please say hello to everyone.\n"
     ]
    }
   ],
   "source": [
    "@main_welcome\n",
    "def whisper():\n",
    "    print(\"all text is lowercase\")"
   ]
  },
  {
   "cell_type": "code",
   "execution_count": 39,
   "id": "da6c7f95",
   "metadata": {},
   "outputs": [],
   "source": [
    "### more examples.\n",
    "\n",
    "def greetings(personality):\n",
    "    greeting = personality('Hello nice to meet you.')\n",
    "    print(greeting)"
   ]
  },
  {
   "cell_type": "code",
   "execution_count": 40,
   "id": "ef2f0bc1",
   "metadata": {},
   "outputs": [
    {
     "name": "stdout",
     "output_type": "stream",
     "text": [
      "hello nice to meet you.\n"
     ]
    }
   ],
   "source": [
    "@greetings\n",
    "def introvert(text):\n",
    "    return text.lower()"
   ]
  },
  {
   "cell_type": "code",
   "execution_count": 41,
   "id": "902e0dcf",
   "metadata": {},
   "outputs": [
    {
     "name": "stdout",
     "output_type": "stream",
     "text": [
      "HELLO NICE TO MEET YOU.\n"
     ]
    }
   ],
   "source": [
    "@greetings # this decorates the function you are going to call and pass in the function you desire and execute at the same time\n",
    "def extrovert(text):\n",
    "    return text.upper()"
   ]
  },
  {
   "cell_type": "markdown",
   "id": "16cbf917",
   "metadata": {},
   "source": [
    "We use decorators so we can diversify the functionality of functions"
   ]
  }
 ],
 "metadata": {
  "kernelspec": {
   "display_name": "Python 3 (ipykernel)",
   "language": "python",
   "name": "python3"
  },
  "language_info": {
   "codemirror_mode": {
    "name": "ipython",
    "version": 3
   },
   "file_extension": ".py",
   "mimetype": "text/x-python",
   "name": "python",
   "nbconvert_exporter": "python",
   "pygments_lexer": "ipython3",
   "version": "3.11.5"
  }
 },
 "nbformat": 4,
 "nbformat_minor": 5
}
